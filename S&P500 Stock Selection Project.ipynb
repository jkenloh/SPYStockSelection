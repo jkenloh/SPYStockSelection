{
 "cells": [
  {
   "cell_type": "markdown",
   "id": "83faefee",
   "metadata": {},
   "source": [
    "# S&P 500 Stock Selection\n",
    "## SQL Database and Data Analysis Using Python\n",
    "<hr style=\"border:1px solid gray\">\n",
    "\n",
    "## Table Of Contents\n",
    "1. [Project Objective](#projectobjective)\n",
    "\n",
    "\n",
    "2. [Preliminaries](#preliminaries)\n",
    "\n",
    "\n",
    "3. [Creating SQL Database](#sqldatabase)\\\n",
    "    i. [Updating SQL Database](#sqldatabase2)\\\n",
    "    ii. [Importing From SQL Database](#sqldatabase3)\n",
    "    \n",
    "    \n",
    "4. [Analysis](#analysis)\\\n",
    "    i. [Initial Stocks Selection](#analysis2)\\\n",
    "    ii. [Performance Calculations](#analysis3)\\\n",
    "    iii. [Results Comparison](#analysis4)\n",
    "\n",
    "\n",
    "5. [Final Results](#final)\n",
    "\n",
    "<hr style=\"border:1px solid gray\">"
   ]
  },
  {
   "cell_type": "markdown",
   "id": "e00f45dd",
   "metadata": {},
   "source": [
    "## Project Objective <a name=\"projectobjective\"></a>\n",
    "\n",
    "The primary goal of this project is to find five stocks from the S&P 500 index that can be held over a 3-year period in an equal-weighted portfolio that can outperform the index on an absolute and risk-adjusted basis.\n",
    "\n",
    "### Process to find the five stocks:\n",
    "\n",
    "* Retrieve data for S&P 500 stocks, also including stocks removed from the index to avoid survivorship bias.\n",
    "\n",
    "    \n",
    "* Create two hypothetical portfolios; one with five stocks chosen based on Sharpe ratio, and the other chosen based on mean daily returns. Data used for calculations will be from a 5-year period starting from 2015-01-01 to 2020-01-01. \n",
    "\n",
    "    \n",
    "* Calculate metrics for both these portfolios using data of the next 3 years, starting from 2020-01-01 to 2023-01-01, and compare this with the performance of the S&P 500 index. \n",
    "\n",
    "   \n",
    "* Select the portfolio that had the best performance and use the same selection criteria to choose another five stocks, this time using data for a more recent 5-year period, starting from 2018-01-01 to 2023-01-01. This portfolio will be the final result of the analysis. \n",
    "    \n",
    "\n",
    "## Data\n",
    "### SQL Database Creation\n",
    "\n",
    "Stock data will be downloaded from Yahoo Finance using the yfinance Python library. It will then be transferred to an SQL database using the SQL toolkit SQLalchemy and SQlite. There is a function within this project to update the SQL database without re-downloading the initial data. The data will then be retrieved from this database in order to do analysis in Python. \n",
    "\n",
    "### Addressing Survivorship Bias\n",
    "\n",
    "As the S&P 500 components get updated periodically, the dataset must be modified to include companies that were removed from the index to avoid survivorship bias. Stock prices will only be shown on dates when the company was included in the index. \n",
    "\n",
    "<hr style=\"border:1px solid gray\">\n",
    "\n",
    "### Preliminaries <a name=\"preliminaries\"></a>"
   ]
  },
  {
   "cell_type": "code",
   "execution_count": 1,
   "id": "360373d7",
   "metadata": {},
   "outputs": [],
   "source": [
    "# Import packages required.\n",
    "import pandas as pd\n",
    "import numpy as np\n",
    "import yfinance as yf\n",
    "from sqlalchemy import create_engine\n",
    "import datetime \n",
    "import matplotlib.pyplot as plt"
   ]
  },
  {
   "cell_type": "code",
   "execution_count": 2,
   "id": "d30889b4",
   "metadata": {},
   "outputs": [
    {
     "data": {
      "text/html": [
       "<div>\n",
       "<style scoped>\n",
       "    .dataframe tbody tr th:only-of-type {\n",
       "        vertical-align: middle;\n",
       "    }\n",
       "\n",
       "    .dataframe tbody tr th {\n",
       "        vertical-align: top;\n",
       "    }\n",
       "\n",
       "    .dataframe thead th {\n",
       "        text-align: right;\n",
       "    }\n",
       "</style>\n",
       "<table border=\"1\" class=\"dataframe\">\n",
       "  <thead>\n",
       "    <tr style=\"text-align: right;\">\n",
       "      <th></th>\n",
       "      <th>Symbol</th>\n",
       "      <th>Date added</th>\n",
       "    </tr>\n",
       "  </thead>\n",
       "  <tbody>\n",
       "    <tr>\n",
       "      <th>0</th>\n",
       "      <td>MMM</td>\n",
       "      <td>1957-03-04</td>\n",
       "    </tr>\n",
       "    <tr>\n",
       "      <th>1</th>\n",
       "      <td>AOS</td>\n",
       "      <td>2017-07-26</td>\n",
       "    </tr>\n",
       "    <tr>\n",
       "      <th>2</th>\n",
       "      <td>ABT</td>\n",
       "      <td>1957-03-04</td>\n",
       "    </tr>\n",
       "    <tr>\n",
       "      <th>3</th>\n",
       "      <td>ABBV</td>\n",
       "      <td>2012-12-31</td>\n",
       "    </tr>\n",
       "    <tr>\n",
       "      <th>4</th>\n",
       "      <td>ACN</td>\n",
       "      <td>2011-07-06</td>\n",
       "    </tr>\n",
       "    <tr>\n",
       "      <th>...</th>\n",
       "      <td>...</td>\n",
       "      <td>...</td>\n",
       "    </tr>\n",
       "    <tr>\n",
       "      <th>498</th>\n",
       "      <td>YUM</td>\n",
       "      <td>1997-10-06</td>\n",
       "    </tr>\n",
       "    <tr>\n",
       "      <th>499</th>\n",
       "      <td>ZBRA</td>\n",
       "      <td>2019-12-23</td>\n",
       "    </tr>\n",
       "    <tr>\n",
       "      <th>500</th>\n",
       "      <td>ZBH</td>\n",
       "      <td>2001-08-07</td>\n",
       "    </tr>\n",
       "    <tr>\n",
       "      <th>501</th>\n",
       "      <td>ZION</td>\n",
       "      <td>2001-06-22</td>\n",
       "    </tr>\n",
       "    <tr>\n",
       "      <th>502</th>\n",
       "      <td>ZTS</td>\n",
       "      <td>2013-06-21</td>\n",
       "    </tr>\n",
       "  </tbody>\n",
       "</table>\n",
       "<p>503 rows × 2 columns</p>\n",
       "</div>"
      ],
      "text/plain": [
       "    Symbol  Date added\n",
       "0      MMM  1957-03-04\n",
       "1      AOS  2017-07-26\n",
       "2      ABT  1957-03-04\n",
       "3     ABBV  2012-12-31\n",
       "4      ACN  2011-07-06\n",
       "..     ...         ...\n",
       "498    YUM  1997-10-06\n",
       "499   ZBRA  2019-12-23\n",
       "500    ZBH  2001-08-07\n",
       "501   ZION  2001-06-22\n",
       "502    ZTS  2013-06-21\n",
       "\n",
       "[503 rows x 2 columns]"
      ]
     },
     "execution_count": 2,
     "metadata": {},
     "output_type": "execute_result"
    }
   ],
   "source": [
    "# Getting dataframe with ticker names and date added to S&P500 from Wikipedia page.\n",
    "SPYtickers = pd.read_html('https://en.wikipedia.org/wiki/List_of_S%26P_500_companies')[0][['Symbol', 'Date added']]\n",
    "SPYtickers"
   ]
  },
  {
   "cell_type": "code",
   "execution_count": 3,
   "id": "fb4f1b9f",
   "metadata": {},
   "outputs": [],
   "source": [
    "# Creating a list with all current SPY ticker names. Removed tickers will be added to this list later as well.\n",
    "SPYalltickers = SPYtickers['Symbol'].to_list()"
   ]
  },
  {
   "cell_type": "code",
   "execution_count": 4,
   "id": "1f39a71a",
   "metadata": {},
   "outputs": [
    {
     "data": {
      "text/html": [
       "<div>\n",
       "<style scoped>\n",
       "    .dataframe tbody tr th:only-of-type {\n",
       "        vertical-align: middle;\n",
       "    }\n",
       "\n",
       "    .dataframe tbody tr th {\n",
       "        vertical-align: top;\n",
       "    }\n",
       "\n",
       "    .dataframe thead th {\n",
       "        text-align: right;\n",
       "    }\n",
       "</style>\n",
       "<table border=\"1\" class=\"dataframe\">\n",
       "  <thead>\n",
       "    <tr style=\"text-align: right;\">\n",
       "      <th></th>\n",
       "      <th>Symbol</th>\n",
       "      <th>Date added</th>\n",
       "    </tr>\n",
       "  </thead>\n",
       "  <tbody>\n",
       "    <tr>\n",
       "      <th>1</th>\n",
       "      <td>AOS</td>\n",
       "      <td>2017-07-26</td>\n",
       "    </tr>\n",
       "    <tr>\n",
       "      <th>5</th>\n",
       "      <td>ATVI</td>\n",
       "      <td>2015-08-31</td>\n",
       "    </tr>\n",
       "    <tr>\n",
       "      <th>9</th>\n",
       "      <td>AAP</td>\n",
       "      <td>2015-07-09</td>\n",
       "    </tr>\n",
       "    <tr>\n",
       "      <th>15</th>\n",
       "      <td>ALK</td>\n",
       "      <td>2016-05-13</td>\n",
       "    </tr>\n",
       "    <tr>\n",
       "      <th>16</th>\n",
       "      <td>ALB</td>\n",
       "      <td>2016-07-01</td>\n",
       "    </tr>\n",
       "    <tr>\n",
       "      <th>...</th>\n",
       "      <td>...</td>\n",
       "      <td>...</td>\n",
       "    </tr>\n",
       "    <tr>\n",
       "      <th>478</th>\n",
       "      <td>WAB</td>\n",
       "      <td>2019-02-27</td>\n",
       "    </tr>\n",
       "    <tr>\n",
       "      <th>481</th>\n",
       "      <td>WBD</td>\n",
       "      <td>2022-04-11</td>\n",
       "    </tr>\n",
       "    <tr>\n",
       "      <th>487</th>\n",
       "      <td>WST</td>\n",
       "      <td>2020-05-22</td>\n",
       "    </tr>\n",
       "    <tr>\n",
       "      <th>493</th>\n",
       "      <td>WTW</td>\n",
       "      <td>2016-01-05</td>\n",
       "    </tr>\n",
       "    <tr>\n",
       "      <th>499</th>\n",
       "      <td>ZBRA</td>\n",
       "      <td>2019-12-23</td>\n",
       "    </tr>\n",
       "  </tbody>\n",
       "</table>\n",
       "<p>154 rows × 2 columns</p>\n",
       "</div>"
      ],
      "text/plain": [
       "    Symbol  Date added\n",
       "1      AOS  2017-07-26\n",
       "5     ATVI  2015-08-31\n",
       "9      AAP  2015-07-09\n",
       "15     ALK  2016-05-13\n",
       "16     ALB  2016-07-01\n",
       "..     ...         ...\n",
       "478    WAB  2019-02-27\n",
       "481    WBD  2022-04-11\n",
       "487    WST  2020-05-22\n",
       "493    WTW  2016-01-05\n",
       "499   ZBRA  2019-12-23\n",
       "\n",
       "[154 rows x 2 columns]"
      ]
     },
     "execution_count": 4,
     "metadata": {},
     "output_type": "execute_result"
    }
   ],
   "source": [
    "# Analysis starting date will be 2015-01-01, so filtering out another dataframe that only lists names added after 2015-01-01.\n",
    "SPY2015 = SPYtickers[SPYtickers['Date added'] > '2015-01-01']\n",
    "SPY2015"
   ]
  },
  {
   "cell_type": "code",
   "execution_count": 5,
   "id": "c410f09a",
   "metadata": {},
   "outputs": [
    {
     "data": {
      "text/html": [
       "<div>\n",
       "<style scoped>\n",
       "    .dataframe tbody tr th:only-of-type {\n",
       "        vertical-align: middle;\n",
       "    }\n",
       "\n",
       "    .dataframe tbody tr th {\n",
       "        vertical-align: top;\n",
       "    }\n",
       "\n",
       "    .dataframe thead tr th {\n",
       "        text-align: left;\n",
       "    }\n",
       "</style>\n",
       "<table border=\"1\" class=\"dataframe\">\n",
       "  <thead>\n",
       "    <tr>\n",
       "      <th></th>\n",
       "      <th>Date</th>\n",
       "      <th colspan=\"2\" halign=\"left\">Removed</th>\n",
       "    </tr>\n",
       "    <tr>\n",
       "      <th></th>\n",
       "      <th>Date</th>\n",
       "      <th>Ticker</th>\n",
       "      <th>Security</th>\n",
       "    </tr>\n",
       "  </thead>\n",
       "  <tbody>\n",
       "    <tr>\n",
       "      <th>0</th>\n",
       "      <td>June 20, 2023</td>\n",
       "      <td>DISH</td>\n",
       "      <td>Dish Network</td>\n",
       "    </tr>\n",
       "    <tr>\n",
       "      <th>1</th>\n",
       "      <td>May 4, 2023</td>\n",
       "      <td>FRC</td>\n",
       "      <td>First Republic Bank</td>\n",
       "    </tr>\n",
       "    <tr>\n",
       "      <th>2</th>\n",
       "      <td>March 20, 2023</td>\n",
       "      <td>LUMN</td>\n",
       "      <td>Lumen Technologies</td>\n",
       "    </tr>\n",
       "    <tr>\n",
       "      <th>3</th>\n",
       "      <td>March 15, 2023</td>\n",
       "      <td>SBNY</td>\n",
       "      <td>Signature Bank</td>\n",
       "    </tr>\n",
       "    <tr>\n",
       "      <th>4</th>\n",
       "      <td>March 15, 2023</td>\n",
       "      <td>SIVB</td>\n",
       "      <td>SVB Financial Group</td>\n",
       "    </tr>\n",
       "    <tr>\n",
       "      <th>...</th>\n",
       "      <td>...</td>\n",
       "      <td>...</td>\n",
       "      <td>...</td>\n",
       "    </tr>\n",
       "    <tr>\n",
       "      <th>320</th>\n",
       "      <td>June 9, 1999</td>\n",
       "      <td>HPH</td>\n",
       "      <td>Harnischfeger Industries</td>\n",
       "    </tr>\n",
       "    <tr>\n",
       "      <th>321</th>\n",
       "      <td>December 11, 1998</td>\n",
       "      <td>LDW</td>\n",
       "      <td>Amoco</td>\n",
       "    </tr>\n",
       "    <tr>\n",
       "      <th>322</th>\n",
       "      <td>December 11, 1998</td>\n",
       "      <td>GRN</td>\n",
       "      <td>General Re</td>\n",
       "    </tr>\n",
       "    <tr>\n",
       "      <th>323</th>\n",
       "      <td>December 11, 1998</td>\n",
       "      <td>SUN</td>\n",
       "      <td>SunAmerica</td>\n",
       "    </tr>\n",
       "    <tr>\n",
       "      <th>324</th>\n",
       "      <td>June 17, 1997</td>\n",
       "      <td>USL</td>\n",
       "      <td>USLife</td>\n",
       "    </tr>\n",
       "  </tbody>\n",
       "</table>\n",
       "<p>325 rows × 3 columns</p>\n",
       "</div>"
      ],
      "text/plain": [
       "                  Date Removed                          \n",
       "                  Date  Ticker                  Security\n",
       "0        June 20, 2023    DISH              Dish Network\n",
       "1          May 4, 2023     FRC       First Republic Bank\n",
       "2       March 20, 2023    LUMN        Lumen Technologies\n",
       "3       March 15, 2023    SBNY            Signature Bank\n",
       "4       March 15, 2023    SIVB       SVB Financial Group\n",
       "..                 ...     ...                       ...\n",
       "320       June 9, 1999     HPH  Harnischfeger Industries\n",
       "321  December 11, 1998     LDW                     Amoco\n",
       "322  December 11, 1998     GRN                General Re\n",
       "323  December 11, 1998     SUN                SunAmerica\n",
       "324      June 17, 1997     USL                    USLife\n",
       "\n",
       "[325 rows x 3 columns]"
      ]
     },
     "execution_count": 5,
     "metadata": {},
     "output_type": "execute_result"
    }
   ],
   "source": [
    "# Find the tickers that had been removed from the index.\n",
    "# On the same wikipedia page, there is another table that lists date and component changes of the S&P 500.\n",
    "removed_tickers = pd.read_html('https://en.wikipedia.org/wiki/List_of_S%26P_500_companies')[1][['Date', 'Removed']]\n",
    "removed_tickers"
   ]
  },
  {
   "cell_type": "code",
   "execution_count": 6,
   "id": "f04f1f19",
   "metadata": {},
   "outputs": [
    {
     "data": {
      "text/html": [
       "<div>\n",
       "<style scoped>\n",
       "    .dataframe tbody tr th:only-of-type {\n",
       "        vertical-align: middle;\n",
       "    }\n",
       "\n",
       "    .dataframe tbody tr th {\n",
       "        vertical-align: top;\n",
       "    }\n",
       "\n",
       "    .dataframe thead tr th {\n",
       "        text-align: left;\n",
       "    }\n",
       "\n",
       "    .dataframe thead tr:last-of-type th {\n",
       "        text-align: right;\n",
       "    }\n",
       "</style>\n",
       "<table border=\"1\" class=\"dataframe\">\n",
       "  <thead>\n",
       "    <tr>\n",
       "      <th></th>\n",
       "      <th>Date</th>\n",
       "      <th colspan=\"2\" halign=\"left\">Removed</th>\n",
       "    </tr>\n",
       "    <tr>\n",
       "      <th></th>\n",
       "      <th>Date</th>\n",
       "      <th>Ticker</th>\n",
       "      <th>Security</th>\n",
       "    </tr>\n",
       "    <tr>\n",
       "      <th>Date</th>\n",
       "      <th></th>\n",
       "      <th></th>\n",
       "      <th></th>\n",
       "    </tr>\n",
       "  </thead>\n",
       "  <tbody>\n",
       "    <tr>\n",
       "      <th>June 20, 2023</th>\n",
       "      <td>June 20, 2023</td>\n",
       "      <td>DISH</td>\n",
       "      <td>Dish Network</td>\n",
       "    </tr>\n",
       "    <tr>\n",
       "      <th>May 4, 2023</th>\n",
       "      <td>May 4, 2023</td>\n",
       "      <td>FRC</td>\n",
       "      <td>First Republic Bank</td>\n",
       "    </tr>\n",
       "    <tr>\n",
       "      <th>March 20, 2023</th>\n",
       "      <td>March 20, 2023</td>\n",
       "      <td>LUMN</td>\n",
       "      <td>Lumen Technologies</td>\n",
       "    </tr>\n",
       "    <tr>\n",
       "      <th>March 15, 2023</th>\n",
       "      <td>March 15, 2023</td>\n",
       "      <td>SBNY</td>\n",
       "      <td>Signature Bank</td>\n",
       "    </tr>\n",
       "    <tr>\n",
       "      <th>March 15, 2023</th>\n",
       "      <td>March 15, 2023</td>\n",
       "      <td>SIVB</td>\n",
       "      <td>SVB Financial Group</td>\n",
       "    </tr>\n",
       "  </tbody>\n",
       "</table>\n",
       "</div>"
      ],
      "text/plain": [
       "                          Date Removed                     \n",
       "                          Date  Ticker             Security\n",
       "Date                                                       \n",
       "June 20, 2023    June 20, 2023    DISH         Dish Network\n",
       "May 4, 2023        May 4, 2023     FRC  First Republic Bank\n",
       "March 20, 2023  March 20, 2023    LUMN   Lumen Technologies\n",
       "March 15, 2023  March 15, 2023    SBNY       Signature Bank\n",
       "March 15, 2023  March 15, 2023    SIVB  SVB Financial Group"
      ]
     },
     "execution_count": 6,
     "metadata": {},
     "output_type": "execute_result"
    }
   ],
   "source": [
    "# Set date as index\n",
    "removed_tickers = removed_tickers.set_index(removed_tickers['Date']['Date'])\n",
    "removed_tickers.head()"
   ]
  },
  {
   "cell_type": "code",
   "execution_count": 7,
   "id": "9f6e3b3c",
   "metadata": {},
   "outputs": [
    {
     "data": {
      "text/html": [
       "<div>\n",
       "<style scoped>\n",
       "    .dataframe tbody tr th:only-of-type {\n",
       "        vertical-align: middle;\n",
       "    }\n",
       "\n",
       "    .dataframe tbody tr th {\n",
       "        vertical-align: top;\n",
       "    }\n",
       "\n",
       "    .dataframe thead th {\n",
       "        text-align: right;\n",
       "    }\n",
       "</style>\n",
       "<table border=\"1\" class=\"dataframe\">\n",
       "  <thead>\n",
       "    <tr style=\"text-align: right;\">\n",
       "      <th></th>\n",
       "      <th>Ticker</th>\n",
       "      <th>Security</th>\n",
       "    </tr>\n",
       "    <tr>\n",
       "      <th>Date</th>\n",
       "      <th></th>\n",
       "      <th></th>\n",
       "    </tr>\n",
       "  </thead>\n",
       "  <tbody>\n",
       "    <tr>\n",
       "      <th>2023-06-20</th>\n",
       "      <td>DISH</td>\n",
       "      <td>Dish Network</td>\n",
       "    </tr>\n",
       "    <tr>\n",
       "      <th>2023-05-04</th>\n",
       "      <td>FRC</td>\n",
       "      <td>First Republic Bank</td>\n",
       "    </tr>\n",
       "    <tr>\n",
       "      <th>2023-03-20</th>\n",
       "      <td>LUMN</td>\n",
       "      <td>Lumen Technologies</td>\n",
       "    </tr>\n",
       "    <tr>\n",
       "      <th>2023-03-15</th>\n",
       "      <td>SBNY</td>\n",
       "      <td>Signature Bank</td>\n",
       "    </tr>\n",
       "    <tr>\n",
       "      <th>2023-03-15</th>\n",
       "      <td>SIVB</td>\n",
       "      <td>SVB Financial Group</td>\n",
       "    </tr>\n",
       "    <tr>\n",
       "      <th>...</th>\n",
       "      <td>...</td>\n",
       "      <td>...</td>\n",
       "    </tr>\n",
       "    <tr>\n",
       "      <th>2015-03-23</th>\n",
       "      <td>AVP</td>\n",
       "      <td>Avon Products</td>\n",
       "    </tr>\n",
       "    <tr>\n",
       "      <th>2015-03-18</th>\n",
       "      <td>CFN</td>\n",
       "      <td>Carefusion</td>\n",
       "    </tr>\n",
       "    <tr>\n",
       "      <th>2015-03-12</th>\n",
       "      <td>PETM</td>\n",
       "      <td>PetSmart</td>\n",
       "    </tr>\n",
       "    <tr>\n",
       "      <th>2015-01-27</th>\n",
       "      <td>SWY</td>\n",
       "      <td>Safeway</td>\n",
       "    </tr>\n",
       "    <tr>\n",
       "      <th>2015-01-27</th>\n",
       "      <td>COV</td>\n",
       "      <td>Covidien</td>\n",
       "    </tr>\n",
       "  </tbody>\n",
       "</table>\n",
       "<p>186 rows × 2 columns</p>\n",
       "</div>"
      ],
      "text/plain": [
       "           Ticker             Security\n",
       "Date                                  \n",
       "2023-06-20   DISH         Dish Network\n",
       "2023-05-04    FRC  First Republic Bank\n",
       "2023-03-20   LUMN   Lumen Technologies\n",
       "2023-03-15   SBNY       Signature Bank\n",
       "2023-03-15   SIVB  SVB Financial Group\n",
       "...           ...                  ...\n",
       "2015-03-23    AVP        Avon Products\n",
       "2015-03-18    CFN           Carefusion\n",
       "2015-03-12   PETM             PetSmart\n",
       "2015-01-27    SWY              Safeway\n",
       "2015-01-27    COV             Covidien\n",
       "\n",
       "[186 rows x 2 columns]"
      ]
     },
     "execution_count": 7,
     "metadata": {},
     "output_type": "execute_result"
    }
   ],
   "source": [
    "# Setting index as datetime and filtering for start date later than 2015-01-01. \n",
    "# Dropping null values as there were rows in the Wikipedia table that were blank in the 'Removed' column.\n",
    "removed_tickers.index = pd.to_datetime(removed_tickers.index)\n",
    "removed_tickers = removed_tickers[removed_tickers.index > '2015-01-01']\n",
    "removed_tickers = removed_tickers['Removed'].dropna()\n",
    "removed_tickers"
   ]
  },
  {
   "cell_type": "code",
   "execution_count": 8,
   "id": "ca870be3",
   "metadata": {},
   "outputs": [],
   "source": [
    "# Adding this list of removed tickers to our SPY tickers list.\n",
    "SPYalltickers.extend(removed_tickers['Ticker'])"
   ]
  },
  {
   "cell_type": "code",
   "execution_count": 9,
   "id": "e163f886",
   "metadata": {},
   "outputs": [],
   "source": [
    "# Renaming tickers 'BF.B' and 'BRK.B' to 'BF-B' and 'BRK-B' to make them match with how they are named on Yahoo Finance.\n",
    "# If tickers do not match, it will not successfully pull the data.\n",
    "SPYalltickers = ['BF-B' if i=='BF.B' else i for i in SPYalltickers]\n",
    "SPYalltickers = ['BRK-B' if i=='BRK.B' else i for i in SPYalltickers]"
   ]
  },
  {
   "cell_type": "code",
   "execution_count": 10,
   "id": "721065af",
   "metadata": {},
   "outputs": [
    {
     "name": "stdout",
     "output_type": "stream",
     "text": [
      "689\n",
      "683\n"
     ]
    }
   ],
   "source": [
    "# Checking for duplicates; important when exporting to SQL as it can cause errors if not accounted for.\n",
    "print(len(SPYalltickers)) \n",
    "print(len(set(SPYalltickers)))\n",
    "# There are duplicates in the list as the lengths do not match. \n",
    "# Remove duplicates.\n",
    "SPYalltickers = list(set(SPYalltickers))"
   ]
  },
  {
   "cell_type": "code",
   "execution_count": 11,
   "id": "d7fb9e61",
   "metadata": {},
   "outputs": [],
   "source": [
    "# Creating function to import data from yfinance to prepare for export to SQL database.\n",
    "def getdata(tickers):\n",
    "    data = []\n",
    "    for ticker in tickers:\n",
    "        # reset_index to move 'Date' out of index and into column.\n",
    "        data.append(yf.download(ticker, start='2015-01-01', progress=False).reset_index())\n",
    "    print('Download complete.')\n",
    "    return data"
   ]
  },
  {
   "cell_type": "code",
   "execution_count": 12,
   "id": "ee451226",
   "metadata": {},
   "outputs": [
    {
     "name": "stderr",
     "output_type": "stream",
     "text": [
      "\n",
      "1 Failed download:\n",
      "['ESV']: Exception('%ticker%: No timezone found, symbol may be delisted')\n",
      "\n",
      "1 Failed download:\n",
      "['RHT']: Exception('%ticker%: No timezone found, symbol may be delisted')\n",
      "\n",
      "1 Failed download:\n",
      "['TWTR']: Exception('%ticker%: No timezone found, symbol may be delisted')\n",
      "\n",
      "1 Failed download:\n",
      "['LO']: Exception('%ticker%: No price data found, symbol may be delisted (1d 2015-01-01 -> 2023-08-14)')\n",
      "\n",
      "1 Failed download:\n",
      "['SIVB']: Exception('%ticker%: No timezone found, symbol may be delisted')\n",
      "\n",
      "1 Failed download:\n",
      "['CERN']: Exception('%ticker%: No timezone found, symbol may be delisted')\n",
      "\n",
      "1 Failed download:\n",
      "['PBCT']: Exception('%ticker%: No timezone found, symbol may be delisted')\n",
      "\n",
      "1 Failed download:\n",
      "['MON']: Exception('%ticker%: No timezone found, symbol may be delisted')\n",
      "\n",
      "1 Failed download:\n",
      "['STJ']: Exception('%ticker%: No price data found, symbol may be delisted (1d 2015-01-01 -> 2023-08-14)')\n",
      "\n",
      "1 Failed download:\n",
      "['CMCSK']: Exception('%ticker%: No price data found, symbol may be delisted (1d 2015-01-01 -> 2023-08-14)')\n",
      "\n",
      "1 Failed download:\n",
      "['YHOO']: Exception('%ticker%: No price data found, symbol may be delisted (1d 2015-01-01 -> 2023-08-14)')\n",
      "\n",
      "1 Failed download:\n",
      "['WCG']: Exception('%ticker%: No timezone found, symbol may be delisted')\n",
      "\n",
      "1 Failed download:\n",
      "['HFC']: Exception('%ticker%: No timezone found, symbol may be delisted')\n",
      "\n",
      "1 Failed download:\n",
      "['BBBY']: Exception('%ticker%: No timezone found, symbol may be delisted')\n",
      "\n",
      "1 Failed download:\n",
      "['APC']: Exception('%ticker%: No timezone found, symbol may be delisted')\n",
      "\n",
      "1 Failed download:\n",
      "['TYC']: Exception('%ticker%: No price data found, symbol may be delisted (1d 2015-01-01 -> 2023-08-14)')\n",
      "\n",
      "1 Failed download:\n",
      "['TWC']: Exception('%ticker%: No price data found, symbol may be delisted (1d 2015-01-01 -> 2023-08-14)')\n",
      "\n",
      "1 Failed download:\n",
      "['CVC']: Exception('%ticker%: No price data found, symbol may be delisted (1d 2015-01-01 -> 2023-08-14)')\n",
      "\n",
      "1 Failed download:\n",
      "['NBL']: Exception('%ticker%: No timezone found, symbol may be delisted')\n",
      "\n",
      "1 Failed download:\n",
      "['VIAB']: Exception('%ticker%: No timezone found, symbol may be delisted')\n",
      "\n",
      "1 Failed download:\n",
      "['ADS']: Exception('%ticker%: No timezone found, symbol may be delisted')\n",
      "\n",
      "1 Failed download:\n",
      "['ETFC']: Exception('%ticker%: No timezone found, symbol may be delisted')\n",
      "\n",
      "1 Failed download:\n",
      "['CXO']: Exception('%ticker%: No timezone found, symbol may be delisted')\n",
      "\n",
      "1 Failed download:\n",
      "['CPGX']: Exception('%ticker%: No price data found, symbol may be delisted (1d 2015-01-01 -> 2023-08-14)')\n",
      "\n",
      "1 Failed download:\n",
      "['TIF']: Exception('%ticker%: No timezone found, symbol may be delisted')\n",
      "\n",
      "1 Failed download:\n",
      "['RTN']: Exception('%ticker%: No timezone found, symbol may be delisted')\n",
      "\n",
      "1 Failed download:\n",
      "['FRC']: Exception('%ticker%: No timezone found, symbol may be delisted')\n",
      "\n",
      "1 Failed download:\n",
      "['SIAL']: Exception('%ticker%: No price data found, symbol may be delisted (1d 2015-01-01 -> 2023-08-14)')\n",
      "\n",
      "1 Failed download:\n",
      "['TSS']: Exception('%ticker%: No timezone found, symbol may be delisted')\n",
      "\n",
      "1 Failed download:\n",
      "['SWY']: Exception('%ticker%: No price data found, symbol may be delisted (1d 2015-01-01 -> 2023-08-14)')\n",
      "\n",
      "1 Failed download:\n",
      "['KSU']: Exception('%ticker%: No timezone found, symbol may be delisted')\n",
      "\n",
      "1 Failed download:\n",
      "['BRCM']: Exception('%ticker%: No price data found, symbol may be delisted (1d 2015-01-01 -> 2023-08-14)')\n",
      "\n",
      "1 Failed download:\n",
      "['XL']: Exception('%ticker%: No timezone found, symbol may be delisted')\n",
      "\n",
      "1 Failed download:\n",
      "['MXIM']: Exception('%ticker%: No timezone found, symbol may be delisted')\n",
      "\n",
      "1 Failed download:\n",
      "['CTXS']: Exception('%ticker%: No timezone found, symbol may be delisted')\n",
      "\n",
      "1 Failed download:\n",
      "['XLNX']: Exception('%ticker%: No timezone found, symbol may be delisted')\n",
      "\n",
      "1 Failed download:\n",
      "['CAM']: Exception('%ticker%: No price data found, symbol may be delisted (1d 2015-01-01 -> 2023-08-14)')\n",
      "\n",
      "1 Failed download:\n",
      "['INFO']: Exception('%ticker%: No timezone found, symbol may be delisted')\n",
      "\n",
      "1 Failed download:\n",
      "['QEP']: Exception('%ticker%: No timezone found, symbol may be delisted')\n",
      "\n",
      "1 Failed download:\n",
      "['HSP']: Exception('%ticker%: No price data found, symbol may be delisted (1d 2015-01-01 -> 2023-08-14)')\n",
      "\n",
      "1 Failed download:\n",
      "['AVP']: Exception('%ticker%: No timezone found, symbol may be delisted')\n",
      "\n",
      "1 Failed download:\n",
      "['DTV']: Exception('%ticker%: No timezone found, symbol may be delisted')\n",
      "\n",
      "1 Failed download:\n",
      "['NLSN']: Exception('%ticker%: No timezone found, symbol may be delisted')\n",
      "\n",
      "1 Failed download:\n",
      "['XEC']: Exception('%ticker%: No timezone found, symbol may be delisted')\n",
      "\n",
      "1 Failed download:\n",
      "['FTR']: Exception('%ticker%: No timezone found, symbol may be delisted')\n",
      "\n",
      "1 Failed download:\n",
      "['DNR']: Exception('%ticker%: No timezone found, symbol may be delisted')\n",
      "\n",
      "1 Failed download:\n",
      "['LLTC']: Exception('%ticker%: No price data found, symbol may be delisted (1d 2015-01-01 -> 2023-08-14)')\n",
      "\n",
      "1 Failed download:\n",
      "['WYN']: Exception('%ticker%: No price data found, symbol may be delisted (1d 2015-01-01 -> 2023-08-14)')\n",
      "\n",
      "1 Failed download:\n",
      "['ARG']: Exception('%ticker%: No price data found, symbol may be delisted (1d 2015-01-01 -> 2023-08-14)')\n",
      "\n",
      "1 Failed download:\n",
      "['HCBK']: Exception('%ticker%: No price data found, symbol may be delisted (1d 2015-01-01 -> 2023-08-14)')\n",
      "\n",
      "1 Failed download:\n",
      "['FBHS']: Exception('%ticker%: No timezone found, symbol may be delisted')\n",
      "\n",
      "1 Failed download:\n",
      "['GMCR']: Exception('%ticker%: No price data found, symbol may be delisted (1d 2015-01-01 -> 2023-08-14)')\n",
      "\n",
      "1 Failed download:\n",
      "['LM']: Exception('%ticker%: No timezone found, symbol may be delisted')\n",
      "\n",
      "1 Failed download:\n",
      "['WIN']: Exception('%ticker%: No timezone found, symbol may be delisted')\n",
      "\n",
      "1 Failed download:\n",
      "['BXLT']: Exception('%ticker%: No price data found, symbol may be delisted (1d 2015-01-01 -> 2023-08-14)')\n",
      "\n",
      "1 Failed download:\n",
      "['LVLT']: Exception('%ticker%: No price data found, symbol may be delisted (1d 2015-01-01 -> 2023-08-14)')\n",
      "\n",
      "1 Failed download:\n",
      "['ALXN']: Exception('%ticker%: No timezone found, symbol may be delisted')\n",
      "\n",
      "1 Failed download:\n",
      "['FDO']: Exception('%ticker%: No price data found, symbol may be delisted (1d 2015-01-01 -> 2023-08-14)')\n",
      "\n",
      "1 Failed download:\n",
      "['JOY']: Exception('%ticker%: No price data found, symbol may be delisted (1d 2015-01-01 -> 2023-08-14)')\n",
      "\n",
      "1 Failed download:\n",
      "['KRFT']: Exception('%ticker%: No price data found, symbol may be delisted (1d 2015-01-01 -> 2023-08-14)')\n",
      "\n",
      "1 Failed download:\n",
      "['FLIR']: Exception('%ticker%: No timezone found, symbol may be delisted')\n",
      "\n",
      "1 Failed download:\n",
      "['RAI']: Exception('%ticker%: No price data found, symbol may be delisted (1d 2015-01-01 -> 2023-08-14)')\n",
      "\n",
      "1 Failed download:\n",
      "['GGP']: Exception('%ticker%: No price data found, symbol may be delisted (1d 2015-01-01 -> 2023-08-14)')\n",
      "\n",
      "1 Failed download:\n",
      "['BCR']: Exception('%ticker%: No price data found, symbol may be delisted (1d 2015-01-01 -> 2023-08-14)')\n",
      "\n",
      "1 Failed download:\n",
      "['DRE']: Exception('%ticker%: No timezone found, symbol may be delisted')\n",
      "\n",
      "1 Failed download:\n",
      "['VAR']: Exception('%ticker%: No timezone found, symbol may be delisted')\n",
      "\n",
      "1 Failed download:\n",
      "['ENDP']: Exception('%ticker%: No timezone found, symbol may be delisted')\n",
      "\n",
      "1 Failed download:\n",
      "['DWDP']: Exception('%ticker%: No timezone found, symbol may be delisted')\n",
      "\n",
      "1 Failed download:\n",
      "['STI']: Exception('%ticker%: No timezone found, symbol may be delisted')\n",
      "\n",
      "1 Failed download:\n",
      "['CFN']: Exception('%ticker%: No price data found, symbol may be delisted (1d 2015-01-01 -> 2023-08-14)')\n",
      "\n",
      "1 Failed download:\n",
      "['AGN']: Exception('%ticker%: No timezone found, symbol may be delisted')\n",
      "\n",
      "1 Failed download:\n",
      "['TE']: Exception('%ticker%: No price data found, symbol may be delisted (1d 2015-01-01 -> 2023-08-14)')\n",
      "\n",
      "1 Failed download:\n",
      "['MJN']: Exception('%ticker%: No price data found, symbol may be delisted (1d 2015-01-01 -> 2023-08-14)')\n",
      "\n",
      "1 Failed download:\n",
      "['SNDK']: Exception('%ticker%: No price data found, symbol may be delisted (1d 2015-01-01 -> 2023-08-14)')\n",
      "\n",
      "1 Failed download:\n",
      "['LLL']: Exception('%ticker%: No timezone found, symbol may be delisted')\n",
      "\n",
      "1 Failed download:\n",
      "['CELG']: Exception('%ticker%: No timezone found, symbol may be delisted')\n",
      "\n",
      "1 Failed download:\n",
      "['SPLS']: Exception('%ticker%: No price data found, symbol may be delisted (1d 2015-01-01 -> 2023-08-14)')\n"
     ]
    },
    {
     "name": "stderr",
     "output_type": "stream",
     "text": [
      "\n",
      "1 Failed download:\n",
      "['WFM']: Exception('%ticker%: No price data found, symbol may be delisted (1d 2015-01-01 -> 2023-08-14)')\n",
      "\n",
      "1 Failed download:\n",
      "['DPS']: Exception('%ticker%: No price data found, symbol may be delisted (1d 2015-01-01 -> 2023-08-14)')\n"
     ]
    },
    {
     "name": "stdout",
     "output_type": "stream",
     "text": [
      "Download complete.\n",
      "Wall time: 4min 26s\n"
     ]
    }
   ],
   "source": [
    "%%time\n",
    "# Running function to a variable and displaying processing time to get total download time.\n",
    "# Each ticker will have its own dataframe with columns; 'Date', 'Open', 'High', 'Low', 'Close', 'Adj Close', and 'Volume'.\n",
    "# NOTE: No need to run again after first import.\n",
    "SPY = getdata(SPYalltickers)"
   ]
  },
  {
   "cell_type": "markdown",
   "id": "9ed6e606",
   "metadata": {},
   "source": [
    "### Regarding Failed Downloads\n",
    "\n",
    "There will be multiple failed downloads in the cell above. The reason for this is that the list of removed companies were retrieved from the Wikipedia page, but these companies are no longer listed on Yahoo Finance.\n",
    "\n",
    "For example;\n",
    "\n",
    "YHOO - used to be Yahoo!. Acquired by Verizon Communications Inc.\n",
    "\n",
    "BBBY - Bed Bath & Beyond. Went bankrupt, delisted from major exchanges, and now defunct.\n",
    "\n",
    "TWTR - Acquired by Elon Musk and taken off public markets.\n",
    "\n",
    "Companies such as Twitter, Bed Bath & Beyond, and others may have been considered for the stock selection process, but since they are no longer on Yahoo Finance, they are excluded from this dataset. Even though this is important to note, the dataset is still sufficient to achieve the goal of this project.\n",
    "\n",
    "### Creating SQL Database <a name=\"sqldatabase\"></a>"
   ]
  },
  {
   "cell_type": "code",
   "execution_count": 13,
   "id": "210268e3",
   "metadata": {},
   "outputs": [],
   "source": [
    "# Connecting to SQL database named 'SPY500'.\n",
    "engine = create_engine('sqlite:///SPY500')"
   ]
  },
  {
   "cell_type": "code",
   "execution_count": 14,
   "id": "a61d0c0b",
   "metadata": {},
   "outputs": [],
   "source": [
    "# Creating a function to export each stock dataframe to SQL database.\n",
    "# The ticker names will be the table names in the SQL database, and the dataframes will be the data.\n",
    "# Added exception handling in order to inform if database has already been created.\n",
    "def export_sql(dataframes, tickers, engine):\n",
    "    \"\"\"\n",
    "    Exports stock dataframes to SQL database.\n",
    "    Will not run if database name already exists.\n",
    "    Ensure no duplicates in ticker list.\n",
    "    \"\"\"\n",
    "    try:\n",
    "        for dataframe, ticker in zip(dataframes, tickers):\n",
    "            dataframe.to_sql(ticker, engine, index=False)\n",
    "        print('Export to SQL database complete')\n",
    "    except:\n",
    "        print('Error: Database already exists')     "
   ]
  },
  {
   "cell_type": "code",
   "execution_count": 15,
   "id": "54d755d0",
   "metadata": {},
   "outputs": [
    {
     "name": "stdout",
     "output_type": "stream",
     "text": [
      "Error: Database already exists\n",
      "Wall time: 387 ms\n"
     ]
    }
   ],
   "source": [
    "%%time\n",
    "# Running function to create the SQL database along with displaying processing time.\n",
    "export_sql(SPY, SPYalltickers, engine)"
   ]
  },
  {
   "cell_type": "markdown",
   "id": "ecca957c",
   "metadata": {},
   "source": [
    "### Updating SQL Database <a name=\"sqldatabase2\"></a>"
   ]
  },
  {
   "cell_type": "code",
   "execution_count": 16,
   "id": "f25623fc",
   "metadata": {},
   "outputs": [],
   "source": [
    "# Creating function to update SQL database .\n",
    "def sql_updater(ticker, start='2023-07-01'):\n",
    "    \"\"\"\n",
    "    Updates SQL database without needing to re-download all initial data\n",
    "    \"\"\"\n",
    "    # Get the latest date from database table.\n",
    "    max_date = pd.read_sql(f'SELECT MAX(Date) FROM {ticker}', engine).values[0][0]\n",
    "    print('Latest date: ' + max_date)\n",
    "    # Added .strip() in order to remove quotations before downloading as these were added for SQL coding.\n",
    "    new_data = yf.download(ticker.strip('\\\"'), start=pd.to_datetime(max_date))\n",
    "    new_rows = new_data[new_data.index > max_date]\n",
    "    new_rows.to_sql(ticker, engine, if_exists='append')\n",
    "    print(str(len(new_rows)) + ' new rows imported to DB')"
   ]
  },
  {
   "cell_type": "code",
   "execution_count": 17,
   "id": "4be7f396",
   "metadata": {},
   "outputs": [
    {
     "name": "stdout",
     "output_type": "stream",
     "text": [
      "Wait until weekend to update SQL database.\n",
      "Wall time: 0 ns\n"
     ]
    }
   ],
   "source": [
    "%%time\n",
    "# Set an if statement to only update during weekends.\n",
    "# This is to avoid updating SQL database while market is open as values will constantly change until market close.\n",
    "# Must first run following cell that defines 'tickers' variable. \n",
    "if datetime.datetime.today().weekday() < 5:\n",
    "    print('Wait until weekend to update SQL database.')\n",
    "else:\n",
    "    for ticker in tickers: \n",
    "        sql_updater(ticker)"
   ]
  },
  {
   "cell_type": "code",
   "execution_count": 18,
   "id": "e275aa15",
   "metadata": {},
   "outputs": [
    {
     "data": {
      "text/html": [
       "<div>\n",
       "<style scoped>\n",
       "    .dataframe tbody tr th:only-of-type {\n",
       "        vertical-align: middle;\n",
       "    }\n",
       "\n",
       "    .dataframe tbody tr th {\n",
       "        vertical-align: top;\n",
       "    }\n",
       "\n",
       "    .dataframe thead th {\n",
       "        text-align: right;\n",
       "    }\n",
       "</style>\n",
       "<table border=\"1\" class=\"dataframe\">\n",
       "  <thead>\n",
       "    <tr style=\"text-align: right;\">\n",
       "      <th></th>\n",
       "      <th>type</th>\n",
       "      <th>name</th>\n",
       "      <th>tbl_name</th>\n",
       "      <th>rootpage</th>\n",
       "      <th>sql</th>\n",
       "    </tr>\n",
       "  </thead>\n",
       "  <tbody>\n",
       "    <tr>\n",
       "      <th>0</th>\n",
       "      <td>table</td>\n",
       "      <td>RF</td>\n",
       "      <td>RF</td>\n",
       "      <td>2</td>\n",
       "      <td>CREATE TABLE \"RF\" (\\n\\t\"Date\" DATETIME, \\n\\t\"O...</td>\n",
       "    </tr>\n",
       "    <tr>\n",
       "      <th>1</th>\n",
       "      <td>table</td>\n",
       "      <td>MCHP</td>\n",
       "      <td>MCHP</td>\n",
       "      <td>48</td>\n",
       "      <td>CREATE TABLE \"MCHP\" (\\n\\t\"Date\" DATETIME, \\n\\t...</td>\n",
       "    </tr>\n",
       "    <tr>\n",
       "      <th>2</th>\n",
       "      <td>table</td>\n",
       "      <td>PH</td>\n",
       "      <td>PH</td>\n",
       "      <td>93</td>\n",
       "      <td>CREATE TABLE \"PH\" (\\n\\t\"Date\" DATETIME, \\n\\t\"O...</td>\n",
       "    </tr>\n",
       "    <tr>\n",
       "      <th>3</th>\n",
       "      <td>table</td>\n",
       "      <td>BKR</td>\n",
       "      <td>BKR</td>\n",
       "      <td>138</td>\n",
       "      <td>CREATE TABLE \"BKR\" (\\n\\t\"Date\" DATETIME, \\n\\t\"...</td>\n",
       "    </tr>\n",
       "    <tr>\n",
       "      <th>4</th>\n",
       "      <td>table</td>\n",
       "      <td>NUE</td>\n",
       "      <td>NUE</td>\n",
       "      <td>183</td>\n",
       "      <td>CREATE TABLE \"NUE\" (\\n\\t\"Date\" DATETIME, \\n\\t\"...</td>\n",
       "    </tr>\n",
       "    <tr>\n",
       "      <th>...</th>\n",
       "      <td>...</td>\n",
       "      <td>...</td>\n",
       "      <td>...</td>\n",
       "      <td>...</td>\n",
       "      <td>...</td>\n",
       "    </tr>\n",
       "    <tr>\n",
       "      <th>678</th>\n",
       "      <td>table</td>\n",
       "      <td>FRC</td>\n",
       "      <td>FRC</td>\n",
       "      <td>25798</td>\n",
       "      <td>CREATE TABLE \"FRC\" (\\n\\t\"Date\" TEXT, \\n\\t\"Open...</td>\n",
       "    </tr>\n",
       "    <tr>\n",
       "      <th>679</th>\n",
       "      <td>table</td>\n",
       "      <td>CPGX</td>\n",
       "      <td>CPGX</td>\n",
       "      <td>25799</td>\n",
       "      <td>CREATE TABLE \"CPGX\" (\\n\\t\"Date\" TEXT, \\n\\t\"Ope...</td>\n",
       "    </tr>\n",
       "    <tr>\n",
       "      <th>680</th>\n",
       "      <td>table</td>\n",
       "      <td>IVZ</td>\n",
       "      <td>IVZ</td>\n",
       "      <td>25800</td>\n",
       "      <td>CREATE TABLE \"IVZ\" (\\n\\t\"Date\" DATETIME, \\n\\t\"...</td>\n",
       "    </tr>\n",
       "    <tr>\n",
       "      <th>681</th>\n",
       "      <td>table</td>\n",
       "      <td>RIG</td>\n",
       "      <td>RIG</td>\n",
       "      <td>25845</td>\n",
       "      <td>CREATE TABLE \"RIG\" (\\n\\t\"Date\" DATETIME, \\n\\t\"...</td>\n",
       "    </tr>\n",
       "    <tr>\n",
       "      <th>682</th>\n",
       "      <td>table</td>\n",
       "      <td>HWM</td>\n",
       "      <td>HWM</td>\n",
       "      <td>25891</td>\n",
       "      <td>CREATE TABLE \"HWM\" (\\n\\t\"Date\" DATETIME, \\n\\t\"...</td>\n",
       "    </tr>\n",
       "  </tbody>\n",
       "</table>\n",
       "<p>683 rows × 5 columns</p>\n",
       "</div>"
      ],
      "text/plain": [
       "      type  name tbl_name  rootpage  \\\n",
       "0    table    RF       RF         2   \n",
       "1    table  MCHP     MCHP        48   \n",
       "2    table    PH       PH        93   \n",
       "3    table   BKR      BKR       138   \n",
       "4    table   NUE      NUE       183   \n",
       "..     ...   ...      ...       ...   \n",
       "678  table   FRC      FRC     25798   \n",
       "679  table  CPGX     CPGX     25799   \n",
       "680  table   IVZ      IVZ     25800   \n",
       "681  table   RIG      RIG     25845   \n",
       "682  table   HWM      HWM     25891   \n",
       "\n",
       "                                                   sql  \n",
       "0    CREATE TABLE \"RF\" (\\n\\t\"Date\" DATETIME, \\n\\t\"O...  \n",
       "1    CREATE TABLE \"MCHP\" (\\n\\t\"Date\" DATETIME, \\n\\t...  \n",
       "2    CREATE TABLE \"PH\" (\\n\\t\"Date\" DATETIME, \\n\\t\"O...  \n",
       "3    CREATE TABLE \"BKR\" (\\n\\t\"Date\" DATETIME, \\n\\t\"...  \n",
       "4    CREATE TABLE \"NUE\" (\\n\\t\"Date\" DATETIME, \\n\\t\"...  \n",
       "..                                                 ...  \n",
       "678  CREATE TABLE \"FRC\" (\\n\\t\"Date\" TEXT, \\n\\t\"Open...  \n",
       "679  CREATE TABLE \"CPGX\" (\\n\\t\"Date\" TEXT, \\n\\t\"Ope...  \n",
       "680  CREATE TABLE \"IVZ\" (\\n\\t\"Date\" DATETIME, \\n\\t\"...  \n",
       "681  CREATE TABLE \"RIG\" (\\n\\t\"Date\" DATETIME, \\n\\t\"...  \n",
       "682  CREATE TABLE \"HWM\" (\\n\\t\"Date\" DATETIME, \\n\\t\"...  \n",
       "\n",
       "[683 rows x 5 columns]"
      ]
     },
     "execution_count": 18,
     "metadata": {},
     "output_type": "execute_result"
    }
   ],
   "source": [
    "# Getting an overview of how the SQL database looks like, with ticker names as the table names. \n",
    "# Note: I also use the tool 'DB Browser for SQLite' that allows me to view the database and execute SQL code directly on it.\n",
    "# Ensuring that the number of rows is correct, which should be 683. The tickers that failed to download are empty tables.\n",
    "pd.read_sql('SELECT * FROM sqlite_master', engine)"
   ]
  },
  {
   "cell_type": "markdown",
   "id": "1ed8c060",
   "metadata": {},
   "source": [
    "### Creating Dataframe From SQL Database <a name=\"sqldatabase3\"></a>"
   ]
  },
  {
   "cell_type": "code",
   "execution_count": 19,
   "id": "a5eb33d7",
   "metadata": {},
   "outputs": [],
   "source": [
    "# Creating a variable to store a list of all the ticker names from SQL database.\n",
    "tickers = pd.read_sql('SELECT name FROM sqlite_master WHERE type=\"table\"', engine)['name'].to_list()"
   ]
  },
  {
   "cell_type": "code",
   "execution_count": 20,
   "id": "23920803",
   "metadata": {},
   "outputs": [],
   "source": [
    "# Need to modify some tickers as it will cause issues when they are inserted into SQL code in the following cell.\n",
    "tickers = ['\"ALL\"' if i=='ALL' else i for i in tickers] # need to modify otherwise SQL reads it as 'FROM ALL'\n",
    "tickers = ['\"ON\"' if i=='ON' else i for i in tickers] # need to modify otherwise SQL reads it as 'FROM ON'\n",
    "tickers = ['\"BF-B\"' if i=='BF-B' else i for i in tickers] # need to modify due to SQL reading \"-\"\n",
    "tickers = ['\"BRK-B\"' if i=='BRK-B' else i for i in tickers] # need to modify due to SQL reading \"-\""
   ]
  },
  {
   "cell_type": "code",
   "execution_count": 21,
   "id": "bde36767",
   "metadata": {},
   "outputs": [],
   "source": [
    "# Creating a function to clean and combine all the tables into one table.\n",
    "def stocks_import(tickers):\n",
    "    \"\"\"\n",
    "    Combines all tables from SQL database into one Pandas dataframe\n",
    "    \"\"\"\n",
    "    # Creating empty dataframe.\n",
    "    df_ = pd.DataFrame() \n",
    "    # Loop for list of names.\n",
    "    for ticker in tickers:\n",
    "        # Creating dataframe from SQL.\n",
    "        df = pd.read_sql(f'SELECT * FROM {ticker}', engine)\n",
    "        # Cleaning 'Date' column and setting it as index.\n",
    "        df['Date'] = df['Date'].str.split(' ').str[0]\n",
    "        df = df.set_index('Date')\n",
    "        # Selecting only 'Adj Close' column and renaming the column as ticker name for identification.\n",
    "        df = df[['Adj Close']]\n",
    "        df = df.rename(columns={'Adj Close': ticker})\n",
    "        # Combining dataframes horizontally.\n",
    "        df_ = pd.concat([df_, df], axis=1)\n",
    "    return df_"
   ]
  },
  {
   "cell_type": "code",
   "execution_count": 22,
   "id": "bfc404a7",
   "metadata": {},
   "outputs": [
    {
     "name": "stdout",
     "output_type": "stream",
     "text": [
      "Wall time: 33.1 s\n"
     ]
    }
   ],
   "source": [
    "%%time\n",
    "# Running function with list of ticker names to create combined dataframe for analysis along with processing time.\n",
    "df = stocks_import(tickers)"
   ]
  },
  {
   "cell_type": "code",
   "execution_count": 23,
   "id": "ec96c770",
   "metadata": {},
   "outputs": [
    {
     "data": {
      "text/html": [
       "<div>\n",
       "<style scoped>\n",
       "    .dataframe tbody tr th:only-of-type {\n",
       "        vertical-align: middle;\n",
       "    }\n",
       "\n",
       "    .dataframe tbody tr th {\n",
       "        vertical-align: top;\n",
       "    }\n",
       "\n",
       "    .dataframe thead th {\n",
       "        text-align: right;\n",
       "    }\n",
       "</style>\n",
       "<table border=\"1\" class=\"dataframe\">\n",
       "  <thead>\n",
       "    <tr style=\"text-align: right;\">\n",
       "      <th></th>\n",
       "      <th>RF</th>\n",
       "      <th>MCHP</th>\n",
       "      <th>PH</th>\n",
       "      <th>BKR</th>\n",
       "      <th>NUE</th>\n",
       "      <th>NTRS</th>\n",
       "      <th>VRTX</th>\n",
       "      <th>PCP</th>\n",
       "      <th>SPG</th>\n",
       "      <th>RL</th>\n",
       "      <th>...</th>\n",
       "      <th>BAC</th>\n",
       "      <th>STLD</th>\n",
       "      <th>ACGL</th>\n",
       "      <th>CTRA</th>\n",
       "      <th>BIIB</th>\n",
       "      <th>FRC</th>\n",
       "      <th>CPGX</th>\n",
       "      <th>IVZ</th>\n",
       "      <th>RIG</th>\n",
       "      <th>HWM</th>\n",
       "    </tr>\n",
       "    <tr>\n",
       "      <th>Date</th>\n",
       "      <th></th>\n",
       "      <th></th>\n",
       "      <th></th>\n",
       "      <th></th>\n",
       "      <th></th>\n",
       "      <th></th>\n",
       "      <th></th>\n",
       "      <th></th>\n",
       "      <th></th>\n",
       "      <th></th>\n",
       "      <th></th>\n",
       "      <th></th>\n",
       "      <th></th>\n",
       "      <th></th>\n",
       "      <th></th>\n",
       "      <th></th>\n",
       "      <th></th>\n",
       "      <th></th>\n",
       "      <th></th>\n",
       "      <th></th>\n",
       "      <th></th>\n",
       "    </tr>\n",
       "  </thead>\n",
       "  <tbody>\n",
       "    <tr>\n",
       "      <th>2015-01-02</th>\n",
       "      <td>8.054943</td>\n",
       "      <td>19.114405</td>\n",
       "      <td>110.646973</td>\n",
       "      <td>31.563976</td>\n",
       "      <td>39.128372</td>\n",
       "      <td>54.705898</td>\n",
       "      <td>123.070000</td>\n",
       "      <td>NaN</td>\n",
       "      <td>122.824875</td>\n",
       "      <td>153.534058</td>\n",
       "      <td>...</td>\n",
       "      <td>15.146550</td>\n",
       "      <td>16.332380</td>\n",
       "      <td>19.496668</td>\n",
       "      <td>23.673445</td>\n",
       "      <td>342.010010</td>\n",
       "      <td>NaN</td>\n",
       "      <td>NaN</td>\n",
       "      <td>27.212114</td>\n",
       "      <td>17.075876</td>\n",
       "      <td>NaN</td>\n",
       "    </tr>\n",
       "    <tr>\n",
       "      <th>2015-01-05</th>\n",
       "      <td>7.779033</td>\n",
       "      <td>18.688410</td>\n",
       "      <td>105.901054</td>\n",
       "      <td>30.996422</td>\n",
       "      <td>37.635422</td>\n",
       "      <td>52.697464</td>\n",
       "      <td>121.029999</td>\n",
       "      <td>NaN</td>\n",
       "      <td>123.328575</td>\n",
       "      <td>149.156952</td>\n",
       "      <td>...</td>\n",
       "      <td>14.706536</td>\n",
       "      <td>15.347519</td>\n",
       "      <td>19.379999</td>\n",
       "      <td>22.375727</td>\n",
       "      <td>336.739990</td>\n",
       "      <td>NaN</td>\n",
       "      <td>NaN</td>\n",
       "      <td>26.419527</td>\n",
       "      <td>15.869632</td>\n",
       "      <td>NaN</td>\n",
       "    </tr>\n",
       "    <tr>\n",
       "      <th>2015-01-06</th>\n",
       "      <td>7.518458</td>\n",
       "      <td>18.326311</td>\n",
       "      <td>104.350487</td>\n",
       "      <td>30.900892</td>\n",
       "      <td>37.092525</td>\n",
       "      <td>51.215412</td>\n",
       "      <td>117.360001</td>\n",
       "      <td>NaN</td>\n",
       "      <td>126.761330</td>\n",
       "      <td>146.247192</td>\n",
       "      <td>...</td>\n",
       "      <td>14.266525</td>\n",
       "      <td>14.904326</td>\n",
       "      <td>19.423332</td>\n",
       "      <td>22.061132</td>\n",
       "      <td>334.649994</td>\n",
       "      <td>NaN</td>\n",
       "      <td>NaN</td>\n",
       "      <td>25.870283</td>\n",
       "      <td>15.511528</td>\n",
       "      <td>NaN</td>\n",
       "    </tr>\n",
       "    <tr>\n",
       "      <th>2015-01-07</th>\n",
       "      <td>7.564443</td>\n",
       "      <td>18.428551</td>\n",
       "      <td>105.164330</td>\n",
       "      <td>31.732571</td>\n",
       "      <td>37.435833</td>\n",
       "      <td>52.041481</td>\n",
       "      <td>120.660004</td>\n",
       "      <td>NaN</td>\n",
       "      <td>129.094040</td>\n",
       "      <td>149.911560</td>\n",
       "      <td>...</td>\n",
       "      <td>14.334221</td>\n",
       "      <td>15.117711</td>\n",
       "      <td>19.536667</td>\n",
       "      <td>22.249887</td>\n",
       "      <td>353.239990</td>\n",
       "      <td>NaN</td>\n",
       "      <td>NaN</td>\n",
       "      <td>26.210951</td>\n",
       "      <td>15.360747</td>\n",
       "      <td>NaN</td>\n",
       "    </tr>\n",
       "    <tr>\n",
       "      <th>2015-01-08</th>\n",
       "      <td>7.679403</td>\n",
       "      <td>19.016422</td>\n",
       "      <td>108.488205</td>\n",
       "      <td>32.047241</td>\n",
       "      <td>38.345989</td>\n",
       "      <td>52.851345</td>\n",
       "      <td>123.970001</td>\n",
       "      <td>NaN</td>\n",
       "      <td>128.908478</td>\n",
       "      <td>149.735504</td>\n",
       "      <td>...</td>\n",
       "      <td>14.630381</td>\n",
       "      <td>15.642974</td>\n",
       "      <td>19.876667</td>\n",
       "      <td>22.698187</td>\n",
       "      <td>350.250000</td>\n",
       "      <td>NaN</td>\n",
       "      <td>NaN</td>\n",
       "      <td>26.669821</td>\n",
       "      <td>15.332478</td>\n",
       "      <td>NaN</td>\n",
       "    </tr>\n",
       "    <tr>\n",
       "      <th>...</th>\n",
       "      <td>...</td>\n",
       "      <td>...</td>\n",
       "      <td>...</td>\n",
       "      <td>...</td>\n",
       "      <td>...</td>\n",
       "      <td>...</td>\n",
       "      <td>...</td>\n",
       "      <td>...</td>\n",
       "      <td>...</td>\n",
       "      <td>...</td>\n",
       "      <td>...</td>\n",
       "      <td>...</td>\n",
       "      <td>...</td>\n",
       "      <td>...</td>\n",
       "      <td>...</td>\n",
       "      <td>...</td>\n",
       "      <td>...</td>\n",
       "      <td>...</td>\n",
       "      <td>...</td>\n",
       "      <td>...</td>\n",
       "      <td>...</td>\n",
       "    </tr>\n",
       "    <tr>\n",
       "      <th>2023-08-04</th>\n",
       "      <td>20.610001</td>\n",
       "      <td>83.459999</td>\n",
       "      <td>414.149994</td>\n",
       "      <td>35.320000</td>\n",
       "      <td>167.759995</td>\n",
       "      <td>80.250000</td>\n",
       "      <td>340.480011</td>\n",
       "      <td>NaN</td>\n",
       "      <td>118.290001</td>\n",
       "      <td>131.740005</td>\n",
       "      <td>...</td>\n",
       "      <td>31.299999</td>\n",
       "      <td>103.790001</td>\n",
       "      <td>76.720001</td>\n",
       "      <td>27.570000</td>\n",
       "      <td>268.920013</td>\n",
       "      <td>NaN</td>\n",
       "      <td>NaN</td>\n",
       "      <td>16.650000</td>\n",
       "      <td>8.490000</td>\n",
       "      <td>49.049999</td>\n",
       "    </tr>\n",
       "    <tr>\n",
       "      <th>2023-08-07</th>\n",
       "      <td>20.980000</td>\n",
       "      <td>84.809998</td>\n",
       "      <td>424.950012</td>\n",
       "      <td>35.590000</td>\n",
       "      <td>169.259995</td>\n",
       "      <td>80.849998</td>\n",
       "      <td>345.320007</td>\n",
       "      <td>NaN</td>\n",
       "      <td>119.660004</td>\n",
       "      <td>131.619995</td>\n",
       "      <td>...</td>\n",
       "      <td>31.879999</td>\n",
       "      <td>104.459999</td>\n",
       "      <td>78.230003</td>\n",
       "      <td>27.799999</td>\n",
       "      <td>271.230011</td>\n",
       "      <td>NaN</td>\n",
       "      <td>NaN</td>\n",
       "      <td>16.980000</td>\n",
       "      <td>8.130000</td>\n",
       "      <td>50.450001</td>\n",
       "    </tr>\n",
       "    <tr>\n",
       "      <th>2023-08-08</th>\n",
       "      <td>20.900000</td>\n",
       "      <td>84.529999</td>\n",
       "      <td>425.119995</td>\n",
       "      <td>35.650002</td>\n",
       "      <td>169.910004</td>\n",
       "      <td>79.589996</td>\n",
       "      <td>344.470001</td>\n",
       "      <td>NaN</td>\n",
       "      <td>119.000000</td>\n",
       "      <td>130.149994</td>\n",
       "      <td>...</td>\n",
       "      <td>31.270000</td>\n",
       "      <td>103.949997</td>\n",
       "      <td>76.349998</td>\n",
       "      <td>27.600000</td>\n",
       "      <td>274.140015</td>\n",
       "      <td>NaN</td>\n",
       "      <td>NaN</td>\n",
       "      <td>16.750000</td>\n",
       "      <td>8.270000</td>\n",
       "      <td>50.500000</td>\n",
       "    </tr>\n",
       "    <tr>\n",
       "      <th>2023-08-09</th>\n",
       "      <td>20.610001</td>\n",
       "      <td>84.059998</td>\n",
       "      <td>422.260010</td>\n",
       "      <td>36.110001</td>\n",
       "      <td>169.380005</td>\n",
       "      <td>79.000000</td>\n",
       "      <td>345.109985</td>\n",
       "      <td>NaN</td>\n",
       "      <td>118.800003</td>\n",
       "      <td>128.490005</td>\n",
       "      <td>...</td>\n",
       "      <td>30.860001</td>\n",
       "      <td>104.570000</td>\n",
       "      <td>77.050003</td>\n",
       "      <td>28.290001</td>\n",
       "      <td>271.290009</td>\n",
       "      <td>NaN</td>\n",
       "      <td>NaN</td>\n",
       "      <td>16.709999</td>\n",
       "      <td>8.380000</td>\n",
       "      <td>49.790001</td>\n",
       "    </tr>\n",
       "    <tr>\n",
       "      <th>2023-08-10</th>\n",
       "      <td>20.680000</td>\n",
       "      <td>83.309998</td>\n",
       "      <td>412.899994</td>\n",
       "      <td>35.330002</td>\n",
       "      <td>166.289993</td>\n",
       "      <td>79.779999</td>\n",
       "      <td>347.380005</td>\n",
       "      <td>NaN</td>\n",
       "      <td>118.839996</td>\n",
       "      <td>122.339996</td>\n",
       "      <td>...</td>\n",
       "      <td>30.934999</td>\n",
       "      <td>102.089996</td>\n",
       "      <td>76.580002</td>\n",
       "      <td>27.830000</td>\n",
       "      <td>269.059998</td>\n",
       "      <td>NaN</td>\n",
       "      <td>NaN</td>\n",
       "      <td>16.235001</td>\n",
       "      <td>8.440000</td>\n",
       "      <td>49.810001</td>\n",
       "    </tr>\n",
       "  </tbody>\n",
       "</table>\n",
       "<p>2166 rows × 683 columns</p>\n",
       "</div>"
      ],
      "text/plain": [
       "                   RF       MCHP          PH        BKR         NUE  \\\n",
       "Date                                                                  \n",
       "2015-01-02   8.054943  19.114405  110.646973  31.563976   39.128372   \n",
       "2015-01-05   7.779033  18.688410  105.901054  30.996422   37.635422   \n",
       "2015-01-06   7.518458  18.326311  104.350487  30.900892   37.092525   \n",
       "2015-01-07   7.564443  18.428551  105.164330  31.732571   37.435833   \n",
       "2015-01-08   7.679403  19.016422  108.488205  32.047241   38.345989   \n",
       "...               ...        ...         ...        ...         ...   \n",
       "2023-08-04  20.610001  83.459999  414.149994  35.320000  167.759995   \n",
       "2023-08-07  20.980000  84.809998  424.950012  35.590000  169.259995   \n",
       "2023-08-08  20.900000  84.529999  425.119995  35.650002  169.910004   \n",
       "2023-08-09  20.610001  84.059998  422.260010  36.110001  169.380005   \n",
       "2023-08-10  20.680000  83.309998  412.899994  35.330002  166.289993   \n",
       "\n",
       "                 NTRS        VRTX  PCP         SPG          RL  ...  \\\n",
       "Date                                                            ...   \n",
       "2015-01-02  54.705898  123.070000  NaN  122.824875  153.534058  ...   \n",
       "2015-01-05  52.697464  121.029999  NaN  123.328575  149.156952  ...   \n",
       "2015-01-06  51.215412  117.360001  NaN  126.761330  146.247192  ...   \n",
       "2015-01-07  52.041481  120.660004  NaN  129.094040  149.911560  ...   \n",
       "2015-01-08  52.851345  123.970001  NaN  128.908478  149.735504  ...   \n",
       "...               ...         ...  ...         ...         ...  ...   \n",
       "2023-08-04  80.250000  340.480011  NaN  118.290001  131.740005  ...   \n",
       "2023-08-07  80.849998  345.320007  NaN  119.660004  131.619995  ...   \n",
       "2023-08-08  79.589996  344.470001  NaN  119.000000  130.149994  ...   \n",
       "2023-08-09  79.000000  345.109985  NaN  118.800003  128.490005  ...   \n",
       "2023-08-10  79.779999  347.380005  NaN  118.839996  122.339996  ...   \n",
       "\n",
       "                  BAC        STLD       ACGL       CTRA        BIIB  FRC CPGX  \\\n",
       "Date                                                                            \n",
       "2015-01-02  15.146550   16.332380  19.496668  23.673445  342.010010  NaN  NaN   \n",
       "2015-01-05  14.706536   15.347519  19.379999  22.375727  336.739990  NaN  NaN   \n",
       "2015-01-06  14.266525   14.904326  19.423332  22.061132  334.649994  NaN  NaN   \n",
       "2015-01-07  14.334221   15.117711  19.536667  22.249887  353.239990  NaN  NaN   \n",
       "2015-01-08  14.630381   15.642974  19.876667  22.698187  350.250000  NaN  NaN   \n",
       "...               ...         ...        ...        ...         ...  ...  ...   \n",
       "2023-08-04  31.299999  103.790001  76.720001  27.570000  268.920013  NaN  NaN   \n",
       "2023-08-07  31.879999  104.459999  78.230003  27.799999  271.230011  NaN  NaN   \n",
       "2023-08-08  31.270000  103.949997  76.349998  27.600000  274.140015  NaN  NaN   \n",
       "2023-08-09  30.860001  104.570000  77.050003  28.290001  271.290009  NaN  NaN   \n",
       "2023-08-10  30.934999  102.089996  76.580002  27.830000  269.059998  NaN  NaN   \n",
       "\n",
       "                  IVZ        RIG        HWM  \n",
       "Date                                         \n",
       "2015-01-02  27.212114  17.075876        NaN  \n",
       "2015-01-05  26.419527  15.869632        NaN  \n",
       "2015-01-06  25.870283  15.511528        NaN  \n",
       "2015-01-07  26.210951  15.360747        NaN  \n",
       "2015-01-08  26.669821  15.332478        NaN  \n",
       "...               ...        ...        ...  \n",
       "2023-08-04  16.650000   8.490000  49.049999  \n",
       "2023-08-07  16.980000   8.130000  50.450001  \n",
       "2023-08-08  16.750000   8.270000  50.500000  \n",
       "2023-08-09  16.709999   8.380000  49.790001  \n",
       "2023-08-10  16.235001   8.440000  49.810001  \n",
       "\n",
       "[2166 rows x 683 columns]"
      ]
     },
     "execution_count": 23,
     "metadata": {},
     "output_type": "execute_result"
    }
   ],
   "source": [
    "# Dataframe prepared and ready for analysis, with each column as a different ticker showing adjusted close price. \n",
    "# Index is set as dates.\n",
    "df"
   ]
  },
  {
   "cell_type": "markdown",
   "id": "d06dfab2",
   "metadata": {},
   "source": [
    "### Modifying Dataframe For Removed/Added Stocks"
   ]
  },
  {
   "cell_type": "code",
   "execution_count": 24,
   "id": "157899ec",
   "metadata": {},
   "outputs": [],
   "source": [
    "# Setting index to datetime\n",
    "df.index = pd.to_datetime(df.index)"
   ]
  },
  {
   "cell_type": "code",
   "execution_count": 25,
   "id": "f193e31d",
   "metadata": {},
   "outputs": [],
   "source": [
    "# Remove quotations around any ticker names as I had set this when importing from SQL.\n",
    "df.columns = df.columns.str.replace('\\\"', '') "
   ]
  },
  {
   "cell_type": "code",
   "execution_count": 26,
   "id": "777201f9",
   "metadata": {},
   "outputs": [],
   "source": [
    "# Creating function to remove stock prices of a ticker for dates after being removed from index.\n",
    "def filter_remove(ticker):\n",
    "    df[ticker] = df[df[ticker].index <= removed_tickers[removed_tickers['Ticker'] == ticker].index[0]][ticker]"
   ]
  },
  {
   "cell_type": "code",
   "execution_count": 27,
   "id": "026669f3",
   "metadata": {},
   "outputs": [],
   "source": [
    "# Creating function to remove stock prices of a ticker for dates before being added to index.\n",
    "def filter_add(ticker):\n",
    "    df[ticker] = df[df[ticker].index > SPY2015[SPY2015['Symbol'] == ticker]['Date added'].values[0]][ticker]"
   ]
  },
  {
   "cell_type": "code",
   "execution_count": 28,
   "id": "196fd2fc",
   "metadata": {},
   "outputs": [],
   "source": [
    "# Running both functions on removed tickers list and added tickers list.\n",
    "for ticker in removed_tickers['Ticker']:\n",
    "    filter_remove(ticker)\n",
    "for ticker in SPY2015['Symbol']:\n",
    "    filter_add(ticker)"
   ]
  },
  {
   "cell_type": "code",
   "execution_count": 29,
   "id": "c821594b",
   "metadata": {},
   "outputs": [],
   "source": [
    "# Change column types to float.\n",
    "df = df.astype('float')"
   ]
  },
  {
   "cell_type": "code",
   "execution_count": 30,
   "id": "abe77c11",
   "metadata": {},
   "outputs": [],
   "source": [
    "# Drop columns that have all null values.\n",
    "df = df.dropna(axis=1, how='all')"
   ]
  },
  {
   "cell_type": "markdown",
   "id": "c1340a72",
   "metadata": {},
   "source": [
    "## Analysis <a name=\"analysis\"></a>\n",
    "<hr style=\"border:1px solid gray\">\n",
    "\n",
    "### Calculating Metrics Using 5-Year Period \n",
    "We will create two equal-weighted portfolios: \n",
    "\n",
    "* **Sharpe Portfolio**: This portfolio will have five stocks with the highest Sharpe ratios. \n",
    "* **Mean Portfolio**: This portfolio will have five stocks with the highest mean daily returns.\n",
    "\n",
    "The time period for these calculations will be a 5-year period starting from 2015-01-01 to 2020-01-01.\n",
    "\n",
    "#### Note on Sharpe ratio:\n",
    "For the Sharpe ratio, a risk-free rate is included in the calculation. For simplication, we have not included the risk-free rate in our calculations as it does not affect our results."
   ]
  },
  {
   "cell_type": "code",
   "execution_count": 31,
   "id": "db5bba43",
   "metadata": {},
   "outputs": [],
   "source": [
    "# Filtering the dataset on dates before 2020-01-01 to calculate criteria for initial stock selection.\n",
    "df_main = df[df.index < '2020-01-01']"
   ]
  },
  {
   "cell_type": "code",
   "execution_count": 32,
   "id": "e4c339c8",
   "metadata": {},
   "outputs": [],
   "source": [
    "# Filtering the dataset for test to see how chosen stocks actually performed for period after 2020-01-01.\n",
    "df_test = df[df.index >= '2020-01-01']"
   ]
  },
  {
   "cell_type": "code",
   "execution_count": 33,
   "id": "9ada18a1",
   "metadata": {},
   "outputs": [],
   "source": [
    "# Changing values to show percentage changes.\n",
    "df_main_returns = df_main.pct_change()"
   ]
  },
  {
   "cell_type": "markdown",
   "id": "c8eaa004",
   "metadata": {},
   "source": [
    "### Stock Selection Based On Sharpe Ratio <a name=\"analysis2\"></a>"
   ]
  },
  {
   "cell_type": "code",
   "execution_count": 34,
   "id": "a796b918",
   "metadata": {
    "scrolled": true
   },
   "outputs": [
    {
     "data": {
      "text/plain": [
       "LYV     0.384289\n",
       "LVS     0.258301\n",
       "CDW     0.248122\n",
       "STE     0.180690\n",
       "ZBRA    0.177726\n",
       "dtype: float64"
      ]
     },
     "execution_count": 34,
     "metadata": {},
     "output_type": "execute_result"
    }
   ],
   "source": [
    "# Calculated Sharpe ratios and displaying the top five stocks with highest Sharpe ratios.\n",
    "(df_main_returns.mean() / df_main_returns.std()).nlargest(5)"
   ]
  },
  {
   "cell_type": "code",
   "execution_count": 35,
   "id": "c760c71e",
   "metadata": {},
   "outputs": [],
   "source": [
    "# Stock selection based on Sharpe ratio.\n",
    "df_main_sharpe = ['LYV', 'LVS', 'CDW', 'STE', 'ZBRA']"
   ]
  },
  {
   "cell_type": "markdown",
   "id": "e9117bf9",
   "metadata": {},
   "source": [
    "### Stock Selection Based On Mean Daily Returns"
   ]
  },
  {
   "cell_type": "code",
   "execution_count": 36,
   "id": "2f98ecd7",
   "metadata": {},
   "outputs": [
    {
     "data": {
      "text/plain": [
       "LVS     0.003787\n",
       "LYV     0.003055\n",
       "CDW     0.002836\n",
       "AMD     0.002386\n",
       "NVDA    0.002344\n",
       "dtype: float64"
      ]
     },
     "execution_count": 36,
     "metadata": {},
     "output_type": "execute_result"
    }
   ],
   "source": [
    "# Calculated mean daily returns and displaying top five stocks with highest mean daily return.\n",
    "df_main_returns.mean().nlargest(5)"
   ]
  },
  {
   "cell_type": "code",
   "execution_count": 37,
   "id": "5bd17f24",
   "metadata": {},
   "outputs": [],
   "source": [
    "# Stock selection based on mean daily return. \n",
    "df_main_mean = ['LVS', 'LYV', 'CDW', 'AMD', 'NVDA']"
   ]
  },
  {
   "cell_type": "markdown",
   "id": "a27489b6",
   "metadata": {},
   "source": [
    "### Calculating Performance For Following 3-Year Period <a name=\"analysis3\"></a>\n",
    "\n",
    "We will calculate and compare the mean daily return, standard deviation, Sharpe ratio, and cumulated returns.\n",
    "\n",
    "### S&P 500 Metrics Calculations"
   ]
  },
  {
   "cell_type": "code",
   "execution_count": 38,
   "id": "f84685c4",
   "metadata": {},
   "outputs": [
    {
     "name": "stdout",
     "output_type": "stream",
     "text": [
      "[*********************100%***********************]  1 of 1 completed\n"
     ]
    }
   ],
   "source": [
    "# Import S&P 500 stock data\n",
    "SPY_main = yf.download('^GSPC', start='2015-01-01')"
   ]
  },
  {
   "cell_type": "code",
   "execution_count": 39,
   "id": "fceea5b8",
   "metadata": {},
   "outputs": [],
   "source": [
    "# Changing values to show percentage changes.\n",
    "SPY_main_returns = SPY_main[(SPY_main.index >= '2020-01-01') & (SPY_main.index <= '2023-01-01')]['Adj Close'].pct_change()"
   ]
  },
  {
   "cell_type": "code",
   "execution_count": 40,
   "id": "8b653b66",
   "metadata": {},
   "outputs": [
    {
     "data": {
      "text/plain": [
       "0.0003468781191028411"
      ]
     },
     "execution_count": 40,
     "metadata": {},
     "output_type": "execute_result"
    }
   ],
   "source": [
    "# S&P 500 mean daily returns.\n",
    "SPY_main_returns.mean()"
   ]
  },
  {
   "cell_type": "code",
   "execution_count": 41,
   "id": "78cc4b17",
   "metadata": {},
   "outputs": [
    {
     "data": {
      "text/plain": [
       "0.016040817060764715"
      ]
     },
     "execution_count": 41,
     "metadata": {},
     "output_type": "execute_result"
    }
   ],
   "source": [
    "# S&P 500 daily standard deviation.\n",
    "SPY_main_returns.std()"
   ]
  },
  {
   "cell_type": "code",
   "execution_count": 42,
   "id": "3e5f902f",
   "metadata": {},
   "outputs": [
    {
     "data": {
      "text/plain": [
       "0.0216247163588252"
      ]
     },
     "execution_count": 42,
     "metadata": {},
     "output_type": "execute_result"
    }
   ],
   "source": [
    "# S&P 500 Sharpe ratio.\n",
    "SPY_main_returns.mean() / SPY_main_returns.std()"
   ]
  },
  {
   "cell_type": "code",
   "execution_count": 43,
   "id": "03eeebee",
   "metadata": {},
   "outputs": [
    {
     "data": {
      "text/plain": [
       "0.18153994625661762"
      ]
     },
     "execution_count": 43,
     "metadata": {},
     "output_type": "execute_result"
    }
   ],
   "source": [
    "# S&P 500 cumulative return.\n",
    "((SPY_main_returns + 1).cumprod() - 1)[-2]"
   ]
  },
  {
   "cell_type": "markdown",
   "id": "04ee9947",
   "metadata": {},
   "source": [
    "### Sharpe Ratio Portfolio Metrics Calculations"
   ]
  },
  {
   "cell_type": "code",
   "execution_count": 44,
   "id": "ea4bed5d",
   "metadata": {},
   "outputs": [],
   "source": [
    "# Subsetting date after 2020-01-01 on dataset for testing selected stocks.\n",
    "df_test_sharpe = df[(df.index >= '2020-01-01') & (df.index <= '2023-01-01')][df_main_sharpe]"
   ]
  },
  {
   "cell_type": "code",
   "execution_count": 45,
   "id": "46dbc267",
   "metadata": {},
   "outputs": [
    {
     "data": {
      "text/plain": [
       "array([0.2, 0.2, 0.2, 0.2, 0.2])"
      ]
     },
     "execution_count": 45,
     "metadata": {},
     "output_type": "execute_result"
    }
   ],
   "source": [
    "# Calculating weights for each stock in portfolio. As we are doing equal weighting for five stocks, it is 20% weight on each.\n",
    "weights = np.ones(len(df_test_sharpe.columns))\\\n",
    "            /(np.ones(len(df_test_sharpe.columns))).sum()\n",
    "weights"
   ]
  },
  {
   "cell_type": "code",
   "execution_count": 46,
   "id": "40bbf9c1",
   "metadata": {},
   "outputs": [],
   "source": [
    "# Change values to percentage changes.\n",
    "df_test_sharpe = df_test_sharpe.pct_change()"
   ]
  },
  {
   "cell_type": "code",
   "execution_count": 47,
   "id": "95713228",
   "metadata": {},
   "outputs": [
    {
     "data": {
      "text/plain": [
       "0.00041263221481681935"
      ]
     },
     "execution_count": 47,
     "metadata": {},
     "output_type": "execute_result"
    }
   ],
   "source": [
    "# Sharpe portfolio mean daily return.\n",
    "(weights * df_test_sharpe.mean()).sum() "
   ]
  },
  {
   "cell_type": "code",
   "execution_count": 48,
   "id": "6e373353",
   "metadata": {},
   "outputs": [
    {
     "data": {
      "text/plain": [
       "0.021508626624180082"
      ]
     },
     "execution_count": 48,
     "metadata": {},
     "output_type": "execute_result"
    }
   ],
   "source": [
    "# Sharpe portfolio daily standard deviation.\n",
    "(weights.dot(df_test_sharpe.cov().dot(weights)))**(1/2)"
   ]
  },
  {
   "cell_type": "code",
   "execution_count": 49,
   "id": "c80c9da6",
   "metadata": {},
   "outputs": [
    {
     "data": {
      "text/plain": [
       "0.01918449848178296"
      ]
     },
     "execution_count": 49,
     "metadata": {},
     "output_type": "execute_result"
    }
   ],
   "source": [
    "# Sharpe portfolio Sharpe ratio\n",
    "df_test_sharpe.mean().dot(weights) \\\n",
    "        / (weights.dot(df_test_sharpe.cov().dot(weights)))**(1/2)"
   ]
  },
  {
   "cell_type": "code",
   "execution_count": 50,
   "id": "418aaba9",
   "metadata": {},
   "outputs": [
    {
     "data": {
      "text/plain": [
       "Date\n",
       "2022-12-30    0.145785\n",
       "dtype: float64"
      ]
     },
     "execution_count": 50,
     "metadata": {},
     "output_type": "execute_result"
    }
   ],
   "source": [
    "# Sharpe portfolio cumulative returns\n",
    "((df_test_sharpe.mean(axis=1) + 1).cumprod() - 1).tail(1)"
   ]
  },
  {
   "cell_type": "markdown",
   "id": "37985a58",
   "metadata": {},
   "source": [
    "### Mean Portfolio Metrics Calculations"
   ]
  },
  {
   "cell_type": "code",
   "execution_count": 51,
   "id": "f3e4027a",
   "metadata": {},
   "outputs": [],
   "source": [
    "# Subsetting date after 2020-01-01 on dataset for testing selected stocks.\n",
    "df_test_mean = df[(df.index >= '2020-01-01') & (df.index <= '2023-01-01')][df_main_mean]"
   ]
  },
  {
   "cell_type": "code",
   "execution_count": 52,
   "id": "265fc5bb",
   "metadata": {},
   "outputs": [],
   "source": [
    "# Change values to percentage changes.\n",
    "df_test_mean = df_test_mean.pct_change()"
   ]
  },
  {
   "cell_type": "code",
   "execution_count": 53,
   "id": "8bde4b46",
   "metadata": {},
   "outputs": [
    {
     "data": {
      "text/plain": [
       "0.0008004786122827695"
      ]
     },
     "execution_count": 53,
     "metadata": {},
     "output_type": "execute_result"
    }
   ],
   "source": [
    "# Mean portfolio mean daily return.\n",
    "(weights * df_test_mean.mean()).sum() "
   ]
  },
  {
   "cell_type": "code",
   "execution_count": 54,
   "id": "9fad9a1a",
   "metadata": {},
   "outputs": [
    {
     "data": {
      "text/plain": [
       "0.025117384204978502"
      ]
     },
     "execution_count": 54,
     "metadata": {},
     "output_type": "execute_result"
    }
   ],
   "source": [
    "# Mean portfolio daily standard deviation.\n",
    "(weights.dot(df_test_mean.cov().dot(weights)))**(1/2)"
   ]
  },
  {
   "cell_type": "code",
   "execution_count": 55,
   "id": "ab29b2a9",
   "metadata": {},
   "outputs": [
    {
     "data": {
      "text/plain": [
       "0.03186950542899714"
      ]
     },
     "execution_count": 55,
     "metadata": {},
     "output_type": "execute_result"
    }
   ],
   "source": [
    "# Mean portfolio Sharpe ratio.\n",
    "df_test_mean.mean().dot(weights) \\\n",
    "        / (weights.dot(df_test_mean.cov().dot(weights)))**(1/2)"
   ]
  },
  {
   "cell_type": "code",
   "execution_count": 56,
   "id": "05d525a6",
   "metadata": {},
   "outputs": [
    {
     "data": {
      "text/plain": [
       "Date\n",
       "2022-12-30    0.440068\n",
       "dtype: float64"
      ]
     },
     "execution_count": 56,
     "metadata": {},
     "output_type": "execute_result"
    }
   ],
   "source": [
    "# Mean portfolio cumulative returns\n",
    "((df_test_mean.mean(axis=1) + 1).cumprod() - 1).tail(1)"
   ]
  },
  {
   "cell_type": "markdown",
   "id": "170c52de",
   "metadata": {},
   "source": [
    "### Results Comparison <a name=\"analysis4\"></a>"
   ]
  },
  {
   "cell_type": "code",
   "execution_count": 57,
   "id": "a712228b",
   "metadata": {},
   "outputs": [],
   "source": [
    "# Creating dataframe to display summary of results\n",
    "data = {'S&P 500': [SPY_main_returns.mean(), SPY_main_returns.std(), SPY_main_returns.mean() / SPY_main_returns.std(),\\\n",
    "                ((SPY_main_returns + 1).cumprod() - 1)[-2]],\n",
    "        'Sharpe Portfolio': [(weights * df_test_sharpe.mean()).sum(),\\\n",
    "                            (weights.dot(df_test_sharpe.cov().dot(weights)))**(1/2),\\\n",
    "                             df_test_sharpe.mean().dot(weights) / (weights.dot(df_test_sharpe.cov().dot(weights)))**(1/2),\\\n",
    "                             ((df_test_sharpe.mean(axis=1) + 1).cumprod() - 1).tail(1)[0]], \n",
    "        'Mean Portfolio': [(weights * df_test_mean.mean()).sum(),\\\n",
    "                            (weights.dot(df_test_mean.cov().dot(weights)))**(1/2),\\\n",
    "                             df_test_mean.mean().dot(weights) / (weights.dot(df_test_mean.cov().dot(weights)))**(1/2),\\\n",
    "                             ((df_test_mean.mean(axis=1) + 1).cumprod() - 1).tail(1)[0]]}\n",
    "df_compare = pd.DataFrame(data, index=['Mean Daily Return', 'Standard Deviation', 'Sharpe Ratio', 'Cumulative Return'])"
   ]
  },
  {
   "cell_type": "code",
   "execution_count": 58,
   "id": "7ce44353",
   "metadata": {},
   "outputs": [
    {
     "data": {
      "text/html": [
       "<div>\n",
       "<style scoped>\n",
       "    .dataframe tbody tr th:only-of-type {\n",
       "        vertical-align: middle;\n",
       "    }\n",
       "\n",
       "    .dataframe tbody tr th {\n",
       "        vertical-align: top;\n",
       "    }\n",
       "\n",
       "    .dataframe thead th {\n",
       "        text-align: right;\n",
       "    }\n",
       "</style>\n",
       "<table border=\"1\" class=\"dataframe\">\n",
       "  <thead>\n",
       "    <tr style=\"text-align: right;\">\n",
       "      <th></th>\n",
       "      <th>S&amp;P 500</th>\n",
       "      <th>Sharpe Portfolio</th>\n",
       "      <th>Mean Portfolio</th>\n",
       "    </tr>\n",
       "  </thead>\n",
       "  <tbody>\n",
       "    <tr>\n",
       "      <th>Mean Daily Return</th>\n",
       "      <td>0.000347</td>\n",
       "      <td>0.000413</td>\n",
       "      <td>0.000800</td>\n",
       "    </tr>\n",
       "    <tr>\n",
       "      <th>Standard Deviation</th>\n",
       "      <td>0.016041</td>\n",
       "      <td>0.021509</td>\n",
       "      <td>0.025117</td>\n",
       "    </tr>\n",
       "    <tr>\n",
       "      <th>Sharpe Ratio</th>\n",
       "      <td>0.021625</td>\n",
       "      <td>0.019184</td>\n",
       "      <td>0.031870</td>\n",
       "    </tr>\n",
       "    <tr>\n",
       "      <th>Cumulative Return</th>\n",
       "      <td>0.181540</td>\n",
       "      <td>0.145785</td>\n",
       "      <td>0.440068</td>\n",
       "    </tr>\n",
       "  </tbody>\n",
       "</table>\n",
       "</div>"
      ],
      "text/plain": [
       "                     S&P 500  Sharpe Portfolio  Mean Portfolio\n",
       "Mean Daily Return   0.000347          0.000413        0.000800\n",
       "Standard Deviation  0.016041          0.021509        0.025117\n",
       "Sharpe Ratio        0.021625          0.019184        0.031870\n",
       "Cumulative Return   0.181540          0.145785        0.440068"
      ]
     },
     "execution_count": 58,
     "metadata": {},
     "output_type": "execute_result"
    }
   ],
   "source": [
    "# Display comparison dateframe\n",
    "df_compare"
   ]
  },
  {
   "cell_type": "markdown",
   "id": "0cfca169",
   "metadata": {},
   "source": [
    "### Visualizing Cumulative Returns"
   ]
  },
  {
   "cell_type": "code",
   "execution_count": 59,
   "id": "4f5b7fcd",
   "metadata": {},
   "outputs": [],
   "source": [
    "# S&P 500 cumulative return.\n",
    "c_df = ((SPY_main_returns + 1).cumprod() - 1)"
   ]
  },
  {
   "cell_type": "code",
   "execution_count": 60,
   "id": "0de6d5ff",
   "metadata": {},
   "outputs": [],
   "source": [
    "# Sharpe portfolio cumulative returns.\n",
    "c_df2 = ((df_test_sharpe.mean(axis=1) + 1).cumprod() - 1)"
   ]
  },
  {
   "cell_type": "code",
   "execution_count": 61,
   "id": "42708e3a",
   "metadata": {},
   "outputs": [],
   "source": [
    "# Mean portfolio cumulative returns.\n",
    "c_df3 = ((df_test_mean.mean(axis=1) + 1).cumprod() - 1)"
   ]
  },
  {
   "cell_type": "code",
   "execution_count": 62,
   "id": "25fafe3f",
   "metadata": {},
   "outputs": [],
   "source": [
    "# Combining all three dataframes.\n",
    "c_df4 = pd.concat([c_df, c_df2, c_df3], axis=1)"
   ]
  },
  {
   "cell_type": "code",
   "execution_count": 63,
   "id": "a344e288",
   "metadata": {},
   "outputs": [],
   "source": [
    "# Renaming columns on combined dataframe.\n",
    "c_df4.columns = ['S&P 500', 'Sharpe Portfolio', 'Mean Portfolio']"
   ]
  },
  {
   "cell_type": "code",
   "execution_count": 80,
   "id": "a59a0778",
   "metadata": {},
   "outputs": [
    {
     "data": {
      "text/plain": [
       "Text(0.5, 1.0, 'Cumulative Returns')"
      ]
     },
     "execution_count": 80,
     "metadata": {},
     "output_type": "execute_result"
    },
    {
     "data": {
      "image/png": "[encoded data removed]",
      "text/plain": [
       "<Figure size 640x480 with 1 Axes>"
      ]
     },
     "metadata": {},
     "output_type": "display_data"
    }
   ],
   "source": [
    "# Lineplot to compare cumulative returns.\n",
    "c_df4.plot()\n",
    "plt.title('Cumulative Returns')"
   ]
  },
  {
   "cell_type": "markdown",
   "id": "8c97411b",
   "metadata": {},
   "source": [
    "### Comparing With Individual Stocks\n",
    "\n",
    "We will now compare the metrics of all selected stocks in order to see if holding the portfolio would be better than holding the individual stocks. "
   ]
  },
  {
   "cell_type": "code",
   "execution_count": 65,
   "id": "7b1e40c2",
   "metadata": {},
   "outputs": [],
   "source": [
    "# All the stocks selected for both portfolios. There is overlap with LVS, LYV, and CDW.\n",
    "final_tickers = ['LVS', 'LYV', 'CDW', 'AMD', 'NVDA', 'STE', 'ZBRA']"
   ]
  },
  {
   "cell_type": "code",
   "execution_count": 66,
   "id": "8aa27127",
   "metadata": {},
   "outputs": [],
   "source": [
    "# Subsetting date for after 2020-01-01 with only selected stocks.\n",
    "df_test_stocks = df[(df.index >= '2020-01-01') & (df.index <= '2023-01-01')][['LYV', 'LVS', 'CDW', 'STE', 'ZBRA', 'AMD', 'NVDA']]"
   ]
  },
  {
   "cell_type": "code",
   "execution_count": 67,
   "id": "620b353b",
   "metadata": {},
   "outputs": [],
   "source": [
    "# Changing values to percentage changes.\n",
    "df_test_stocks = df_test_stocks.pct_change()"
   ]
  },
  {
   "cell_type": "code",
   "execution_count": 82,
   "id": "73466472",
   "metadata": {},
   "outputs": [
    {
     "data": {
      "text/plain": [
       "LYV     0.000549\n",
       "LVS     0.000069\n",
       "CDW     0.000601\n",
       "STE     0.000497\n",
       "ZBRA    0.000347\n",
       "AMD     0.000978\n",
       "NVDA    0.001806\n",
       "dtype: float64"
      ]
     },
     "execution_count": 82,
     "metadata": {},
     "output_type": "execute_result"
    }
   ],
   "source": [
    "# Stocks mean daily returns.\n",
    "df_test_stocks.mean()"
   ]
  },
  {
   "cell_type": "code",
   "execution_count": 69,
   "id": "7c0b128a",
   "metadata": {},
   "outputs": [
    {
     "data": {
      "text/plain": [
       "LYV     0.034350\n",
       "LVS     0.033347\n",
       "CDW     0.023160\n",
       "STE     0.020045\n",
       "ZBRA    0.026795\n",
       "AMD     0.035007\n",
       "NVDA    0.035262\n",
       "dtype: float64"
      ]
     },
     "execution_count": 69,
     "metadata": {},
     "output_type": "execute_result"
    }
   ],
   "source": [
    "# Stocks daily standard deviation.\n",
    "df_test_stocks.std()"
   ]
  },
  {
   "cell_type": "code",
   "execution_count": 70,
   "id": "e9eee62b",
   "metadata": {},
   "outputs": [
    {
     "data": {
      "text/plain": [
       "LYV     0.015993\n",
       "LVS     0.002059\n",
       "CDW     0.025945\n",
       "STE     0.024812\n",
       "ZBRA    0.012947\n",
       "AMD     0.027927\n",
       "NVDA    0.051213\n",
       "dtype: float64"
      ]
     },
     "execution_count": 70,
     "metadata": {},
     "output_type": "execute_result"
    }
   ],
   "source": [
    "# Stocks Sharpe ratio.\n",
    "df_test_stocks.mean() / df_test_stocks.std()"
   ]
  },
  {
   "cell_type": "code",
   "execution_count": 71,
   "id": "2231e612",
   "metadata": {},
   "outputs": [],
   "source": [
    "# Stocks cumulative return.\n",
    "df_stocks = (df_test_stocks + 1).cumprod() - 1"
   ]
  },
  {
   "cell_type": "code",
   "execution_count": 72,
   "id": "26686029",
   "metadata": {},
   "outputs": [
    {
     "data": {
      "text/html": [
       "<div>\n",
       "<style scoped>\n",
       "    .dataframe tbody tr th:only-of-type {\n",
       "        vertical-align: middle;\n",
       "    }\n",
       "\n",
       "    .dataframe tbody tr th {\n",
       "        vertical-align: top;\n",
       "    }\n",
       "\n",
       "    .dataframe thead th {\n",
       "        text-align: right;\n",
       "    }\n",
       "</style>\n",
       "<table border=\"1\" class=\"dataframe\">\n",
       "  <thead>\n",
       "    <tr style=\"text-align: right;\">\n",
       "      <th></th>\n",
       "      <th>LYV</th>\n",
       "      <th>LVS</th>\n",
       "      <th>CDW</th>\n",
       "      <th>STE</th>\n",
       "      <th>ZBRA</th>\n",
       "      <th>AMD</th>\n",
       "      <th>NVDA</th>\n",
       "    </tr>\n",
       "    <tr>\n",
       "      <th>Date</th>\n",
       "      <th></th>\n",
       "      <th></th>\n",
       "      <th></th>\n",
       "      <th></th>\n",
       "      <th></th>\n",
       "      <th></th>\n",
       "      <th></th>\n",
       "    </tr>\n",
       "  </thead>\n",
       "  <tbody>\n",
       "    <tr>\n",
       "      <th>2022-12-30</th>\n",
       "      <td>-0.029907</td>\n",
       "      <td>-0.3075</td>\n",
       "      <td>0.284394</td>\n",
       "      <td>0.25002</td>\n",
       "      <td>-0.010535</td>\n",
       "      <td>0.319145</td>\n",
       "      <td>1.445017</td>\n",
       "    </tr>\n",
       "  </tbody>\n",
       "</table>\n",
       "</div>"
      ],
      "text/plain": [
       "                 LYV     LVS       CDW      STE      ZBRA       AMD      NVDA\n",
       "Date                                                                         \n",
       "2022-12-30 -0.029907 -0.3075  0.284394  0.25002 -0.010535  0.319145  1.445017"
      ]
     },
     "execution_count": 72,
     "metadata": {},
     "output_type": "execute_result"
    }
   ],
   "source": [
    "# Showing last row with latest cumulative return.\n",
    "df_stocks.tail(1)"
   ]
  },
  {
   "cell_type": "code",
   "execution_count": 73,
   "id": "0e5ecb42",
   "metadata": {},
   "outputs": [],
   "source": [
    "# Creating a function to create a dataframe with all the calculated metrics for selected stocks.\n",
    "def stock_connect(tickers):\n",
    "    \"\"\"\n",
    "    Combines mean daily return, standard deviation, Sharpe ratio, and cumulative return\n",
    "    into one dataframe for a list of tickers.\n",
    "    \"\"\"\n",
    "    df_ = pd.DataFrame()\n",
    "    for ticker in tickers:\n",
    "        data = {ticker: [df_test_stocks[ticker].mean(), df_test_stocks[ticker].std(), \\\n",
    "                    (df_test_stocks[ticker].mean() / df_test_stocks[ticker].std()), \\\n",
    "                    ((df_test_stocks + 1).cumprod() - 1)[ticker].tail(1)[0]]}\n",
    "        df_ = pd.concat([df_, pd.DataFrame(data, index=['Mean Daily Return', 'Standard Deviation',\\\n",
    "                                                        'Sharpe Ratio', 'Cumulative Return'])], axis=1)\n",
    "    return df_"
   ]
  },
  {
   "cell_type": "code",
   "execution_count": 74,
   "id": "4d02de64",
   "metadata": {},
   "outputs": [],
   "source": [
    "# Running function and storing the resulting dataframe.\n",
    "df_stocks_final = stock_connect(final_tickers)"
   ]
  },
  {
   "cell_type": "code",
   "execution_count": 75,
   "id": "78d9ebd9",
   "metadata": {},
   "outputs": [
    {
     "data": {
      "text/html": [
       "<div>\n",
       "<style scoped>\n",
       "    .dataframe tbody tr th:only-of-type {\n",
       "        vertical-align: middle;\n",
       "    }\n",
       "\n",
       "    .dataframe tbody tr th {\n",
       "        vertical-align: top;\n",
       "    }\n",
       "\n",
       "    .dataframe thead th {\n",
       "        text-align: right;\n",
       "    }\n",
       "</style>\n",
       "<table border=\"1\" class=\"dataframe\">\n",
       "  <thead>\n",
       "    <tr style=\"text-align: right;\">\n",
       "      <th></th>\n",
       "      <th>S&amp;P 500</th>\n",
       "      <th>Sharpe Portfolio</th>\n",
       "      <th>Mean Portfolio</th>\n",
       "      <th>LVS</th>\n",
       "      <th>LYV</th>\n",
       "      <th>CDW</th>\n",
       "      <th>AMD</th>\n",
       "      <th>NVDA</th>\n",
       "      <th>STE</th>\n",
       "      <th>ZBRA</th>\n",
       "    </tr>\n",
       "  </thead>\n",
       "  <tbody>\n",
       "    <tr>\n",
       "      <th>Mean Daily Return</th>\n",
       "      <td>0.000347</td>\n",
       "      <td>0.000413</td>\n",
       "      <td>0.000800</td>\n",
       "      <td>0.000069</td>\n",
       "      <td>0.000549</td>\n",
       "      <td>0.000601</td>\n",
       "      <td>0.000978</td>\n",
       "      <td>0.001806</td>\n",
       "      <td>0.000497</td>\n",
       "      <td>0.000347</td>\n",
       "    </tr>\n",
       "    <tr>\n",
       "      <th>Standard Deviation</th>\n",
       "      <td>0.016041</td>\n",
       "      <td>0.021509</td>\n",
       "      <td>0.025117</td>\n",
       "      <td>0.033347</td>\n",
       "      <td>0.034350</td>\n",
       "      <td>0.023160</td>\n",
       "      <td>0.035007</td>\n",
       "      <td>0.035262</td>\n",
       "      <td>0.020045</td>\n",
       "      <td>0.026795</td>\n",
       "    </tr>\n",
       "    <tr>\n",
       "      <th>Sharpe Ratio</th>\n",
       "      <td>0.021625</td>\n",
       "      <td>0.019184</td>\n",
       "      <td>0.031870</td>\n",
       "      <td>0.002059</td>\n",
       "      <td>0.015993</td>\n",
       "      <td>0.025945</td>\n",
       "      <td>0.027927</td>\n",
       "      <td>0.051213</td>\n",
       "      <td>0.024812</td>\n",
       "      <td>0.012947</td>\n",
       "    </tr>\n",
       "    <tr>\n",
       "      <th>Cumulative Return</th>\n",
       "      <td>0.181540</td>\n",
       "      <td>0.145785</td>\n",
       "      <td>0.440068</td>\n",
       "      <td>-0.307500</td>\n",
       "      <td>-0.029907</td>\n",
       "      <td>0.284394</td>\n",
       "      <td>0.319145</td>\n",
       "      <td>1.445017</td>\n",
       "      <td>0.250020</td>\n",
       "      <td>-0.010535</td>\n",
       "    </tr>\n",
       "  </tbody>\n",
       "</table>\n",
       "</div>"
      ],
      "text/plain": [
       "                     S&P 500  Sharpe Portfolio  Mean Portfolio       LVS  \\\n",
       "Mean Daily Return   0.000347          0.000413        0.000800  0.000069   \n",
       "Standard Deviation  0.016041          0.021509        0.025117  0.033347   \n",
       "Sharpe Ratio        0.021625          0.019184        0.031870  0.002059   \n",
       "Cumulative Return   0.181540          0.145785        0.440068 -0.307500   \n",
       "\n",
       "                         LYV       CDW       AMD      NVDA       STE      ZBRA  \n",
       "Mean Daily Return   0.000549  0.000601  0.000978  0.001806  0.000497  0.000347  \n",
       "Standard Deviation  0.034350  0.023160  0.035007  0.035262  0.020045  0.026795  \n",
       "Sharpe Ratio        0.015993  0.025945  0.027927  0.051213  0.024812  0.012947  \n",
       "Cumulative Return  -0.029907  0.284394  0.319145  1.445017  0.250020 -0.010535  "
      ]
     },
     "execution_count": 75,
     "metadata": {},
     "output_type": "execute_result"
    }
   ],
   "source": [
    "# Combining stocks dataframe with portfolios/index to get one dataframe for easy comparison.\n",
    "pd.concat([df_compare, df_stocks_final], axis=1)"
   ]
  },
  {
   "cell_type": "markdown",
   "id": "4ccd5f49",
   "metadata": {},
   "source": [
    "From the summary of results, the **Mean Portfolio** that held **LVS, LYV, CDW, AMD, and NVDA** outperformed both the S&P 500 and Sharpe Portfolio. **It had the highest risk-adjusted return based on the Sharpe ratio, while also having the highest cumulative return.** It also performed better than all its constituent stocks held individually except for NVDA. However, NVDA had an exceptional run and holding only NVDA out of all possible stocks would have been extremely lucky. The Mean Portfolio would also have had less volatility as seen from the lower standard deviation compared to NVDA. \n",
    "\n",
    "**Therefore, we will select five stocks for the final portfolio based on the highest mean daily returns.**"
   ]
  },
  {
   "cell_type": "markdown",
   "id": "05dd4735",
   "metadata": {},
   "source": [
    "### Selecting Five Stocks For Final Portfolio\n",
    "\n",
    "We will use a more recent 5-year period to select our final five stocks, **starting from 2018-08-10 to 2023-08-10.**"
   ]
  },
  {
   "cell_type": "code",
   "execution_count": 76,
   "id": "0d400d8b",
   "metadata": {},
   "outputs": [],
   "source": [
    "# Subset dataframe for 2018-08-01 and later\n",
    "df_select = df[df.index >= '2018-08-10']"
   ]
  },
  {
   "cell_type": "code",
   "execution_count": 77,
   "id": "13f58159",
   "metadata": {},
   "outputs": [],
   "source": [
    "# Change values to percentage changes.\n",
    "df_select = df_select.pct_change()"
   ]
  },
  {
   "cell_type": "code",
   "execution_count": 78,
   "id": "6167f67e",
   "metadata": {},
   "outputs": [
    {
     "data": {
      "text/plain": [
       "ON      0.002792\n",
       "FICO    0.002240\n",
       "CEG     0.002139\n",
       "NVDA    0.002089\n",
       "AMD     0.002036\n",
       "dtype: float64"
      ]
     },
     "execution_count": 78,
     "metadata": {},
     "output_type": "execute_result"
    }
   ],
   "source": [
    "# Calculate mean daily returns and display the top five stocks with highest values.\n",
    "df_select.mean().nlargest(5)"
   ]
  },
  {
   "cell_type": "markdown",
   "id": "0e43bddf",
   "metadata": {},
   "source": [
    "## Final Results <a name=\"final\"></a>\n",
    "<hr style=\"border:1px solid gray\">\n",
    "\n",
    "**Five stocks to hold in an equal-weighted portfolio now (2023-08-10) for a period of 3 years in order to potentially outperform the S&P 500 index on an absolute and risk-adjusted basis are:**\n",
    "\n",
    "##### 1) ON - ON Semiconductor Corporation\n",
    "##### 2) FICO - Fair Isaac Corporation\n",
    "##### 3) CEG - Constellation Energy Corporation\n",
    "##### 4) NVDA - NVIDIA Corporation\n",
    "##### 5) AMD - Advanced Micro Devices, Inc."
   ]
  }
 ],
 "metadata": {
  "kernelspec": {
   "display_name": "Python 3 (ipykernel)",
   "language": "python",
   "name": "python3"
  },
  "language_info": {
   "codemirror_mode": {
    "name": "ipython",
    "version": 3
   },
   "file_extension": ".py",
   "mimetype": "text/x-python",
   "name": "python",
   "nbconvert_exporter": "python",
   "pygments_lexer": "ipython3",
   "version": "3.9.13"
  }
 },
 "nbformat": 4,
 "nbformat_minor": 5
}
