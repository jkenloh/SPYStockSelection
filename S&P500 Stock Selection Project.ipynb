{
 "cells": [
  {
   "cell_type": "markdown",
   "id": "20c6cc42",
   "metadata": {},
   "source": [
    "# S&P 500 Stock Selection\n",
    "## Creating SQL Database and Data Analysis Using Python\n",
    "<hr style=\"border:1px solid gray\">\n",
    "\n",
    "## Project Objective\n",
    "\n",
    "The primary goal of this project is to find five stocks from the S&P 500 index that can be held together in a portfolio that can potentially beat the index based on both returns and risk. Another goal of this project is to create and store the stock data in an SQL database so that the information can be accessed even offline.\n",
    "\n",
    "### Steps to find the five stocks:\n",
    "\n",
    "   1) Retrieve the stock data from the S&P 500 index.\n",
    "    \n",
    "   2) Clean and modify the dataset to include stocks that were removed/added based on dates. \n",
    "    \n",
    "   3) Split the dataset to have one part for stock selection and another part for testing the results. We will select five stocks based on the data from the period of 2015-01-01 to 2019-12-31 (5 years) so that we can then test to see how they actually performed in the following period of 2020-01-01 to our current date. \n",
    "    \n",
    "   4) We will compare the results to the S&P 500 index to see if it outperformed or underperformed, and also to select the criteria that gave the best results, if any criteria actually did beat the index.\n",
    "    \n",
    "   5) We will then use the chosen criteria to screen for five new stocks to hold in a portfolio, using a more recent time period, that could potentially outperform the index based on both returns and risk. The time period for this selection will be 2019-01-01 to our current date, which will be close to a 5 year period as well.\n",
    "\n",
    "## Data\n",
    "\n",
    "The stock data will be downloaded from Yahoo Finance using the yfinance library, and then transferred to an SQL database using the SQL toolkit SQLalchemy and SQlite. There will also be a function within this project to update the SQL database without re-downloading the initial data. The data will then be retrieved from this database in order to do analysis in Python. \n",
    "\n",
    "## Addressing Survivorship Bias\n",
    "\n",
    "As the S&P 500 components get updated periodically, if we do not modify the dataset to include stocks that were removed from the index, then there would be survivorship bias on our final stocks selection as we would not have even considered the stocks that were still in the index during our selection process. Therefore, we need to include those stocks that were removed in the past before conducting the analysis. We also need to include stocks that were added to the index, as we need to make sure that we are not selecting stocks before the date they were actually added.\n",
    "\n",
    "<hr style=\"border:1px solid gray\">\n",
    "\n",
    "### Preliminaries"
   ]
  },
  {
   "cell_type": "code",
   "execution_count": 144,
   "id": "360373d7",
   "metadata": {},
   "outputs": [],
   "source": [
    "# Import packages required.\n",
    "import pandas as pd\n",
    "import numpy as np\n",
    "import yfinance as yf\n",
    "from sqlalchemy import create_engine\n",
    "import datetime \n",
    "import matplotlib.pyplot as plt"
   ]
  },
  {
   "cell_type": "code",
   "execution_count": 36,
   "id": "d30889b4",
   "metadata": {},
   "outputs": [
    {
     "data": {
      "text/html": [
       "<div>\n",
       "<style scoped>\n",
       "    .dataframe tbody tr th:only-of-type {\n",
       "        vertical-align: middle;\n",
       "    }\n",
       "\n",
       "    .dataframe tbody tr th {\n",
       "        vertical-align: top;\n",
       "    }\n",
       "\n",
       "    .dataframe thead th {\n",
       "        text-align: right;\n",
       "    }\n",
       "</style>\n",
       "<table border=\"1\" class=\"dataframe\">\n",
       "  <thead>\n",
       "    <tr style=\"text-align: right;\">\n",
       "      <th></th>\n",
       "      <th>Symbol</th>\n",
       "      <th>Date added</th>\n",
       "    </tr>\n",
       "  </thead>\n",
       "  <tbody>\n",
       "    <tr>\n",
       "      <th>0</th>\n",
       "      <td>MMM</td>\n",
       "      <td>1957-03-04</td>\n",
       "    </tr>\n",
       "    <tr>\n",
       "      <th>1</th>\n",
       "      <td>AOS</td>\n",
       "      <td>2017-07-26</td>\n",
       "    </tr>\n",
       "    <tr>\n",
       "      <th>2</th>\n",
       "      <td>ABT</td>\n",
       "      <td>1957-03-04</td>\n",
       "    </tr>\n",
       "    <tr>\n",
       "      <th>3</th>\n",
       "      <td>ABBV</td>\n",
       "      <td>2012-12-31</td>\n",
       "    </tr>\n",
       "    <tr>\n",
       "      <th>4</th>\n",
       "      <td>ACN</td>\n",
       "      <td>2011-07-06</td>\n",
       "    </tr>\n",
       "    <tr>\n",
       "      <th>...</th>\n",
       "      <td>...</td>\n",
       "      <td>...</td>\n",
       "    </tr>\n",
       "    <tr>\n",
       "      <th>498</th>\n",
       "      <td>YUM</td>\n",
       "      <td>1997-10-06</td>\n",
       "    </tr>\n",
       "    <tr>\n",
       "      <th>499</th>\n",
       "      <td>ZBRA</td>\n",
       "      <td>2019-12-23</td>\n",
       "    </tr>\n",
       "    <tr>\n",
       "      <th>500</th>\n",
       "      <td>ZBH</td>\n",
       "      <td>2001-08-07</td>\n",
       "    </tr>\n",
       "    <tr>\n",
       "      <th>501</th>\n",
       "      <td>ZION</td>\n",
       "      <td>2001-06-22</td>\n",
       "    </tr>\n",
       "    <tr>\n",
       "      <th>502</th>\n",
       "      <td>ZTS</td>\n",
       "      <td>2013-06-21</td>\n",
       "    </tr>\n",
       "  </tbody>\n",
       "</table>\n",
       "<p>503 rows × 2 columns</p>\n",
       "</div>"
      ],
      "text/plain": [
       "    Symbol  Date added\n",
       "0      MMM  1957-03-04\n",
       "1      AOS  2017-07-26\n",
       "2      ABT  1957-03-04\n",
       "3     ABBV  2012-12-31\n",
       "4      ACN  2011-07-06\n",
       "..     ...         ...\n",
       "498    YUM  1997-10-06\n",
       "499   ZBRA  2019-12-23\n",
       "500    ZBH  2001-08-07\n",
       "501   ZION  2001-06-22\n",
       "502    ZTS  2013-06-21\n",
       "\n",
       "[503 rows x 2 columns]"
      ]
     },
     "execution_count": 36,
     "metadata": {},
     "output_type": "execute_result"
    }
   ],
   "source": [
    "# Getting dataframe with ticker names and date added to S&P500 from Wikipedia page.\n",
    "SPYtickers = pd.read_html('https://en.wikipedia.org/wiki/List_of_S%26P_500_companies')[0][['Symbol', 'Date added']]\n",
    "SPYtickers"
   ]
  },
  {
   "cell_type": "code",
   "execution_count": 37,
   "id": "fb4f1b9f",
   "metadata": {},
   "outputs": [],
   "source": [
    "# Creating a list with all current SPY ticker names. Removed tickers will be added to this list later as well.\n",
    "SPYalltickers = SPYtickers['Symbol'].to_list()"
   ]
  },
  {
   "cell_type": "code",
   "execution_count": 75,
   "id": "1f39a71a",
   "metadata": {},
   "outputs": [
    {
     "data": {
      "text/html": [
       "<div>\n",
       "<style scoped>\n",
       "    .dataframe tbody tr th:only-of-type {\n",
       "        vertical-align: middle;\n",
       "    }\n",
       "\n",
       "    .dataframe tbody tr th {\n",
       "        vertical-align: top;\n",
       "    }\n",
       "\n",
       "    .dataframe thead th {\n",
       "        text-align: right;\n",
       "    }\n",
       "</style>\n",
       "<table border=\"1\" class=\"dataframe\">\n",
       "  <thead>\n",
       "    <tr style=\"text-align: right;\">\n",
       "      <th></th>\n",
       "      <th>Symbol</th>\n",
       "      <th>Date added</th>\n",
       "    </tr>\n",
       "  </thead>\n",
       "  <tbody>\n",
       "    <tr>\n",
       "      <th>1</th>\n",
       "      <td>AOS</td>\n",
       "      <td>2017-07-26</td>\n",
       "    </tr>\n",
       "    <tr>\n",
       "      <th>5</th>\n",
       "      <td>ATVI</td>\n",
       "      <td>2015-08-31</td>\n",
       "    </tr>\n",
       "    <tr>\n",
       "      <th>9</th>\n",
       "      <td>AAP</td>\n",
       "      <td>2015-07-09</td>\n",
       "    </tr>\n",
       "    <tr>\n",
       "      <th>15</th>\n",
       "      <td>ALK</td>\n",
       "      <td>2016-05-13</td>\n",
       "    </tr>\n",
       "    <tr>\n",
       "      <th>16</th>\n",
       "      <td>ALB</td>\n",
       "      <td>2016-07-01</td>\n",
       "    </tr>\n",
       "    <tr>\n",
       "      <th>...</th>\n",
       "      <td>...</td>\n",
       "      <td>...</td>\n",
       "    </tr>\n",
       "    <tr>\n",
       "      <th>478</th>\n",
       "      <td>WAB</td>\n",
       "      <td>2019-02-27</td>\n",
       "    </tr>\n",
       "    <tr>\n",
       "      <th>481</th>\n",
       "      <td>WBD</td>\n",
       "      <td>2022-04-11</td>\n",
       "    </tr>\n",
       "    <tr>\n",
       "      <th>487</th>\n",
       "      <td>WST</td>\n",
       "      <td>2020-05-22</td>\n",
       "    </tr>\n",
       "    <tr>\n",
       "      <th>493</th>\n",
       "      <td>WTW</td>\n",
       "      <td>2016-01-05</td>\n",
       "    </tr>\n",
       "    <tr>\n",
       "      <th>499</th>\n",
       "      <td>ZBRA</td>\n",
       "      <td>2019-12-23</td>\n",
       "    </tr>\n",
       "  </tbody>\n",
       "</table>\n",
       "<p>154 rows × 2 columns</p>\n",
       "</div>"
      ],
      "text/plain": [
       "    Symbol  Date added\n",
       "1      AOS  2017-07-26\n",
       "5     ATVI  2015-08-31\n",
       "9      AAP  2015-07-09\n",
       "15     ALK  2016-05-13\n",
       "16     ALB  2016-07-01\n",
       "..     ...         ...\n",
       "478    WAB  2019-02-27\n",
       "481    WBD  2022-04-11\n",
       "487    WST  2020-05-22\n",
       "493    WTW  2016-01-05\n",
       "499   ZBRA  2019-12-23\n",
       "\n",
       "[154 rows x 2 columns]"
      ]
     },
     "execution_count": 75,
     "metadata": {},
     "output_type": "execute_result"
    }
   ],
   "source": [
    "# Analysis starting date will be 2015-01-01, so filtering out another dataframe that only lists names added after 2015-01-01.\n",
    "SPY2015 = SPYtickers[SPYtickers['Date added'] > '2015-01-01']\n",
    "SPY2015"
   ]
  },
  {
   "cell_type": "code",
   "execution_count": 10,
   "id": "c410f09a",
   "metadata": {},
   "outputs": [
    {
     "data": {
      "text/html": [
       "<div>\n",
       "<style scoped>\n",
       "    .dataframe tbody tr th:only-of-type {\n",
       "        vertical-align: middle;\n",
       "    }\n",
       "\n",
       "    .dataframe tbody tr th {\n",
       "        vertical-align: top;\n",
       "    }\n",
       "\n",
       "    .dataframe thead tr th {\n",
       "        text-align: left;\n",
       "    }\n",
       "</style>\n",
       "<table border=\"1\" class=\"dataframe\">\n",
       "  <thead>\n",
       "    <tr>\n",
       "      <th></th>\n",
       "      <th>Date</th>\n",
       "      <th colspan=\"2\" halign=\"left\">Removed</th>\n",
       "    </tr>\n",
       "    <tr>\n",
       "      <th></th>\n",
       "      <th>Date</th>\n",
       "      <th>Ticker</th>\n",
       "      <th>Security</th>\n",
       "    </tr>\n",
       "  </thead>\n",
       "  <tbody>\n",
       "    <tr>\n",
       "      <th>0</th>\n",
       "      <td>June 20, 2023</td>\n",
       "      <td>DISH</td>\n",
       "      <td>Dish Network</td>\n",
       "    </tr>\n",
       "    <tr>\n",
       "      <th>1</th>\n",
       "      <td>May 4, 2023</td>\n",
       "      <td>FRC</td>\n",
       "      <td>First Republic Bank</td>\n",
       "    </tr>\n",
       "    <tr>\n",
       "      <th>2</th>\n",
       "      <td>March 20, 2023</td>\n",
       "      <td>LUMN</td>\n",
       "      <td>Lumen Technologies</td>\n",
       "    </tr>\n",
       "    <tr>\n",
       "      <th>3</th>\n",
       "      <td>March 15, 2023</td>\n",
       "      <td>SBNY</td>\n",
       "      <td>Signature Bank</td>\n",
       "    </tr>\n",
       "    <tr>\n",
       "      <th>4</th>\n",
       "      <td>March 15, 2023</td>\n",
       "      <td>SIVB</td>\n",
       "      <td>SVB Financial Group</td>\n",
       "    </tr>\n",
       "    <tr>\n",
       "      <th>...</th>\n",
       "      <td>...</td>\n",
       "      <td>...</td>\n",
       "      <td>...</td>\n",
       "    </tr>\n",
       "    <tr>\n",
       "      <th>320</th>\n",
       "      <td>June 9, 1999</td>\n",
       "      <td>HPH</td>\n",
       "      <td>Harnischfeger Industries</td>\n",
       "    </tr>\n",
       "    <tr>\n",
       "      <th>321</th>\n",
       "      <td>December 11, 1998</td>\n",
       "      <td>LDW</td>\n",
       "      <td>Amoco</td>\n",
       "    </tr>\n",
       "    <tr>\n",
       "      <th>322</th>\n",
       "      <td>December 11, 1998</td>\n",
       "      <td>GRN</td>\n",
       "      <td>General Re</td>\n",
       "    </tr>\n",
       "    <tr>\n",
       "      <th>323</th>\n",
       "      <td>December 11, 1998</td>\n",
       "      <td>SUN</td>\n",
       "      <td>SunAmerica</td>\n",
       "    </tr>\n",
       "    <tr>\n",
       "      <th>324</th>\n",
       "      <td>June 17, 1997</td>\n",
       "      <td>USL</td>\n",
       "      <td>USLife</td>\n",
       "    </tr>\n",
       "  </tbody>\n",
       "</table>\n",
       "<p>325 rows × 3 columns</p>\n",
       "</div>"
      ],
      "text/plain": [
       "                  Date Removed                          \n",
       "                  Date  Ticker                  Security\n",
       "0        June 20, 2023    DISH              Dish Network\n",
       "1          May 4, 2023     FRC       First Republic Bank\n",
       "2       March 20, 2023    LUMN        Lumen Technologies\n",
       "3       March 15, 2023    SBNY            Signature Bank\n",
       "4       March 15, 2023    SIVB       SVB Financial Group\n",
       "..                 ...     ...                       ...\n",
       "320       June 9, 1999     HPH  Harnischfeger Industries\n",
       "321  December 11, 1998     LDW                     Amoco\n",
       "322  December 11, 1998     GRN                General Re\n",
       "323  December 11, 1998     SUN                SunAmerica\n",
       "324      June 17, 1997     USL                    USLife\n",
       "\n",
       "[325 rows x 3 columns]"
      ]
     },
     "execution_count": 10,
     "metadata": {},
     "output_type": "execute_result"
    }
   ],
   "source": [
    "# Find the tickers that had been removed from the index.\n",
    "# On the same wikipedia page, there is another table that lists date and component changes of the S&P 500.\n",
    "removed_tickers = pd.read_html('https://en.wikipedia.org/wiki/List_of_S%26P_500_companies')[1][['Date', 'Removed']]\n",
    "removed_tickers"
   ]
  },
  {
   "cell_type": "code",
   "execution_count": 30,
   "id": "f04f1f19",
   "metadata": {},
   "outputs": [
    {
     "data": {
      "text/html": [
       "<div>\n",
       "<style scoped>\n",
       "    .dataframe tbody tr th:only-of-type {\n",
       "        vertical-align: middle;\n",
       "    }\n",
       "\n",
       "    .dataframe tbody tr th {\n",
       "        vertical-align: top;\n",
       "    }\n",
       "\n",
       "    .dataframe thead tr th {\n",
       "        text-align: left;\n",
       "    }\n",
       "\n",
       "    .dataframe thead tr:last-of-type th {\n",
       "        text-align: right;\n",
       "    }\n",
       "</style>\n",
       "<table border=\"1\" class=\"dataframe\">\n",
       "  <thead>\n",
       "    <tr>\n",
       "      <th></th>\n",
       "      <th>Date</th>\n",
       "      <th colspan=\"2\" halign=\"left\">Removed</th>\n",
       "    </tr>\n",
       "    <tr>\n",
       "      <th></th>\n",
       "      <th>Date</th>\n",
       "      <th>Ticker</th>\n",
       "      <th>Security</th>\n",
       "    </tr>\n",
       "    <tr>\n",
       "      <th>Date</th>\n",
       "      <th></th>\n",
       "      <th></th>\n",
       "      <th></th>\n",
       "    </tr>\n",
       "  </thead>\n",
       "  <tbody>\n",
       "    <tr>\n",
       "      <th>June 20, 2023</th>\n",
       "      <td>June 20, 2023</td>\n",
       "      <td>DISH</td>\n",
       "      <td>Dish Network</td>\n",
       "    </tr>\n",
       "    <tr>\n",
       "      <th>May 4, 2023</th>\n",
       "      <td>May 4, 2023</td>\n",
       "      <td>FRC</td>\n",
       "      <td>First Republic Bank</td>\n",
       "    </tr>\n",
       "    <tr>\n",
       "      <th>March 20, 2023</th>\n",
       "      <td>March 20, 2023</td>\n",
       "      <td>LUMN</td>\n",
       "      <td>Lumen Technologies</td>\n",
       "    </tr>\n",
       "    <tr>\n",
       "      <th>March 15, 2023</th>\n",
       "      <td>March 15, 2023</td>\n",
       "      <td>SBNY</td>\n",
       "      <td>Signature Bank</td>\n",
       "    </tr>\n",
       "    <tr>\n",
       "      <th>March 15, 2023</th>\n",
       "      <td>March 15, 2023</td>\n",
       "      <td>SIVB</td>\n",
       "      <td>SVB Financial Group</td>\n",
       "    </tr>\n",
       "  </tbody>\n",
       "</table>\n",
       "</div>"
      ],
      "text/plain": [
       "                          Date Removed                     \n",
       "                          Date  Ticker             Security\n",
       "Date                                                       \n",
       "June 20, 2023    June 20, 2023    DISH         Dish Network\n",
       "May 4, 2023        May 4, 2023     FRC  First Republic Bank\n",
       "March 20, 2023  March 20, 2023    LUMN   Lumen Technologies\n",
       "March 15, 2023  March 15, 2023    SBNY       Signature Bank\n",
       "March 15, 2023  March 15, 2023    SIVB  SVB Financial Group"
      ]
     },
     "execution_count": 30,
     "metadata": {},
     "output_type": "execute_result"
    }
   ],
   "source": [
    "# Set date as index\n",
    "removed_tickers = removed_tickers.set_index(removed_tickers['Date']['Date'])\n",
    "removed_tickers.head()"
   ]
  },
  {
   "cell_type": "code",
   "execution_count": 31,
   "id": "9f6e3b3c",
   "metadata": {},
   "outputs": [
    {
     "data": {
      "text/html": [
       "<div>\n",
       "<style scoped>\n",
       "    .dataframe tbody tr th:only-of-type {\n",
       "        vertical-align: middle;\n",
       "    }\n",
       "\n",
       "    .dataframe tbody tr th {\n",
       "        vertical-align: top;\n",
       "    }\n",
       "\n",
       "    .dataframe thead th {\n",
       "        text-align: right;\n",
       "    }\n",
       "</style>\n",
       "<table border=\"1\" class=\"dataframe\">\n",
       "  <thead>\n",
       "    <tr style=\"text-align: right;\">\n",
       "      <th></th>\n",
       "      <th>Ticker</th>\n",
       "      <th>Security</th>\n",
       "    </tr>\n",
       "    <tr>\n",
       "      <th>Date</th>\n",
       "      <th></th>\n",
       "      <th></th>\n",
       "    </tr>\n",
       "  </thead>\n",
       "  <tbody>\n",
       "    <tr>\n",
       "      <th>2023-06-20</th>\n",
       "      <td>DISH</td>\n",
       "      <td>Dish Network</td>\n",
       "    </tr>\n",
       "    <tr>\n",
       "      <th>2023-05-04</th>\n",
       "      <td>FRC</td>\n",
       "      <td>First Republic Bank</td>\n",
       "    </tr>\n",
       "    <tr>\n",
       "      <th>2023-03-20</th>\n",
       "      <td>LUMN</td>\n",
       "      <td>Lumen Technologies</td>\n",
       "    </tr>\n",
       "    <tr>\n",
       "      <th>2023-03-15</th>\n",
       "      <td>SBNY</td>\n",
       "      <td>Signature Bank</td>\n",
       "    </tr>\n",
       "    <tr>\n",
       "      <th>2023-03-15</th>\n",
       "      <td>SIVB</td>\n",
       "      <td>SVB Financial Group</td>\n",
       "    </tr>\n",
       "    <tr>\n",
       "      <th>...</th>\n",
       "      <td>...</td>\n",
       "      <td>...</td>\n",
       "    </tr>\n",
       "    <tr>\n",
       "      <th>2015-03-23</th>\n",
       "      <td>AVP</td>\n",
       "      <td>Avon Products</td>\n",
       "    </tr>\n",
       "    <tr>\n",
       "      <th>2015-03-18</th>\n",
       "      <td>CFN</td>\n",
       "      <td>Carefusion</td>\n",
       "    </tr>\n",
       "    <tr>\n",
       "      <th>2015-03-12</th>\n",
       "      <td>PETM</td>\n",
       "      <td>PetSmart</td>\n",
       "    </tr>\n",
       "    <tr>\n",
       "      <th>2015-01-27</th>\n",
       "      <td>SWY</td>\n",
       "      <td>Safeway</td>\n",
       "    </tr>\n",
       "    <tr>\n",
       "      <th>2015-01-27</th>\n",
       "      <td>COV</td>\n",
       "      <td>Covidien</td>\n",
       "    </tr>\n",
       "  </tbody>\n",
       "</table>\n",
       "<p>186 rows × 2 columns</p>\n",
       "</div>"
      ],
      "text/plain": [
       "           Ticker             Security\n",
       "Date                                  \n",
       "2023-06-20   DISH         Dish Network\n",
       "2023-05-04    FRC  First Republic Bank\n",
       "2023-03-20   LUMN   Lumen Technologies\n",
       "2023-03-15   SBNY       Signature Bank\n",
       "2023-03-15   SIVB  SVB Financial Group\n",
       "...           ...                  ...\n",
       "2015-03-23    AVP        Avon Products\n",
       "2015-03-18    CFN           Carefusion\n",
       "2015-03-12   PETM             PetSmart\n",
       "2015-01-27    SWY              Safeway\n",
       "2015-01-27    COV             Covidien\n",
       "\n",
       "[186 rows x 2 columns]"
      ]
     },
     "execution_count": 31,
     "metadata": {},
     "output_type": "execute_result"
    }
   ],
   "source": [
    "# Setting index as datetime and filtering for start date later than 2015-01-01. \n",
    "# Dropping null values as there were rows in the Wikipedia table that were blank in the 'Removed' column.\n",
    "removed_tickers.index = pd.to_datetime(removed_tickers.index)\n",
    "removed_tickers = removed_tickers[removed_tickers.index > '2015-01-01']\n",
    "removed_tickers = removed_tickers['Removed'].dropna()\n",
    "removed_tickers"
   ]
  },
  {
   "cell_type": "code",
   "execution_count": 38,
   "id": "ca870be3",
   "metadata": {},
   "outputs": [],
   "source": [
    "# Adding this list of removed tickers to our SPY tickers list.\n",
    "SPYalltickers.extend(removed_tickers['Ticker'])"
   ]
  },
  {
   "cell_type": "code",
   "execution_count": 39,
   "id": "e163f886",
   "metadata": {},
   "outputs": [],
   "source": [
    "# Renaming tickers 'BF.B' and 'BRK.B' to 'BF-B' and 'BRK-B' to make them match with how they are named on Yahoo Finance.\n",
    "# If tickers do not match, it will not successfully pull the data.\n",
    "SPYalltickers = ['BF-B' if i=='BF.B' else i for i in SPYalltickers]\n",
    "SPYalltickers = ['BRK-B' if i=='BRK.B' else i for i in SPYalltickers]"
   ]
  },
  {
   "cell_type": "code",
   "execution_count": 42,
   "id": "721065af",
   "metadata": {},
   "outputs": [
    {
     "name": "stdout",
     "output_type": "stream",
     "text": [
      "683\n",
      "683\n"
     ]
    }
   ],
   "source": [
    "# Checking for duplicates; important when exporting to SQL as it can cause errors if not accounted for.\n",
    "print(len(SPYalltickers)) \n",
    "print(len(set(SPYalltickers)))\n",
    "# There are duplicates in the list as the lengths do not match. \n",
    "# Remove duplicates.\n",
    "SPYalltickers = list(set(SPYalltickers))"
   ]
  },
  {
   "cell_type": "code",
   "execution_count": 43,
   "id": "d7fb9e61",
   "metadata": {},
   "outputs": [],
   "source": [
    "# Creating function to import data from yfinance to prepare for export to SQL database.\n",
    "def getdata(tickers):\n",
    "    data = []\n",
    "    for ticker in tickers:\n",
    "        # reset_index to move 'Date' out of index and into column.\n",
    "        data.append(yf.download(ticker, start='2015-01-01').reset_index()) \n",
    "    return data"
   ]
  },
  {
   "cell_type": "code",
   "execution_count": 46,
   "id": "ee451226",
   "metadata": {},
   "outputs": [
    {
     "name": "stdout",
     "output_type": "stream",
     "text": [
      "[*********************100%***********************]  1 of 1 completed\n",
      "[*********************100%***********************]  1 of 1 completed\n",
      "[*********************100%***********************]  1 of 1 completed\n",
      "[*********************100%***********************]  1 of 1 completed\n",
      "[*********************100%***********************]  1 of 1 completed\n",
      "[*********************100%***********************]  1 of 1 completed\n",
      "[*********************100%***********************]  1 of 1 completed\n",
      "[*********************100%***********************]  1 of 1 completed\n",
      "[*********************100%***********************]  1 of 1 completed\n",
      "[*********************100%***********************]  1 of 1 completed\n",
      "[*********************100%***********************]  1 of 1 completed\n",
      "[*********************100%***********************]  1 of 1 completed\n",
      "[*********************100%***********************]  1 of 1 completed\n",
      "[*********************100%***********************]  1 of 1 completed\n",
      "[*********************100%***********************]  1 of 1 completed"
     ]
    },
    {
     "name": "stderr",
     "output_type": "stream",
     "text": [
      "\n",
      "1 Failed download:\n",
      "['LO']: Exception('%ticker%: No price data found, symbol may be delisted (1d 2015-01-01 -> 2023-08-10)')\n"
     ]
    },
    {
     "name": "stdout",
     "output_type": "stream",
     "text": [
      "\n",
      "[*********************100%***********************]  1 of 1 completed\n",
      "[*********************100%***********************]  1 of 1 completed"
     ]
    },
    {
     "name": "stderr",
     "output_type": "stream",
     "text": [
      "\n",
      "1 Failed download:\n",
      "['XL']: Exception('%ticker%: No timezone found, symbol may be delisted')\n"
     ]
    },
    {
     "name": "stdout",
     "output_type": "stream",
     "text": [
      "\n",
      "[*********************100%***********************]  1 of 1 completed\n",
      "[*********************100%***********************]  1 of 1 completed\n",
      "[*********************100%***********************]  1 of 1 completed\n",
      "[*********************100%***********************]  1 of 1 completed\n",
      "[*********************100%***********************]  1 of 1 completed\n",
      "[*********************100%***********************]  1 of 1 completed\n",
      "[*********************100%***********************]  1 of 1 completed\n",
      "[*********************100%***********************]  1 of 1 completed\n",
      "[*********************100%***********************]  1 of 1 completed\n",
      "[*********************100%***********************]  1 of 1 completed\n",
      "[*********************100%***********************]  1 of 1 completed\n",
      "[*********************100%***********************]  1 of 1 completed\n",
      "[*********************100%***********************]  1 of 1 completed\n",
      "[*********************100%***********************]  1 of 1 completed\n",
      "[*********************100%***********************]  1 of 1 completed\n",
      "[*********************100%***********************]  1 of 1 completed\n",
      "[*********************100%***********************]  1 of 1 completed\n",
      "[*********************100%***********************]  1 of 1 completed\n",
      "[*********************100%***********************]  1 of 1 completed\n",
      "[*********************100%***********************]  1 of 1 completed\n",
      "[*********************100%***********************]  1 of 1 completed\n",
      "[*********************100%***********************]  1 of 1 completed\n",
      "[*********************100%***********************]  1 of 1 completed\n",
      "[*********************100%***********************]  1 of 1 completed\n",
      "[*********************100%***********************]  1 of 1 completed\n",
      "[*********************100%***********************]  1 of 1 completed"
     ]
    },
    {
     "name": "stderr",
     "output_type": "stream",
     "text": [
      "\n",
      "1 Failed download:\n",
      "['AGN']: Exception('%ticker%: No timezone found, symbol may be delisted')\n"
     ]
    },
    {
     "name": "stdout",
     "output_type": "stream",
     "text": [
      "\n",
      "[*********************100%***********************]  1 of 1 completed\n",
      "[*********************100%***********************]  1 of 1 completed\n",
      "[*********************100%***********************]  1 of 1 completed\n",
      "[*********************100%***********************]  1 of 1 completed\n",
      "[*********************100%***********************]  1 of 1 completed\n",
      "[*********************100%***********************]  1 of 1 completed\n",
      "[*********************100%***********************]  1 of 1 completed\n",
      "[*********************100%***********************]  1 of 1 completed\n",
      "[*********************100%***********************]  1 of 1 completed\n",
      "[*********************100%***********************]  1 of 1 completed\n",
      "[*********************100%***********************]  1 of 1 completed\n",
      "[*********************100%***********************]  1 of 1 completed\n",
      "[*********************100%***********************]  1 of 1 completed\n",
      "[*********************100%***********************]  1 of 1 completed\n",
      "[*********************100%***********************]  1 of 1 completed\n",
      "[*********************100%***********************]  1 of 1 completed\n",
      "[*********************100%***********************]  1 of 1 completed\n",
      "[*********************100%***********************]  1 of 1 completed\n",
      "[*********************100%***********************]  1 of 1 completed\n",
      "[*********************100%***********************]  1 of 1 completed"
     ]
    },
    {
     "name": "stderr",
     "output_type": "stream",
     "text": [
      "\n",
      "1 Failed download:\n",
      "['SWY']: Exception('%ticker%: No price data found, symbol may be delisted (1d 2015-01-01 -> 2023-08-10)')\n"
     ]
    },
    {
     "name": "stdout",
     "output_type": "stream",
     "text": [
      "\n",
      "[*********************100%***********************]  1 of 1 completed\n",
      "[*********************100%***********************]  1 of 1 completed\n",
      "[*********************100%***********************]  1 of 1 completed\n",
      "[*********************100%***********************]  1 of 1 completed\n",
      "[*********************100%***********************]  1 of 1 completed\n",
      "[*********************100%***********************]  1 of 1 completed\n",
      "[*********************100%***********************]  1 of 1 completed"
     ]
    },
    {
     "name": "stderr",
     "output_type": "stream",
     "text": [
      "\n",
      "1 Failed download:\n",
      "['RAI']: Exception('%ticker%: No price data found, symbol may be delisted (1d 2015-01-01 -> 2023-08-10)')\n"
     ]
    },
    {
     "name": "stdout",
     "output_type": "stream",
     "text": [
      "\n",
      "[*********************100%***********************]  1 of 1 completed\n",
      "[*********************100%***********************]  1 of 1 completed\n",
      "[*********************100%***********************]  1 of 1 completed\n",
      "[*********************100%***********************]  1 of 1 completed\n",
      "[*********************100%***********************]  1 of 1 completed\n",
      "[*********************100%***********************]  1 of 1 completed\n",
      "[*********************100%***********************]  1 of 1 completed\n",
      "[*********************100%***********************]  1 of 1 completed"
     ]
    },
    {
     "name": "stderr",
     "output_type": "stream",
     "text": [
      "\n",
      "1 Failed download:\n",
      "['CAM']: Exception('%ticker%: No price data found, symbol may be delisted (1d 2015-01-01 -> 2023-08-10)')\n"
     ]
    },
    {
     "name": "stdout",
     "output_type": "stream",
     "text": [
      "\n",
      "[*********************100%***********************]  1 of 1 completed\n",
      "[*********************100%***********************]  1 of 1 completed\n",
      "[*********************100%***********************]  1 of 1 completed\n",
      "[*********************100%***********************]  1 of 1 completed\n",
      "[*********************100%***********************]  1 of 1 completed\n",
      "[*********************100%***********************]  1 of 1 completed\n",
      "[*********************100%***********************]  1 of 1 completed\n",
      "[*********************100%***********************]  1 of 1 completed\n",
      "[*********************100%***********************]  1 of 1 completed"
     ]
    },
    {
     "name": "stderr",
     "output_type": "stream",
     "text": [
      "\n",
      "1 Failed download:\n",
      "['GMCR']: Exception('%ticker%: No price data found, symbol may be delisted (1d 2015-01-01 -> 2023-08-10)')\n"
     ]
    },
    {
     "name": "stdout",
     "output_type": "stream",
     "text": [
      "\n",
      "[*********************100%***********************]  1 of 1 completed\n",
      "[*********************100%***********************]  1 of 1 completed\n",
      "[*********************100%***********************]  1 of 1 completed\n",
      "[*********************100%***********************]  1 of 1 completed\n",
      "[*********************100%***********************]  1 of 1 completed\n",
      "[*********************100%***********************]  1 of 1 completed\n",
      "[*********************100%***********************]  1 of 1 completed\n",
      "[*********************100%***********************]  1 of 1 completed"
     ]
    },
    {
     "name": "stderr",
     "output_type": "stream",
     "text": [
      "\n",
      "1 Failed download:\n",
      "['CELG']: Exception('%ticker%: No timezone found, symbol may be delisted')\n"
     ]
    },
    {
     "name": "stdout",
     "output_type": "stream",
     "text": [
      "\n",
      "[*********************100%***********************]  1 of 1 completed\n",
      "[*********************100%***********************]  1 of 1 completed\n",
      "[*********************100%***********************]  1 of 1 completed\n",
      "[*********************100%***********************]  1 of 1 completed\n",
      "[*********************100%***********************]  1 of 1 completed\n",
      "[*********************100%***********************]  1 of 1 completed\n",
      "[*********************100%***********************]  1 of 1 completed\n",
      "[*********************100%***********************]  1 of 1 completed\n",
      "[*********************100%***********************]  1 of 1 completed\n",
      "[*********************100%***********************]  1 of 1 completed\n",
      "[*********************100%***********************]  1 of 1 completed\n",
      "[*********************100%***********************]  1 of 1 completed\n",
      "[*********************100%***********************]  1 of 1 completed\n",
      "[*********************100%***********************]  1 of 1 completed"
     ]
    },
    {
     "name": "stderr",
     "output_type": "stream",
     "text": [
      "\n",
      "1 Failed download:\n",
      "['ADS']: Exception('%ticker%: No timezone found, symbol may be delisted')\n"
     ]
    },
    {
     "name": "stdout",
     "output_type": "stream",
     "text": [
      "\n",
      "[*********************100%***********************]  1 of 1 completed\n",
      "[*********************100%***********************]  1 of 1 completed\n",
      "[*********************100%***********************]  1 of 1 completed\n",
      "[*********************100%***********************]  1 of 1 completed\n",
      "[*********************100%***********************]  1 of 1 completed\n",
      "[*********************100%***********************]  1 of 1 completed\n",
      "[*********************100%***********************]  1 of 1 completed\n",
      "[*********************100%***********************]  1 of 1 completed\n",
      "[*********************100%***********************]  1 of 1 completed\n",
      "[*********************100%***********************]  1 of 1 completed\n",
      "[*********************100%***********************]  1 of 1 completed\n",
      "[*********************100%***********************]  1 of 1 completed"
     ]
    },
    {
     "name": "stderr",
     "output_type": "stream",
     "text": [
      "\n",
      "1 Failed download:\n",
      "['MON']: Exception('%ticker%: No timezone found, symbol may be delisted')\n"
     ]
    },
    {
     "name": "stdout",
     "output_type": "stream",
     "text": [
      "\n",
      "[*********************100%***********************]  1 of 1 completed\n",
      "[*********************100%***********************]  1 of 1 completed"
     ]
    },
    {
     "name": "stderr",
     "output_type": "stream",
     "text": [
      "\n",
      "1 Failed download:\n",
      "['YHOO']: Exception('%ticker%: No price data found, symbol may be delisted (1d 2015-01-01 -> 2023-08-10)')\n"
     ]
    },
    {
     "name": "stdout",
     "output_type": "stream",
     "text": [
      "\n",
      "[*********************100%***********************]  1 of 1 completed\n",
      "[*********************100%***********************]  1 of 1 completed\n",
      "[*********************100%***********************]  1 of 1 completed\n",
      "[*********************100%***********************]  1 of 1 completed\n",
      "[*********************100%***********************]  1 of 1 completed\n",
      "[*********************100%***********************]  1 of 1 completed\n",
      "[*********************100%***********************]  1 of 1 completed\n",
      "[*********************100%***********************]  1 of 1 completed\n",
      "[*********************100%***********************]  1 of 1 completed\n",
      "[*********************100%***********************]  1 of 1 completed\n",
      "[*********************100%***********************]  1 of 1 completed\n",
      "[*********************100%***********************]  1 of 1 completed\n",
      "[*********************100%***********************]  1 of 1 completed\n",
      "[*********************100%***********************]  1 of 1 completed\n",
      "[*********************100%***********************]  1 of 1 completed\n",
      "[*********************100%***********************]  1 of 1 completed"
     ]
    },
    {
     "name": "stderr",
     "output_type": "stream",
     "text": [
      "\n",
      "1 Failed download:\n",
      "['KRFT']: Exception('%ticker%: No price data found, symbol may be delisted (1d 2015-01-01 -> 2023-08-10)')\n"
     ]
    },
    {
     "name": "stdout",
     "output_type": "stream",
     "text": [
      "\n",
      "[*********************100%***********************]  1 of 1 completed\n",
      "[*********************100%***********************]  1 of 1 completed\n",
      "[*********************100%***********************]  1 of 1 completed"
     ]
    },
    {
     "name": "stderr",
     "output_type": "stream",
     "text": [
      "\n",
      "1 Failed download:\n",
      "['INFO']: Exception('%ticker%: No timezone found, symbol may be delisted')\n"
     ]
    },
    {
     "name": "stdout",
     "output_type": "stream",
     "text": [
      "\n",
      "[*********************100%***********************]  1 of 1 completed\n",
      "[*********************100%***********************]  1 of 1 completed\n",
      "[*********************100%***********************]  1 of 1 completed\n",
      "[*********************100%***********************]  1 of 1 completed\n",
      "[*********************100%***********************]  1 of 1 completed\n",
      "[*********************100%***********************]  1 of 1 completed\n",
      "[*********************100%***********************]  1 of 1 completed\n",
      "[*********************100%***********************]  1 of 1 completed\n",
      "[*********************100%***********************]  1 of 1 completed\n",
      "[*********************100%***********************]  1 of 1 completed\n",
      "[*********************100%***********************]  1 of 1 completed\n",
      "[*********************100%***********************]  1 of 1 completed\n",
      "[*********************100%***********************]  1 of 1 completed\n",
      "[*********************100%***********************]  1 of 1 completed"
     ]
    },
    {
     "name": "stderr",
     "output_type": "stream",
     "text": [
      "\n",
      "1 Failed download:\n",
      "['MXIM']: Exception('%ticker%: No timezone found, symbol may be delisted')\n"
     ]
    },
    {
     "name": "stdout",
     "output_type": "stream",
     "text": [
      "\n",
      "[*********************100%***********************]  1 of 1 completed\n",
      "[*********************100%***********************]  1 of 1 completed"
     ]
    },
    {
     "name": "stderr",
     "output_type": "stream",
     "text": [
      "\n",
      "1 Failed download:\n",
      "['BCR']: Exception('%ticker%: No price data found, symbol may be delisted (1d 2015-01-01 -> 2023-08-10)')\n"
     ]
    },
    {
     "name": "stdout",
     "output_type": "stream",
     "text": [
      "\n",
      "[*********************100%***********************]  1 of 1 completed\n",
      "[*********************100%***********************]  1 of 1 completed\n",
      "[*********************100%***********************]  1 of 1 completed\n",
      "[*********************100%***********************]  1 of 1 completed\n",
      "[*********************100%***********************]  1 of 1 completed\n",
      "[*********************100%***********************]  1 of 1 completed\n",
      "[*********************100%***********************]  1 of 1 completed\n",
      "[*********************100%***********************]  1 of 1 completed\n",
      "[*********************100%***********************]  1 of 1 completed\n",
      "[*********************100%***********************]  1 of 1 completed\n",
      "[*********************100%***********************]  1 of 1 completed\n",
      "[*********************100%***********************]  1 of 1 completed\n",
      "[*********************100%***********************]  1 of 1 completed\n",
      "[*********************100%***********************]  1 of 1 completed\n",
      "[*********************100%***********************]  1 of 1 completed"
     ]
    },
    {
     "name": "stderr",
     "output_type": "stream",
     "text": [
      "\n",
      "1 Failed download:\n",
      "['ARG']: Exception('%ticker%: No price data found, symbol may be delisted (1d 2015-01-01 -> 2023-08-10)')\n"
     ]
    },
    {
     "name": "stdout",
     "output_type": "stream",
     "text": [
      "\n",
      "[*********************100%***********************]  1 of 1 completed\n",
      "[*********************100%***********************]  1 of 1 completed\n",
      "[*********************100%***********************]  1 of 1 completed\n",
      "[*********************100%***********************]  1 of 1 completed\n",
      "[*********************100%***********************]  1 of 1 completed\n",
      "[*********************100%***********************]  1 of 1 completed\n",
      "[*********************100%***********************]  1 of 1 completed\n",
      "[*********************100%***********************]  1 of 1 completed"
     ]
    },
    {
     "name": "stderr",
     "output_type": "stream",
     "text": [
      "\n",
      "1 Failed download:\n",
      "['DPS']: Exception('%ticker%: No price data found, symbol may be delisted (1d 2015-01-01 -> 2023-08-10)')\n"
     ]
    },
    {
     "name": "stdout",
     "output_type": "stream",
     "text": [
      "\n",
      "[*********************100%***********************]  1 of 1 completed\n",
      "[*********************100%***********************]  1 of 1 completed\n",
      "[*********************100%***********************]  1 of 1 completed\n",
      "[*********************100%***********************]  1 of 1 completed"
     ]
    },
    {
     "name": "stderr",
     "output_type": "stream",
     "text": [
      "\n",
      "1 Failed download:\n",
      "['TIF']: Exception('%ticker%: No timezone found, symbol may be delisted')\n"
     ]
    },
    {
     "name": "stdout",
     "output_type": "stream",
     "text": [
      "\n",
      "[*********************100%***********************]  1 of 1 completed\n",
      "[*********************100%***********************]  1 of 1 completed\n",
      "[*********************100%***********************]  1 of 1 completed\n",
      "[*********************100%***********************]  1 of 1 completed\n",
      "[*********************100%***********************]  1 of 1 completed\n",
      "[*********************100%***********************]  1 of 1 completed\n",
      "[*********************100%***********************]  1 of 1 completed\n",
      "[*********************100%***********************]  1 of 1 completed\n",
      "[*********************100%***********************]  1 of 1 completed\n",
      "[*********************100%***********************]  1 of 1 completed\n",
      "[*********************100%***********************]  1 of 1 completed\n",
      "[*********************100%***********************]  1 of 1 completed\n",
      "[*********************100%***********************]  1 of 1 completed\n",
      "[*********************100%***********************]  1 of 1 completed\n",
      "[*********************100%***********************]  1 of 1 completed\n",
      "[*********************100%***********************]  1 of 1 completed\n",
      "[*********************100%***********************]  1 of 1 completed\n",
      "[*********************100%***********************]  1 of 1 completed\n",
      "[*********************100%***********************]  1 of 1 completed\n",
      "[*********************100%***********************]  1 of 1 completed"
     ]
    },
    {
     "name": "stderr",
     "output_type": "stream",
     "text": [
      "\n",
      "1 Failed download:\n",
      "['CMCSK']: Exception('%ticker%: No price data found, symbol may be delisted (1d 2015-01-01 -> 2023-08-10)')\n"
     ]
    },
    {
     "name": "stdout",
     "output_type": "stream",
     "text": [
      "\n",
      "[*********************100%***********************]  1 of 1 completed\n",
      "[*********************100%***********************]  1 of 1 completed\n",
      "[*********************100%***********************]  1 of 1 completed\n",
      "[*********************100%***********************]  1 of 1 completed\n",
      "[*********************100%***********************]  1 of 1 completed\n",
      "[*********************100%***********************]  1 of 1 completed\n",
      "[*********************100%***********************]  1 of 1 completed\n",
      "[*********************100%***********************]  1 of 1 completed"
     ]
    },
    {
     "name": "stderr",
     "output_type": "stream",
     "text": [
      "\n",
      "1 Failed download:\n",
      "['XEC']: Exception('%ticker%: No timezone found, symbol may be delisted')\n"
     ]
    },
    {
     "name": "stdout",
     "output_type": "stream",
     "text": [
      "\n",
      "[*********************100%***********************]  1 of 1 completed\n",
      "[*********************100%***********************]  1 of 1 completed\n",
      "[*********************100%***********************]  1 of 1 completed\n",
      "[*********************100%***********************]  1 of 1 completed\n",
      "[*********************100%***********************]  1 of 1 completed\n",
      "[*********************100%***********************]  1 of 1 completed\n",
      "[*********************100%***********************]  1 of 1 completed\n",
      "[*********************100%***********************]  1 of 1 completed\n",
      "[*********************100%***********************]  1 of 1 completed\n",
      "[*********************100%***********************]  1 of 1 completed\n",
      "[*********************100%***********************]  1 of 1 completed\n",
      "[*********************100%***********************]  1 of 1 completed\n",
      "[*********************100%***********************]  1 of 1 completed\n",
      "[*********************100%***********************]  1 of 1 completed"
     ]
    },
    {
     "name": "stderr",
     "output_type": "stream",
     "text": [
      "\n",
      "1 Failed download:\n",
      "['WIN']: Exception('%ticker%: No timezone found, symbol may be delisted')\n"
     ]
    },
    {
     "name": "stdout",
     "output_type": "stream",
     "text": [
      "\n",
      "[*********************100%***********************]  1 of 1 completed\n",
      "[*********************100%***********************]  1 of 1 completed\n",
      "[*********************100%***********************]  1 of 1 completed\n",
      "[*********************100%***********************]  1 of 1 completed\n",
      "[*********************100%***********************]  1 of 1 completed\n",
      "[*********************100%***********************]  1 of 1 completed\n",
      "[*********************100%***********************]  1 of 1 completed\n",
      "[*********************100%***********************]  1 of 1 completed\n",
      "[*********************100%***********************]  1 of 1 completed\n",
      "[*********************100%***********************]  1 of 1 completed\n",
      "[*********************100%***********************]  1 of 1 completed\n",
      "[*********************100%***********************]  1 of 1 completed\n",
      "[*********************100%***********************]  1 of 1 completed\n",
      "[*********************100%***********************]  1 of 1 completed\n",
      "[*********************100%***********************]  1 of 1 completed"
     ]
    },
    {
     "name": "stderr",
     "output_type": "stream",
     "text": [
      "\n",
      "1 Failed download:\n",
      "['SIAL']: Exception('%ticker%: No price data found, symbol may be delisted (1d 2015-01-01 -> 2023-08-10)')\n"
     ]
    },
    {
     "name": "stdout",
     "output_type": "stream",
     "text": [
      "\n",
      "[*********************100%***********************]  1 of 1 completed\n",
      "[*********************100%***********************]  1 of 1 completed\n",
      "[*********************100%***********************]  1 of 1 completed\n",
      "[*********************100%***********************]  1 of 1 completed\n",
      "[*********************100%***********************]  1 of 1 completed\n",
      "[*********************100%***********************]  1 of 1 completed\n",
      "[*********************100%***********************]  1 of 1 completed\n",
      "[*********************100%***********************]  1 of 1 completed\n",
      "[*********************100%***********************]  1 of 1 completed\n",
      "[*********************100%***********************]  1 of 1 completed"
     ]
    },
    {
     "name": "stderr",
     "output_type": "stream",
     "text": [
      "\n",
      "1 Failed download:\n",
      "['ENDP']: Exception('%ticker%: No timezone found, symbol may be delisted')\n"
     ]
    },
    {
     "name": "stdout",
     "output_type": "stream",
     "text": [
      "\n",
      "[*********************100%***********************]  1 of 1 completed\n",
      "[*********************100%***********************]  1 of 1 completed\n",
      "[*********************100%***********************]  1 of 1 completed"
     ]
    },
    {
     "name": "stderr",
     "output_type": "stream",
     "text": [
      "\n",
      "1 Failed download:\n",
      "['DNR']: Exception('%ticker%: No timezone found, symbol may be delisted')\n"
     ]
    },
    {
     "name": "stdout",
     "output_type": "stream",
     "text": [
      "\n",
      "[*********************100%***********************]  1 of 1 completed\n",
      "[*********************100%***********************]  1 of 1 completed\n",
      "[*********************100%***********************]  1 of 1 completed\n",
      "[*********************100%***********************]  1 of 1 completed"
     ]
    },
    {
     "name": "stderr",
     "output_type": "stream",
     "text": [
      "\n",
      "1 Failed download:\n",
      "['QEP']: Exception('%ticker%: No timezone found, symbol may be delisted')\n"
     ]
    },
    {
     "name": "stdout",
     "output_type": "stream",
     "text": [
      "\n",
      "[*********************100%***********************]  1 of 1 completed"
     ]
    },
    {
     "name": "stderr",
     "output_type": "stream",
     "text": [
      "\n",
      "1 Failed download:\n",
      "['CXO']: Exception('%ticker%: No timezone found, symbol may be delisted')\n"
     ]
    },
    {
     "name": "stdout",
     "output_type": "stream",
     "text": [
      "\n",
      "[*********************100%***********************]  1 of 1 completed\n",
      "[*********************100%***********************]  1 of 1 completed"
     ]
    },
    {
     "name": "stderr",
     "output_type": "stream",
     "text": [
      "\n",
      "1 Failed download:\n",
      "['STJ']: Exception('%ticker%: No price data found, symbol may be delisted (1d 2015-01-01 -> 2023-08-10)')\n"
     ]
    },
    {
     "name": "stdout",
     "output_type": "stream",
     "text": [
      "\n",
      "[*********************100%***********************]  1 of 1 completed\n",
      "[*********************100%***********************]  1 of 1 completed\n",
      "[*********************100%***********************]  1 of 1 completed\n",
      "[*********************100%***********************]  1 of 1 completed\n",
      "[*********************100%***********************]  1 of 1 completed\n",
      "[*********************100%***********************]  1 of 1 completed\n",
      "[*********************100%***********************]  1 of 1 completed\n",
      "[*********************100%***********************]  1 of 1 completed\n",
      "[*********************100%***********************]  1 of 1 completed\n",
      "[*********************100%***********************]  1 of 1 completed\n",
      "[*********************100%***********************]  1 of 1 completed\n",
      "[*********************100%***********************]  1 of 1 completed"
     ]
    },
    {
     "name": "stderr",
     "output_type": "stream",
     "text": [
      "\n",
      "1 Failed download:\n",
      "['NBL']: Exception('%ticker%: No timezone found, symbol may be delisted')\n"
     ]
    },
    {
     "name": "stdout",
     "output_type": "stream",
     "text": [
      "\n",
      "[*********************100%***********************]  1 of 1 completed\n",
      "[*********************100%***********************]  1 of 1 completed\n",
      "[*********************100%***********************]  1 of 1 completed\n",
      "[*********************100%***********************]  1 of 1 completed"
     ]
    },
    {
     "name": "stderr",
     "output_type": "stream",
     "text": [
      "\n",
      "1 Failed download:\n",
      "['TWC']: Exception('%ticker%: No price data found, symbol may be delisted (1d 2015-01-01 -> 2023-08-10)')\n"
     ]
    },
    {
     "name": "stdout",
     "output_type": "stream",
     "text": [
      "\n",
      "[*********************100%***********************]  1 of 1 completed\n",
      "[*********************100%***********************]  1 of 1 completed\n",
      "[*********************100%***********************]  1 of 1 completed\n",
      "[*********************100%***********************]  1 of 1 completed\n",
      "[*********************100%***********************]  1 of 1 completed"
     ]
    },
    {
     "name": "stderr",
     "output_type": "stream",
     "text": [
      "\n",
      "1 Failed download:\n",
      "['LLL']: Exception('%ticker%: No timezone found, symbol may be delisted')\n"
     ]
    },
    {
     "name": "stdout",
     "output_type": "stream",
     "text": [
      "\n",
      "[*********************100%***********************]  1 of 1 completed\n",
      "[*********************100%***********************]  1 of 1 completed\n",
      "[*********************100%***********************]  1 of 1 completed\n",
      "[*********************100%***********************]  1 of 1 completed\n",
      "[*********************100%***********************]  1 of 1 completed\n",
      "[*********************100%***********************]  1 of 1 completed\n",
      "[*********************100%***********************]  1 of 1 completed\n",
      "[*********************100%***********************]  1 of 1 completed\n",
      "[*********************100%***********************]  1 of 1 completed\n",
      "[*********************100%***********************]  1 of 1 completed\n",
      "[*********************100%***********************]  1 of 1 completed\n",
      "[*********************100%***********************]  1 of 1 completed"
     ]
    },
    {
     "name": "stderr",
     "output_type": "stream",
     "text": [
      "\n",
      "1 Failed download:\n",
      "['CLX']: Exception('%ticker%: No price data found, symbol may be delisted (1d 2015-01-01 -> 2023-08-10)')\n"
     ]
    },
    {
     "name": "stdout",
     "output_type": "stream",
     "text": [
      "\n",
      "[*********************100%***********************]  1 of 1 completed\n",
      "[*********************100%***********************]  1 of 1 completed"
     ]
    },
    {
     "name": "stderr",
     "output_type": "stream",
     "text": [
      "\n",
      "1 Failed download:\n",
      "['WFM']: Exception('%ticker%: No price data found, symbol may be delisted (1d 2015-01-01 -> 2023-08-10)')\n"
     ]
    },
    {
     "name": "stdout",
     "output_type": "stream",
     "text": [
      "\n",
      "[*********************100%***********************]  1 of 1 completed\n",
      "[*********************100%***********************]  1 of 1 completed\n",
      "[*********************100%***********************]  1 of 1 completed\n",
      "[*********************100%***********************]  1 of 1 completed\n",
      "[*********************100%***********************]  1 of 1 completed\n",
      "[*********************100%***********************]  1 of 1 completed\n",
      "[*********************100%***********************]  1 of 1 completed\n",
      "[*********************100%***********************]  1 of 1 completed\n",
      "[*********************100%***********************]  1 of 1 completed\n",
      "[*********************100%***********************]  1 of 1 completed\n",
      "[*********************100%***********************]  1 of 1 completed\n",
      "[*********************100%***********************]  1 of 1 completed\n",
      "[*********************100%***********************]  1 of 1 completed\n",
      "[*********************100%***********************]  1 of 1 completed\n",
      "[*********************100%***********************]  1 of 1 completed\n",
      "[*********************100%***********************]  1 of 1 completed\n",
      "[*********************100%***********************]  1 of 1 completed\n",
      "[*********************100%***********************]  1 of 1 completed\n",
      "[*********************100%***********************]  1 of 1 completed"
     ]
    },
    {
     "name": "stderr",
     "output_type": "stream",
     "text": [
      "\n",
      "1 Failed download:\n",
      "['PBCT']: Exception('%ticker%: No timezone found, symbol may be delisted')\n"
     ]
    },
    {
     "name": "stdout",
     "output_type": "stream",
     "text": [
      "\n",
      "[*********************100%***********************]  1 of 1 completed\n",
      "[*********************100%***********************]  1 of 1 completed\n",
      "[*********************100%***********************]  1 of 1 completed\n",
      "[*********************100%***********************]  1 of 1 completed\n",
      "[*********************100%***********************]  1 of 1 completed\n",
      "[*********************100%***********************]  1 of 1 completed\n",
      "[*********************100%***********************]  1 of 1 completed"
     ]
    },
    {
     "name": "stderr",
     "output_type": "stream",
     "text": [
      "\n",
      "1 Failed download:\n",
      "['TWTR']: Exception('%ticker%: No timezone found, symbol may be delisted')\n"
     ]
    },
    {
     "name": "stdout",
     "output_type": "stream",
     "text": [
      "\n",
      "[*********************100%***********************]  1 of 1 completed\n",
      "[*********************100%***********************]  1 of 1 completed\n",
      "[*********************100%***********************]  1 of 1 completed"
     ]
    },
    {
     "name": "stderr",
     "output_type": "stream",
     "text": [
      "\n",
      "1 Failed download:\n",
      "['DRE']: Exception('%ticker%: No timezone found, symbol may be delisted')\n"
     ]
    },
    {
     "name": "stdout",
     "output_type": "stream",
     "text": [
      "\n",
      "[*********************100%***********************]  1 of 1 completed\n",
      "[*********************100%***********************]  1 of 1 completed\n",
      "[*********************100%***********************]  1 of 1 completed\n",
      "[*********************100%***********************]  1 of 1 completed\n",
      "[*********************100%***********************]  1 of 1 completed\n",
      "[*********************100%***********************]  1 of 1 completed"
     ]
    },
    {
     "name": "stderr",
     "output_type": "stream",
     "text": [
      "\n",
      "1 Failed download:\n",
      "['BBBY']: Exception('%ticker%: No timezone found, symbol may be delisted')\n"
     ]
    },
    {
     "name": "stdout",
     "output_type": "stream",
     "text": [
      "\n",
      "[*********************100%***********************]  1 of 1 completed\n",
      "[*********************100%***********************]  1 of 1 completed\n",
      "[*********************100%***********************]  1 of 1 completed\n",
      "[*********************100%***********************]  1 of 1 completed\n",
      "[*********************100%***********************]  1 of 1 completed\n",
      "[*********************100%***********************]  1 of 1 completed\n",
      "[*********************100%***********************]  1 of 1 completed\n",
      "[*********************100%***********************]  1 of 1 completed\n",
      "[*********************100%***********************]  1 of 1 completed\n",
      "[*********************100%***********************]  1 of 1 completed"
     ]
    },
    {
     "name": "stderr",
     "output_type": "stream",
     "text": [
      "\n",
      "1 Failed download:\n",
      "['FTR']: Exception('%ticker%: No timezone found, symbol may be delisted')\n"
     ]
    },
    {
     "name": "stdout",
     "output_type": "stream",
     "text": [
      "\n",
      "[*********************100%***********************]  1 of 1 completed\n",
      "[*********************100%***********************]  1 of 1 completed\n",
      "[*********************100%***********************]  1 of 1 completed\n",
      "[*********************100%***********************]  1 of 1 completed\n",
      "[*********************100%***********************]  1 of 1 completed\n",
      "[*********************100%***********************]  1 of 1 completed\n",
      "[*********************100%***********************]  1 of 1 completed"
     ]
    },
    {
     "name": "stderr",
     "output_type": "stream",
     "text": [
      "\n",
      "1 Failed download:\n",
      "['ALXN']: Exception('%ticker%: No timezone found, symbol may be delisted')\n"
     ]
    },
    {
     "name": "stdout",
     "output_type": "stream",
     "text": [
      "\n",
      "[*********************100%***********************]  1 of 1 completed\n",
      "[*********************100%***********************]  1 of 1 completed\n",
      "[*********************100%***********************]  1 of 1 completed\n",
      "[*********************100%***********************]  1 of 1 completed\n",
      "[*********************100%***********************]  1 of 1 completed\n",
      "[*********************100%***********************]  1 of 1 completed\n",
      "[*********************100%***********************]  1 of 1 completed"
     ]
    },
    {
     "name": "stderr",
     "output_type": "stream",
     "text": [
      "\n",
      "1 Failed download:\n",
      "['TYC']: Exception('%ticker%: No price data found, symbol may be delisted (1d 2015-01-01 -> 2023-08-10)')\n"
     ]
    },
    {
     "name": "stdout",
     "output_type": "stream",
     "text": [
      "\n",
      "[*********************100%***********************]  1 of 1 completed\n",
      "[*********************100%***********************]  1 of 1 completed"
     ]
    },
    {
     "name": "stderr",
     "output_type": "stream",
     "text": [
      "\n",
      "1 Failed download:\n",
      "['ETFC']: Exception('%ticker%: No timezone found, symbol may be delisted')\n"
     ]
    },
    {
     "name": "stdout",
     "output_type": "stream",
     "text": [
      "\n",
      "[*********************100%***********************]  1 of 1 completed\n",
      "[*********************100%***********************]  1 of 1 completed\n",
      "[*********************100%***********************]  1 of 1 completed"
     ]
    },
    {
     "name": "stderr",
     "output_type": "stream",
     "text": [
      "\n",
      "1 Failed download:\n",
      "['APC']: Exception('%ticker%: No timezone found, symbol may be delisted')\n"
     ]
    },
    {
     "name": "stdout",
     "output_type": "stream",
     "text": [
      "\n",
      "[*********************100%***********************]  1 of 1 completed\n",
      "[*********************100%***********************]  1 of 1 completed\n",
      "[*********************100%***********************]  1 of 1 completed"
     ]
    },
    {
     "name": "stderr",
     "output_type": "stream",
     "text": [
      "\n",
      "1 Failed download:\n",
      "['RHT']: Exception('%ticker%: No timezone found, symbol may be delisted')\n"
     ]
    },
    {
     "name": "stdout",
     "output_type": "stream",
     "text": [
      "\n",
      "[*********************100%***********************]  1 of 1 completed\n",
      "[*********************100%***********************]  1 of 1 completed\n",
      "[*********************100%***********************]  1 of 1 completed\n",
      "[*********************100%***********************]  1 of 1 completed\n",
      "[*********************100%***********************]  1 of 1 completed\n",
      "[*********************100%***********************]  1 of 1 completed\n",
      "[*********************100%***********************]  1 of 1 completed\n",
      "[*********************100%***********************]  1 of 1 completed\n",
      "[*********************100%***********************]  1 of 1 completed"
     ]
    },
    {
     "name": "stderr",
     "output_type": "stream",
     "text": [
      "\n",
      "1 Failed download:\n",
      "['VAR']: Exception('%ticker%: No timezone found, symbol may be delisted')\n"
     ]
    },
    {
     "name": "stdout",
     "output_type": "stream",
     "text": [
      "\n",
      "[*********************100%***********************]  1 of 1 completed\n",
      "[*********************100%***********************]  1 of 1 completed\n",
      "[*********************100%***********************]  1 of 1 completed\n",
      "[*********************100%***********************]  1 of 1 completed\n",
      "[*********************100%***********************]  1 of 1 completed\n",
      "[*********************100%***********************]  1 of 1 completed\n",
      "[*********************100%***********************]  1 of 1 completed\n",
      "[*********************100%***********************]  1 of 1 completed\n",
      "[*********************100%***********************]  1 of 1 completed\n",
      "[*********************100%***********************]  1 of 1 completed\n",
      "[*********************100%***********************]  1 of 1 completed\n",
      "[*********************100%***********************]  1 of 1 completed\n",
      "[*********************100%***********************]  1 of 1 completed"
     ]
    },
    {
     "name": "stderr",
     "output_type": "stream",
     "text": [
      "\n",
      "1 Failed download:\n",
      "['NLSN']: Exception('%ticker%: No timezone found, symbol may be delisted')\n"
     ]
    },
    {
     "name": "stdout",
     "output_type": "stream",
     "text": [
      "\n",
      "[*********************100%***********************]  1 of 1 completed\n",
      "[*********************100%***********************]  1 of 1 completed\n",
      "[*********************100%***********************]  1 of 1 completed\n",
      "[*********************100%***********************]  1 of 1 completed\n",
      "[*********************100%***********************]  1 of 1 completed\n",
      "[*********************100%***********************]  1 of 1 completed\n",
      "[*********************100%***********************]  1 of 1 completed\n",
      "[*********************100%***********************]  1 of 1 completed\n",
      "[*********************100%***********************]  1 of 1 completed\n",
      "[*********************100%***********************]  1 of 1 completed\n",
      "[*********************100%***********************]  1 of 1 completed\n",
      "[*********************100%***********************]  1 of 1 completed"
     ]
    },
    {
     "name": "stderr",
     "output_type": "stream",
     "text": [
      "\n",
      "1 Failed download:\n",
      "['GGP']: Exception('%ticker%: No price data found, symbol may be delisted (1d 2015-01-01 -> 2023-08-10)')\n"
     ]
    },
    {
     "name": "stdout",
     "output_type": "stream",
     "text": [
      "\n",
      "[*********************100%***********************]  1 of 1 completed\n",
      "[*********************100%***********************]  1 of 1 completed\n",
      "[*********************100%***********************]  1 of 1 completed\n",
      "[*********************100%***********************]  1 of 1 completed\n",
      "[*********************100%***********************]  1 of 1 completed\n",
      "[*********************100%***********************]  1 of 1 completed\n",
      "[*********************100%***********************]  1 of 1 completed\n",
      "[*********************100%***********************]  1 of 1 completed\n",
      "[*********************100%***********************]  1 of 1 completed\n",
      "[*********************100%***********************]  1 of 1 completed\n",
      "[*********************100%***********************]  1 of 1 completed\n",
      "[*********************100%***********************]  1 of 1 completed\n",
      "[*********************100%***********************]  1 of 1 completed\n",
      "[*********************100%***********************]  1 of 1 completed\n",
      "[*********************100%***********************]  1 of 1 completed\n",
      "[*********************100%***********************]  1 of 1 completed\n",
      "[*********************100%***********************]  1 of 1 completed\n",
      "[*********************100%***********************]  1 of 1 completed\n",
      "[*********************100%***********************]  1 of 1 completed\n",
      "[*********************100%***********************]  1 of 1 completed"
     ]
    },
    {
     "name": "stderr",
     "output_type": "stream",
     "text": [
      "\n",
      "1 Failed download:\n",
      "['LVLT']: Exception('%ticker%: No price data found, symbol may be delisted (1d 2015-01-01 -> 2023-08-10)')\n"
     ]
    },
    {
     "name": "stdout",
     "output_type": "stream",
     "text": [
      "\n",
      "[*********************100%***********************]  1 of 1 completed\n",
      "[*********************100%***********************]  1 of 1 completed\n",
      "[*********************100%***********************]  1 of 1 completed\n",
      "[*********************100%***********************]  1 of 1 completed\n",
      "[*********************100%***********************]  1 of 1 completed\n",
      "[*********************100%***********************]  1 of 1 completed\n",
      "[*********************100%***********************]  1 of 1 completed\n",
      "[*********************100%***********************]  1 of 1 completed\n",
      "[*********************100%***********************]  1 of 1 completed\n",
      "[*********************100%***********************]  1 of 1 completed\n",
      "[*********************100%***********************]  1 of 1 completed\n",
      "[*********************100%***********************]  1 of 1 completed"
     ]
    },
    {
     "name": "stderr",
     "output_type": "stream",
     "text": [
      "\n",
      "1 Failed download:\n",
      "['FBHS']: Exception('%ticker%: No timezone found, symbol may be delisted')\n"
     ]
    },
    {
     "name": "stdout",
     "output_type": "stream",
     "text": [
      "\n",
      "[*********************100%***********************]  1 of 1 completed\n",
      "[*********************100%***********************]  1 of 1 completed\n",
      "[*********************100%***********************]  1 of 1 completed\n",
      "[*********************100%***********************]  1 of 1 completed\n",
      "[*********************100%***********************]  1 of 1 completed\n",
      "[*********************100%***********************]  1 of 1 completed\n",
      "[*********************100%***********************]  1 of 1 completed\n",
      "[*********************100%***********************]  1 of 1 completed\n",
      "[*********************100%***********************]  1 of 1 completed\n",
      "[*********************100%***********************]  1 of 1 completed\n",
      "[*********************100%***********************]  1 of 1 completed\n",
      "[*********************100%***********************]  1 of 1 completed\n",
      "[*********************100%***********************]  1 of 1 completed"
     ]
    },
    {
     "name": "stderr",
     "output_type": "stream",
     "text": [
      "\n",
      "1 Failed download:\n",
      "['KSU']: Exception('%ticker%: No timezone found, symbol may be delisted')\n"
     ]
    },
    {
     "name": "stdout",
     "output_type": "stream",
     "text": [
      "\n",
      "[*********************100%***********************]  1 of 1 completed\n",
      "[*********************100%***********************]  1 of 1 completed\n",
      "[*********************100%***********************]  1 of 1 completed"
     ]
    },
    {
     "name": "stderr",
     "output_type": "stream",
     "text": [
      "\n",
      "1 Failed download:\n",
      "['DWDP']: Exception('%ticker%: No timezone found, symbol may be delisted')\n"
     ]
    },
    {
     "name": "stdout",
     "output_type": "stream",
     "text": [
      "\n",
      "[*********************100%***********************]  1 of 1 completed\n",
      "[*********************100%***********************]  1 of 1 completed\n",
      "[*********************100%***********************]  1 of 1 completed\n",
      "[*********************100%***********************]  1 of 1 completed\n",
      "[*********************100%***********************]  1 of 1 completed\n",
      "[*********************100%***********************]  1 of 1 completed\n",
      "[*********************100%***********************]  1 of 1 completed\n",
      "[*********************100%***********************]  1 of 1 completed\n",
      "[*********************100%***********************]  1 of 1 completed\n",
      "[*********************100%***********************]  1 of 1 completed"
     ]
    },
    {
     "name": "stderr",
     "output_type": "stream",
     "text": [
      "\n",
      "1 Failed download:\n",
      "['HFC']: Exception('%ticker%: No timezone found, symbol may be delisted')\n"
     ]
    },
    {
     "name": "stdout",
     "output_type": "stream",
     "text": [
      "\n",
      "[*********************100%***********************]  1 of 1 completed\n",
      "[*********************100%***********************]  1 of 1 completed"
     ]
    },
    {
     "name": "stderr",
     "output_type": "stream",
     "text": [
      "\n",
      "1 Failed download:\n",
      "['MJN']: Exception('%ticker%: No price data found, symbol may be delisted (1d 2015-01-01 -> 2023-08-10)')\n"
     ]
    },
    {
     "name": "stdout",
     "output_type": "stream",
     "text": [
      "\n",
      "[*********************100%***********************]  1 of 1 completed\n",
      "[*********************100%***********************]  1 of 1 completed\n",
      "[*********************100%***********************]  1 of 1 completed\n",
      "[*********************100%***********************]  1 of 1 completed"
     ]
    },
    {
     "name": "stderr",
     "output_type": "stream",
     "text": [
      "\n",
      "1 Failed download:\n",
      "['CVC']: Exception('%ticker%: No price data found, symbol may be delisted (1d 2015-01-01 -> 2023-08-10)')\n"
     ]
    },
    {
     "name": "stdout",
     "output_type": "stream",
     "text": [
      "\n",
      "[*********************100%***********************]  1 of 1 completed\n",
      "[*********************100%***********************]  1 of 1 completed\n",
      "[*********************100%***********************]  1 of 1 completed\n",
      "[*********************100%***********************]  1 of 1 completed\n",
      "[*********************100%***********************]  1 of 1 completed\n",
      "[*********************100%***********************]  1 of 1 completed\n",
      "[*********************100%***********************]  1 of 1 completed\n",
      "[*********************100%***********************]  1 of 1 completed\n",
      "[*********************100%***********************]  1 of 1 completed\n",
      "[*********************100%***********************]  1 of 1 completed\n",
      "[*********************100%***********************]  1 of 1 completed\n",
      "[*********************100%***********************]  1 of 1 completed\n",
      "[*********************100%***********************]  1 of 1 completed"
     ]
    },
    {
     "name": "stderr",
     "output_type": "stream",
     "text": [
      "\n",
      "1 Failed download:\n",
      "['CFN']: Exception('%ticker%: No price data found, symbol may be delisted (1d 2015-01-01 -> 2023-08-10)')\n"
     ]
    },
    {
     "name": "stdout",
     "output_type": "stream",
     "text": [
      "\n",
      "[*********************100%***********************]  1 of 1 completed\n",
      "[*********************100%***********************]  1 of 1 completed\n",
      "[*********************100%***********************]  1 of 1 completed"
     ]
    },
    {
     "name": "stderr",
     "output_type": "stream",
     "text": [
      "\n",
      "1 Failed download:\n",
      "['XLNX']: Exception('%ticker%: No timezone found, symbol may be delisted')\n"
     ]
    },
    {
     "name": "stdout",
     "output_type": "stream",
     "text": [
      "\n",
      "[*********************100%***********************]  1 of 1 completed\n",
      "[*********************100%***********************]  1 of 1 completed\n",
      "[*********************100%***********************]  1 of 1 completed\n",
      "[*********************100%***********************]  1 of 1 completed\n",
      "[*********************100%***********************]  1 of 1 completed\n",
      "[*********************100%***********************]  1 of 1 completed\n",
      "[*********************100%***********************]  1 of 1 completed"
     ]
    },
    {
     "name": "stderr",
     "output_type": "stream",
     "text": [
      "\n",
      "1 Failed download:\n",
      "['AVP']: Exception('%ticker%: No timezone found, symbol may be delisted')\n"
     ]
    },
    {
     "name": "stdout",
     "output_type": "stream",
     "text": [
      "\n",
      "[*********************100%***********************]  1 of 1 completed\n",
      "[*********************100%***********************]  1 of 1 completed\n",
      "[*********************100%***********************]  1 of 1 completed\n",
      "[*********************100%***********************]  1 of 1 completed\n",
      "[*********************100%***********************]  1 of 1 completed\n",
      "[*********************100%***********************]  1 of 1 completed\n",
      "[*********************100%***********************]  1 of 1 completed\n",
      "[*********************100%***********************]  1 of 1 completed\n",
      "[*********************100%***********************]  1 of 1 completed\n",
      "[*********************100%***********************]  1 of 1 completed\n",
      "[*********************100%***********************]  1 of 1 completed\n",
      "[*********************100%***********************]  1 of 1 completed\n",
      "[*********************100%***********************]  1 of 1 completed\n",
      "[*********************100%***********************]  1 of 1 completed\n",
      "[*********************100%***********************]  1 of 1 completed\n",
      "[*********************100%***********************]  1 of 1 completed"
     ]
    },
    {
     "name": "stderr",
     "output_type": "stream",
     "text": [
      "\n",
      "1 Failed download:\n",
      "['SPLS']: Exception('%ticker%: No price data found, symbol may be delisted (1d 2015-01-01 -> 2023-08-10)')\n"
     ]
    },
    {
     "name": "stdout",
     "output_type": "stream",
     "text": [
      "\n",
      "[*********************100%***********************]  1 of 1 completed\n",
      "[*********************100%***********************]  1 of 1 completed\n",
      "[*********************100%***********************]  1 of 1 completed\n",
      "[*********************100%***********************]  1 of 1 completed\n",
      "[*********************100%***********************]  1 of 1 completed\n",
      "[*********************100%***********************]  1 of 1 completed\n",
      "[*********************100%***********************]  1 of 1 completed\n",
      "[*********************100%***********************]  1 of 1 completed"
     ]
    },
    {
     "name": "stderr",
     "output_type": "stream",
     "text": [
      "\n",
      "1 Failed download:\n",
      "['RTN']: Exception('%ticker%: No timezone found, symbol may be delisted')\n"
     ]
    },
    {
     "name": "stdout",
     "output_type": "stream",
     "text": [
      "\n",
      "[*********************100%***********************]  1 of 1 completed\n",
      "[*********************100%***********************]  1 of 1 completed\n",
      "[*********************100%***********************]  1 of 1 completed\n",
      "[*********************100%***********************]  1 of 1 completed\n",
      "[*********************100%***********************]  1 of 1 completed\n",
      "[*********************100%***********************]  1 of 1 completed\n",
      "[*********************100%***********************]  1 of 1 completed\n",
      "[*********************100%***********************]  1 of 1 completed\n",
      "[*********************100%***********************]  1 of 1 completed\n",
      "[*********************100%***********************]  1 of 1 completed\n",
      "[*********************100%***********************]  1 of 1 completed\n",
      "[*********************100%***********************]  1 of 1 completed\n",
      "[*********************100%***********************]  1 of 1 completed\n",
      "[*********************100%***********************]  1 of 1 completed\n",
      "[*********************100%***********************]  1 of 1 completed\n",
      "[*********************100%***********************]  1 of 1 completed\n",
      "[*********************100%***********************]  1 of 1 completed"
     ]
    },
    {
     "name": "stderr",
     "output_type": "stream",
     "text": [
      "\n",
      "1 Failed download:\n",
      "['SIVB']: Exception('%ticker%: No timezone found, symbol may be delisted')\n"
     ]
    },
    {
     "name": "stdout",
     "output_type": "stream",
     "text": [
      "\n",
      "[*********************100%***********************]  1 of 1 completed"
     ]
    },
    {
     "name": "stderr",
     "output_type": "stream",
     "text": [
      "\n",
      "1 Failed download:\n",
      "['JOY']: Exception('%ticker%: No price data found, symbol may be delisted (1d 2015-01-01 -> 2023-08-10)')\n"
     ]
    },
    {
     "name": "stdout",
     "output_type": "stream",
     "text": [
      "\n",
      "[*********************100%***********************]  1 of 1 completed\n",
      "[*********************100%***********************]  1 of 1 completed\n",
      "[*********************100%***********************]  1 of 1 completed\n",
      "[*********************100%***********************]  1 of 1 completed\n",
      "[*********************100%***********************]  1 of 1 completed\n",
      "[*********************100%***********************]  1 of 1 completed\n",
      "[*********************100%***********************]  1 of 1 completed\n",
      "[*********************100%***********************]  1 of 1 completed\n",
      "[*********************100%***********************]  1 of 1 completed\n",
      "[*********************100%***********************]  1 of 1 completed"
     ]
    },
    {
     "name": "stderr",
     "output_type": "stream",
     "text": [
      "\n",
      "1 Failed download:\n",
      "['SNDK']: Exception('%ticker%: No price data found, symbol may be delisted (1d 2015-01-01 -> 2023-08-10)')\n"
     ]
    },
    {
     "name": "stdout",
     "output_type": "stream",
     "text": [
      "\n",
      "[*********************100%***********************]  1 of 1 completed\n",
      "[*********************100%***********************]  1 of 1 completed\n",
      "[*********************100%***********************]  1 of 1 completed\n",
      "[*********************100%***********************]  1 of 1 completed\n",
      "[*********************100%***********************]  1 of 1 completed\n",
      "[*********************100%***********************]  1 of 1 completed\n",
      "[*********************100%***********************]  1 of 1 completed\n",
      "[*********************100%***********************]  1 of 1 completed\n",
      "[*********************100%***********************]  1 of 1 completed\n",
      "[*********************100%***********************]  1 of 1 completed\n",
      "[*********************100%***********************]  1 of 1 completed"
     ]
    },
    {
     "name": "stderr",
     "output_type": "stream",
     "text": [
      "\n",
      "1 Failed download:\n",
      "['TSS']: Exception('%ticker%: No timezone found, symbol may be delisted')\n"
     ]
    },
    {
     "name": "stdout",
     "output_type": "stream",
     "text": [
      "\n",
      "[*********************100%***********************]  1 of 1 completed\n",
      "[*********************100%***********************]  1 of 1 completed\n",
      "[*********************100%***********************]  1 of 1 completed\n",
      "[*********************100%***********************]  1 of 1 completed\n",
      "[*********************100%***********************]  1 of 1 completed\n",
      "[*********************100%***********************]  1 of 1 completed"
     ]
    },
    {
     "name": "stderr",
     "output_type": "stream",
     "text": [
      "\n",
      "1 Failed download:\n",
      "['HSP']: Exception('%ticker%: No price data found, symbol may be delisted (1d 2015-01-01 -> 2023-08-10)')\n"
     ]
    },
    {
     "name": "stdout",
     "output_type": "stream",
     "text": [
      "\n",
      "[*********************100%***********************]  1 of 1 completed\n",
      "[*********************100%***********************]  1 of 1 completed"
     ]
    },
    {
     "name": "stderr",
     "output_type": "stream",
     "text": [
      "\n",
      "1 Failed download:\n",
      "['CERN']: Exception('%ticker%: No timezone found, symbol may be delisted')\n"
     ]
    },
    {
     "name": "stdout",
     "output_type": "stream",
     "text": [
      "\n",
      "[*********************100%***********************]  1 of 1 completed\n",
      "[*********************100%***********************]  1 of 1 completed\n",
      "[*********************100%***********************]  1 of 1 completed\n",
      "[*********************100%***********************]  1 of 1 completed\n",
      "[*********************100%***********************]  1 of 1 completed\n",
      "[*********************100%***********************]  1 of 1 completed\n",
      "[*********************100%***********************]  1 of 1 completed\n",
      "[*********************100%***********************]  1 of 1 completed\n",
      "[*********************100%***********************]  1 of 1 completed"
     ]
    },
    {
     "name": "stderr",
     "output_type": "stream",
     "text": [
      "\n",
      "1 Failed download:\n",
      "['WYN']: Exception('%ticker%: No price data found, symbol may be delisted (1d 2015-01-01 -> 2023-08-10)')\n"
     ]
    },
    {
     "name": "stdout",
     "output_type": "stream",
     "text": [
      "\n",
      "[*********************100%***********************]  1 of 1 completed\n",
      "[*********************100%***********************]  1 of 1 completed\n",
      "[*********************100%***********************]  1 of 1 completed\n",
      "[*********************100%***********************]  1 of 1 completed\n",
      "[*********************100%***********************]  1 of 1 completed\n",
      "[*********************100%***********************]  1 of 1 completed\n",
      "[*********************100%***********************]  1 of 1 completed\n",
      "[*********************100%***********************]  1 of 1 completed"
     ]
    },
    {
     "name": "stderr",
     "output_type": "stream",
     "text": [
      "\n",
      "1 Failed download:\n",
      "['BRCM']: Exception('%ticker%: No price data found, symbol may be delisted (1d 2015-01-01 -> 2023-08-10)')\n"
     ]
    },
    {
     "name": "stdout",
     "output_type": "stream",
     "text": [
      "\n",
      "[*********************100%***********************]  1 of 1 completed\n",
      "[*********************100%***********************]  1 of 1 completed\n",
      "[*********************100%***********************]  1 of 1 completed\n",
      "[*********************100%***********************]  1 of 1 completed\n",
      "[*********************100%***********************]  1 of 1 completed\n",
      "[*********************100%***********************]  1 of 1 completed\n",
      "[*********************100%***********************]  1 of 1 completed\n",
      "[*********************100%***********************]  1 of 1 completed\n",
      "[*********************100%***********************]  1 of 1 completed\n",
      "[*********************100%***********************]  1 of 1 completed\n",
      "[*********************100%***********************]  1 of 1 completed\n",
      "[*********************100%***********************]  1 of 1 completed\n",
      "[*********************100%***********************]  1 of 1 completed\n",
      "[*********************100%***********************]  1 of 1 completed\n",
      "[*********************100%***********************]  1 of 1 completed\n",
      "[*********************100%***********************]  1 of 1 completed"
     ]
    },
    {
     "name": "stderr",
     "output_type": "stream",
     "text": [
      "\n",
      "1 Failed download:\n",
      "['TE']: Exception('%ticker%: No price data found, symbol may be delisted (1d 2015-01-01 -> 2023-08-10)')\n"
     ]
    },
    {
     "name": "stdout",
     "output_type": "stream",
     "text": [
      "\n",
      "[*********************100%***********************]  1 of 1 completed"
     ]
    },
    {
     "name": "stderr",
     "output_type": "stream",
     "text": [
      "\n",
      "1 Failed download:\n",
      "['LM']: Exception('%ticker%: No timezone found, symbol may be delisted')\n"
     ]
    },
    {
     "name": "stdout",
     "output_type": "stream",
     "text": [
      "\n",
      "[*********************100%***********************]  1 of 1 completed"
     ]
    },
    {
     "name": "stderr",
     "output_type": "stream",
     "text": [
      "\n",
      "1 Failed download:\n",
      "['FLIR']: Exception('%ticker%: No timezone found, symbol may be delisted')\n"
     ]
    },
    {
     "name": "stdout",
     "output_type": "stream",
     "text": [
      "\n",
      "[*********************100%***********************]  1 of 1 completed\n",
      "[*********************100%***********************]  1 of 1 completed\n",
      "[*********************100%***********************]  1 of 1 completed\n",
      "[*********************100%***********************]  1 of 1 completed\n",
      "[*********************100%***********************]  1 of 1 completed\n",
      "[*********************100%***********************]  1 of 1 completed\n",
      "[*********************100%***********************]  1 of 1 completed\n",
      "[*********************100%***********************]  1 of 1 completed\n",
      "[*********************100%***********************]  1 of 1 completed\n",
      "[*********************100%***********************]  1 of 1 completed\n",
      "[*********************100%***********************]  1 of 1 completed\n",
      "[*********************100%***********************]  1 of 1 completed"
     ]
    },
    {
     "name": "stderr",
     "output_type": "stream",
     "text": [
      "\n",
      "1 Failed download:\n",
      "['STI']: Exception('%ticker%: No timezone found, symbol may be delisted')\n"
     ]
    },
    {
     "name": "stdout",
     "output_type": "stream",
     "text": [
      "\n",
      "[*********************100%***********************]  1 of 1 completed\n",
      "[*********************100%***********************]  1 of 1 completed\n",
      "[*********************100%***********************]  1 of 1 completed\n",
      "[*********************100%***********************]  1 of 1 completed\n",
      "[*********************100%***********************]  1 of 1 completed\n",
      "[*********************100%***********************]  1 of 1 completed\n",
      "[*********************100%***********************]  1 of 1 completed"
     ]
    },
    {
     "name": "stderr",
     "output_type": "stream",
     "text": [
      "\n",
      "1 Failed download:\n",
      "['CTXS']: Exception('%ticker%: No timezone found, symbol may be delisted')\n"
     ]
    },
    {
     "name": "stdout",
     "output_type": "stream",
     "text": [
      "\n",
      "[*********************100%***********************]  1 of 1 completed\n",
      "[*********************100%***********************]  1 of 1 completed\n",
      "[*********************100%***********************]  1 of 1 completed"
     ]
    },
    {
     "name": "stderr",
     "output_type": "stream",
     "text": [
      "\n",
      "1 Failed download:\n",
      "['HCBK']: Exception('%ticker%: No price data found, symbol may be delisted (1d 2015-01-01 -> 2023-08-10)')\n"
     ]
    },
    {
     "name": "stdout",
     "output_type": "stream",
     "text": [
      "\n",
      "[*********************100%***********************]  1 of 1 completed\n",
      "[*********************100%***********************]  1 of 1 completed\n",
      "[*********************100%***********************]  1 of 1 completed\n",
      "[*********************100%***********************]  1 of 1 completed\n",
      "[*********************100%***********************]  1 of 1 completed\n",
      "[*********************100%***********************]  1 of 1 completed\n",
      "[*********************100%***********************]  1 of 1 completed\n",
      "[*********************100%***********************]  1 of 1 completed"
     ]
    },
    {
     "name": "stderr",
     "output_type": "stream",
     "text": [
      "\n",
      "1 Failed download:\n",
      "['BXLT']: Exception('%ticker%: No price data found, symbol may be delisted (1d 2015-01-01 -> 2023-08-10)')\n"
     ]
    },
    {
     "name": "stdout",
     "output_type": "stream",
     "text": [
      "\n",
      "[*********************100%***********************]  1 of 1 completed\n",
      "[*********************100%***********************]  1 of 1 completed\n",
      "[*********************100%***********************]  1 of 1 completed\n",
      "[*********************100%***********************]  1 of 1 completed\n",
      "[*********************100%***********************]  1 of 1 completed"
     ]
    },
    {
     "name": "stderr",
     "output_type": "stream",
     "text": [
      "\n",
      "1 Failed download:\n",
      "['FDO']: Exception('%ticker%: No price data found, symbol may be delisted (1d 2015-01-01 -> 2023-08-10)')\n"
     ]
    },
    {
     "name": "stdout",
     "output_type": "stream",
     "text": [
      "\n",
      "[*********************100%***********************]  1 of 1 completed\n",
      "[*********************100%***********************]  1 of 1 completed\n",
      "[*********************100%***********************]  1 of 1 completed\n",
      "[*********************100%***********************]  1 of 1 completed\n",
      "[*********************100%***********************]  1 of 1 completed\n",
      "[*********************100%***********************]  1 of 1 completed\n",
      "[*********************100%***********************]  1 of 1 completed\n",
      "[*********************100%***********************]  1 of 1 completed\n",
      "[*********************100%***********************]  1 of 1 completed\n",
      "[*********************100%***********************]  1 of 1 completed\n",
      "[*********************100%***********************]  1 of 1 completed"
     ]
    },
    {
     "name": "stderr",
     "output_type": "stream",
     "text": [
      "\n",
      "1 Failed download:\n",
      "['LLTC']: Exception('%ticker%: No price data found, symbol may be delisted (1d 2015-01-01 -> 2023-08-10)')\n"
     ]
    },
    {
     "name": "stdout",
     "output_type": "stream",
     "text": [
      "\n",
      "[*********************100%***********************]  1 of 1 completed\n",
      "[*********************100%***********************]  1 of 1 completed\n",
      "[*********************100%***********************]  1 of 1 completed\n",
      "[*********************100%***********************]  1 of 1 completed\n",
      "[*********************100%***********************]  1 of 1 completed\n",
      "[*********************100%***********************]  1 of 1 completed\n",
      "[*********************100%***********************]  1 of 1 completed\n",
      "[*********************100%***********************]  1 of 1 completed\n",
      "[*********************100%***********************]  1 of 1 completed\n",
      "[*********************100%***********************]  1 of 1 completed\n",
      "[*********************100%***********************]  1 of 1 completed\n",
      "[*********************100%***********************]  1 of 1 completed\n",
      "[*********************100%***********************]  1 of 1 completed\n",
      "[*********************100%***********************]  1 of 1 completed\n",
      "[*********************100%***********************]  1 of 1 completed\n",
      "[*********************100%***********************]  1 of 1 completed\n",
      "[*********************100%***********************]  1 of 1 completed\n",
      "[*********************100%***********************]  1 of 1 completed"
     ]
    },
    {
     "name": "stderr",
     "output_type": "stream",
     "text": [
      "\n",
      "1 Failed download:\n",
      "['ESV']: Exception('%ticker%: No timezone found, symbol may be delisted')\n"
     ]
    },
    {
     "name": "stdout",
     "output_type": "stream",
     "text": [
      "\n",
      "[*********************100%***********************]  1 of 1 completed"
     ]
    },
    {
     "name": "stderr",
     "output_type": "stream",
     "text": [
      "\n",
      "1 Failed download:\n",
      "['DTV']: Exception('%ticker%: No timezone found, symbol may be delisted')\n"
     ]
    },
    {
     "name": "stdout",
     "output_type": "stream",
     "text": [
      "\n",
      "[*********************100%***********************]  1 of 1 completed\n",
      "[*********************100%***********************]  1 of 1 completed\n",
      "[*********************100%***********************]  1 of 1 completed\n",
      "[*********************100%***********************]  1 of 1 completed\n",
      "[*********************100%***********************]  1 of 1 completed\n",
      "[*********************100%***********************]  1 of 1 completed\n",
      "[*********************100%***********************]  1 of 1 completed"
     ]
    },
    {
     "name": "stderr",
     "output_type": "stream",
     "text": [
      "\n",
      "1 Failed download:\n",
      "['VIAB']: Exception('%ticker%: No timezone found, symbol may be delisted')\n"
     ]
    },
    {
     "name": "stdout",
     "output_type": "stream",
     "text": [
      "\n",
      "[*********************100%***********************]  1 of 1 completed\n",
      "[*********************100%***********************]  1 of 1 completed\n",
      "[*********************100%***********************]  1 of 1 completed\n",
      "[*********************100%***********************]  1 of 1 completed\n",
      "[*********************100%***********************]  1 of 1 completed"
     ]
    },
    {
     "name": "stderr",
     "output_type": "stream",
     "text": [
      "\n",
      "1 Failed download:\n",
      "['WCG']: Exception('%ticker%: No timezone found, symbol may be delisted')\n"
     ]
    },
    {
     "name": "stdout",
     "output_type": "stream",
     "text": [
      "\n",
      "[*********************100%***********************]  1 of 1 completed\n",
      "[*********************100%***********************]  1 of 1 completed\n",
      "[*********************100%***********************]  1 of 1 completed\n",
      "[*********************100%***********************]  1 of 1 completed\n",
      "[*********************100%***********************]  1 of 1 completed\n",
      "[*********************100%***********************]  1 of 1 completed\n",
      "[*********************100%***********************]  1 of 1 completed\n",
      "[*********************100%***********************]  1 of 1 completed\n",
      "[*********************100%***********************]  1 of 1 completed\n",
      "[*********************100%***********************]  1 of 1 completed\n",
      "[*********************100%***********************]  1 of 1 completed"
     ]
    },
    {
     "name": "stderr",
     "output_type": "stream",
     "text": [
      "\n",
      "1 Failed download:\n",
      "['FRC']: Exception('%ticker%: No timezone found, symbol may be delisted')\n"
     ]
    },
    {
     "name": "stdout",
     "output_type": "stream",
     "text": [
      "\n",
      "[*********************100%***********************]  1 of 1 completed"
     ]
    },
    {
     "name": "stderr",
     "output_type": "stream",
     "text": [
      "\n",
      "1 Failed download:\n",
      "['CPGX']: Exception('%ticker%: No price data found, symbol may be delisted (1d 2015-01-01 -> 2023-08-10)')\n"
     ]
    },
    {
     "name": "stdout",
     "output_type": "stream",
     "text": [
      "\n",
      "[*********************100%***********************]  1 of 1 completed\n",
      "[*********************100%***********************]  1 of 1 completed\n",
      "[*********************100%***********************]  1 of 1 completed\n",
      "Wall time: 3min 25s\n"
     ]
    }
   ],
   "source": [
    "%%time\n",
    "# Running function to a variable and displaying processing time to see how long it'll take to download data from yfinance.\n",
    "# Each ticker will have its own dataframe with columns; 'Date', 'Open', 'High', 'Low', 'Close', 'Adj Close', and 'Volume'.\n",
    "# NOTE: No need to run again after first import.\n",
    "SPY = getdata(SPYalltickers)"
   ]
  },
  {
   "cell_type": "markdown",
   "id": "9d365915",
   "metadata": {},
   "source": [
    "### Regarding Failed Downloads\n",
    "\n",
    "When the above cell is run, there will be notifications of failed downloads from Yahoo Finance. This is because these companies are no longer listed on Yahoo Finance so there is nothing to retrieve. These tickers were found on the Wikipedia table listing of removed tickers so it was included in the initial SPY stock list.\n",
    "\n",
    "A few examples of why these are no longer listed on Yahoo Finance;\n",
    "\n",
    "YHOO - Used to be Yahoo! but was acquired by Verizon Communications Inc., so it no longer is listed on Yahoo Finance\n",
    "\n",
    "MXIM - Company named Maxim Integrated acquired by another S&P 500 constituent, Analog Devices (listed as ADI).\n",
    "\n",
    "LLTC - Company named Linear Technology, also acquired by Analog Devices.\n",
    "\n",
    "BBBY - Bed Bath & Beyond, went bankrupt, delisted from major exchanges, and defunct.\n",
    "\n",
    "TWTR - Acquired by Elon Musk and taken off public market\n",
    "\n",
    "One thing to keep in mind here is that the dataset is not perfect. For example, companies such as Twitter and Bed Bath & Beyond may have been considered during a stock screening process done before 2020, but in this case have been completely taken out of the dataset. Even though this is important to note, the dataset is still sufficient to achieve the goal of selecting five stocks using the most recent data.\n",
    "\n",
    "### Creating SQL Database "
   ]
  },
  {
   "cell_type": "code",
   "execution_count": 47,
   "id": "210268e3",
   "metadata": {},
   "outputs": [],
   "source": [
    "# Connecting to SQL database named 'SPY500'.\n",
    "engine = create_engine('sqlite:///SPY500')"
   ]
  },
  {
   "cell_type": "code",
   "execution_count": 49,
   "id": "a61d0c0b",
   "metadata": {},
   "outputs": [],
   "source": [
    "# Creating a function to export each stock dataframe to SQL database.\n",
    "# The ticker names will be the table names in the SQL database, and the dataframes will be the data.\n",
    "# Added exception handling in order to inform if database has already been created.\n",
    "def export_sql(dataframes, tickers, engine):\n",
    "    \"\"\"\n",
    "    Exports stock dataframes to SQL database.\n",
    "    Will not run if database name already exists.\n",
    "    Ensure no duplicates in ticker list.\n",
    "    \"\"\"\n",
    "    try:\n",
    "        for dataframe, ticker in zip(dataframes, tickers):\n",
    "            dataframe.to_sql(ticker, engine, index=False)\n",
    "        print('Export to SQL database complete')\n",
    "    except:\n",
    "        print('Error: Database already exists')     "
   ]
  },
  {
   "cell_type": "code",
   "execution_count": 50,
   "id": "54d755d0",
   "metadata": {},
   "outputs": [
    {
     "name": "stdout",
     "output_type": "stream",
     "text": [
      "Export to SQL database complete\n",
      "Wall time: 4min 35s\n"
     ]
    }
   ],
   "source": [
    "%%time\n",
    "# Running function to create the SQL database along with displaying processing time.\n",
    "export_sql(SPY, SPYalltickers, engine)"
   ]
  },
  {
   "cell_type": "markdown",
   "id": "794841d1",
   "metadata": {},
   "source": [
    "### Updating SQL Database"
   ]
  },
  {
   "cell_type": "code",
   "execution_count": 51,
   "id": "f25623fc",
   "metadata": {},
   "outputs": [],
   "source": [
    "# Creating function to update SQL database .\n",
    "def sql_updater(ticker, start='2023-07-01'):\n",
    "    \"\"\"\n",
    "    Updates SQL database without needing to re-download all initial data\n",
    "    \"\"\"\n",
    "    # Get the latest date from database table.\n",
    "    max_date = pd.read_sql(f'SELECT MAX(Date) FROM {ticker}', engine).values[0][0]\n",
    "    print('Latest date: ' + max_date)\n",
    "    # Added .strip() in order to remove quotations before downloading as these were added for SQL coding.\n",
    "    new_data = yf.download(ticker.strip('\\\"'), start=pd.to_datetime(max_date))\n",
    "    new_rows = new_data[new_data.index > max_date]\n",
    "    new_rows.to_sql(ticker, engine, if_exists='append')\n",
    "    print(str(len(new_rows)) + ' new rows imported to DB')"
   ]
  },
  {
   "cell_type": "code",
   "execution_count": 58,
   "id": "4be7f396",
   "metadata": {},
   "outputs": [
    {
     "name": "stdout",
     "output_type": "stream",
     "text": [
      "Wait until weekend to update SQL database.\n",
      "Wall time: 998 µs\n"
     ]
    }
   ],
   "source": [
    "%%time\n",
    "# Set an if statement to only update during weekends.\n",
    "# This is to avoid updating SQL database while market is open as values will constantly change until market close.\n",
    "# Must first run following cell that defines 'tickers' variable. \n",
    "if datetime.datetime.today().weekday() < 5:\n",
    "    print('Wait until weekend to update SQL database.')\n",
    "else:\n",
    "    for ticker in tickers: \n",
    "        sql_updater(ticker)"
   ]
  },
  {
   "cell_type": "code",
   "execution_count": 59,
   "id": "e275aa15",
   "metadata": {},
   "outputs": [
    {
     "data": {
      "text/html": [
       "<div>\n",
       "<style scoped>\n",
       "    .dataframe tbody tr th:only-of-type {\n",
       "        vertical-align: middle;\n",
       "    }\n",
       "\n",
       "    .dataframe tbody tr th {\n",
       "        vertical-align: top;\n",
       "    }\n",
       "\n",
       "    .dataframe thead th {\n",
       "        text-align: right;\n",
       "    }\n",
       "</style>\n",
       "<table border=\"1\" class=\"dataframe\">\n",
       "  <thead>\n",
       "    <tr style=\"text-align: right;\">\n",
       "      <th></th>\n",
       "      <th>type</th>\n",
       "      <th>name</th>\n",
       "      <th>tbl_name</th>\n",
       "      <th>rootpage</th>\n",
       "      <th>sql</th>\n",
       "    </tr>\n",
       "  </thead>\n",
       "  <tbody>\n",
       "    <tr>\n",
       "      <th>0</th>\n",
       "      <td>table</td>\n",
       "      <td>RF</td>\n",
       "      <td>RF</td>\n",
       "      <td>2</td>\n",
       "      <td>CREATE TABLE \"RF\" (\\n\\t\"Date\" DATETIME, \\n\\t\"O...</td>\n",
       "    </tr>\n",
       "    <tr>\n",
       "      <th>1</th>\n",
       "      <td>table</td>\n",
       "      <td>MCHP</td>\n",
       "      <td>MCHP</td>\n",
       "      <td>48</td>\n",
       "      <td>CREATE TABLE \"MCHP\" (\\n\\t\"Date\" DATETIME, \\n\\t...</td>\n",
       "    </tr>\n",
       "    <tr>\n",
       "      <th>2</th>\n",
       "      <td>table</td>\n",
       "      <td>PH</td>\n",
       "      <td>PH</td>\n",
       "      <td>93</td>\n",
       "      <td>CREATE TABLE \"PH\" (\\n\\t\"Date\" DATETIME, \\n\\t\"O...</td>\n",
       "    </tr>\n",
       "    <tr>\n",
       "      <th>3</th>\n",
       "      <td>table</td>\n",
       "      <td>BKR</td>\n",
       "      <td>BKR</td>\n",
       "      <td>138</td>\n",
       "      <td>CREATE TABLE \"BKR\" (\\n\\t\"Date\" DATETIME, \\n\\t\"...</td>\n",
       "    </tr>\n",
       "    <tr>\n",
       "      <th>4</th>\n",
       "      <td>table</td>\n",
       "      <td>NUE</td>\n",
       "      <td>NUE</td>\n",
       "      <td>183</td>\n",
       "      <td>CREATE TABLE \"NUE\" (\\n\\t\"Date\" DATETIME, \\n\\t\"...</td>\n",
       "    </tr>\n",
       "    <tr>\n",
       "      <th>...</th>\n",
       "      <td>...</td>\n",
       "      <td>...</td>\n",
       "      <td>...</td>\n",
       "      <td>...</td>\n",
       "      <td>...</td>\n",
       "    </tr>\n",
       "    <tr>\n",
       "      <th>678</th>\n",
       "      <td>table</td>\n",
       "      <td>FRC</td>\n",
       "      <td>FRC</td>\n",
       "      <td>25798</td>\n",
       "      <td>CREATE TABLE \"FRC\" (\\n\\t\"Date\" TEXT, \\n\\t\"Open...</td>\n",
       "    </tr>\n",
       "    <tr>\n",
       "      <th>679</th>\n",
       "      <td>table</td>\n",
       "      <td>CPGX</td>\n",
       "      <td>CPGX</td>\n",
       "      <td>25799</td>\n",
       "      <td>CREATE TABLE \"CPGX\" (\\n\\t\"Date\" TEXT, \\n\\t\"Ope...</td>\n",
       "    </tr>\n",
       "    <tr>\n",
       "      <th>680</th>\n",
       "      <td>table</td>\n",
       "      <td>IVZ</td>\n",
       "      <td>IVZ</td>\n",
       "      <td>25800</td>\n",
       "      <td>CREATE TABLE \"IVZ\" (\\n\\t\"Date\" DATETIME, \\n\\t\"...</td>\n",
       "    </tr>\n",
       "    <tr>\n",
       "      <th>681</th>\n",
       "      <td>table</td>\n",
       "      <td>RIG</td>\n",
       "      <td>RIG</td>\n",
       "      <td>25845</td>\n",
       "      <td>CREATE TABLE \"RIG\" (\\n\\t\"Date\" DATETIME, \\n\\t\"...</td>\n",
       "    </tr>\n",
       "    <tr>\n",
       "      <th>682</th>\n",
       "      <td>table</td>\n",
       "      <td>HWM</td>\n",
       "      <td>HWM</td>\n",
       "      <td>25891</td>\n",
       "      <td>CREATE TABLE \"HWM\" (\\n\\t\"Date\" DATETIME, \\n\\t\"...</td>\n",
       "    </tr>\n",
       "  </tbody>\n",
       "</table>\n",
       "<p>683 rows × 5 columns</p>\n",
       "</div>"
      ],
      "text/plain": [
       "      type  name tbl_name  rootpage  \\\n",
       "0    table    RF       RF         2   \n",
       "1    table  MCHP     MCHP        48   \n",
       "2    table    PH       PH        93   \n",
       "3    table   BKR      BKR       138   \n",
       "4    table   NUE      NUE       183   \n",
       "..     ...   ...      ...       ...   \n",
       "678  table   FRC      FRC     25798   \n",
       "679  table  CPGX     CPGX     25799   \n",
       "680  table   IVZ      IVZ     25800   \n",
       "681  table   RIG      RIG     25845   \n",
       "682  table   HWM      HWM     25891   \n",
       "\n",
       "                                                   sql  \n",
       "0    CREATE TABLE \"RF\" (\\n\\t\"Date\" DATETIME, \\n\\t\"O...  \n",
       "1    CREATE TABLE \"MCHP\" (\\n\\t\"Date\" DATETIME, \\n\\t...  \n",
       "2    CREATE TABLE \"PH\" (\\n\\t\"Date\" DATETIME, \\n\\t\"O...  \n",
       "3    CREATE TABLE \"BKR\" (\\n\\t\"Date\" DATETIME, \\n\\t\"...  \n",
       "4    CREATE TABLE \"NUE\" (\\n\\t\"Date\" DATETIME, \\n\\t\"...  \n",
       "..                                                 ...  \n",
       "678  CREATE TABLE \"FRC\" (\\n\\t\"Date\" TEXT, \\n\\t\"Open...  \n",
       "679  CREATE TABLE \"CPGX\" (\\n\\t\"Date\" TEXT, \\n\\t\"Ope...  \n",
       "680  CREATE TABLE \"IVZ\" (\\n\\t\"Date\" DATETIME, \\n\\t\"...  \n",
       "681  CREATE TABLE \"RIG\" (\\n\\t\"Date\" DATETIME, \\n\\t\"...  \n",
       "682  CREATE TABLE \"HWM\" (\\n\\t\"Date\" DATETIME, \\n\\t\"...  \n",
       "\n",
       "[683 rows x 5 columns]"
      ]
     },
     "execution_count": 59,
     "metadata": {},
     "output_type": "execute_result"
    }
   ],
   "source": [
    "# Getting an overview of how the SQL database looks like, with ticker names as the table names. \n",
    "# Note: I also use the tool 'DB Browser for SQLite' that allows me to view the database and execute SQL code directly on it.\n",
    "# Ensuring that the number of rows is correct, which should be 683. The tickers that failed to download are empty tables.\n",
    "pd.read_sql('SELECT * FROM sqlite_master', engine)"
   ]
  },
  {
   "cell_type": "markdown",
   "id": "454e13c9",
   "metadata": {},
   "source": [
    "### Creating Dataframe From SQL Database"
   ]
  },
  {
   "cell_type": "code",
   "execution_count": 60,
   "id": "a5eb33d7",
   "metadata": {},
   "outputs": [],
   "source": [
    "# Creating a variable to store a list of all the ticker names from SQL database.\n",
    "tickers = pd.read_sql('SELECT name FROM sqlite_master WHERE type=\"table\"', engine)['name'].to_list()"
   ]
  },
  {
   "cell_type": "code",
   "execution_count": 61,
   "id": "23920803",
   "metadata": {},
   "outputs": [
    {
     "data": {
      "text/plain": [
       "['RF',\n",
       " 'MCHP',\n",
       " 'PH',\n",
       " 'BKR',\n",
       " 'NUE',\n",
       " 'NTRS',\n",
       " 'VRTX',\n",
       " 'PCP',\n",
       " 'SPG',\n",
       " 'RL',\n",
       " 'NFLX',\n",
       " 'ACN',\n",
       " 'KDP',\n",
       " 'ZION',\n",
       " 'LO',\n",
       " 'DAL',\n",
       " 'XL',\n",
       " 'GOOGL',\n",
       " 'MCD',\n",
       " 'TER',\n",
       " 'LIN',\n",
       " 'DOV',\n",
       " 'PFG',\n",
       " 'ENPH',\n",
       " 'STZ',\n",
       " 'CPRI',\n",
       " 'AJG',\n",
       " 'HSY',\n",
       " 'CME',\n",
       " 'DHR',\n",
       " 'ORLY',\n",
       " 'PG',\n",
       " 'KMB',\n",
       " 'DFS',\n",
       " 'NTAP',\n",
       " 'PDCO',\n",
       " 'PAYC',\n",
       " 'DGX',\n",
       " 'SLG',\n",
       " 'VRSN',\n",
       " 'D',\n",
       " 'SBUX',\n",
       " 'AGN',\n",
       " 'SWKS',\n",
       " 'PXD',\n",
       " 'AMZN',\n",
       " 'PPG',\n",
       " 'BBWI',\n",
       " 'J',\n",
       " 'HRL',\n",
       " 'PPL',\n",
       " 'EXC',\n",
       " 'CDNS',\n",
       " 'HD',\n",
       " 'WYNN',\n",
       " 'CHTR',\n",
       " 'MTB',\n",
       " 'FTV',\n",
       " 'AAL',\n",
       " 'BEN',\n",
       " 'TAP',\n",
       " 'STX',\n",
       " 'SWY',\n",
       " 'ANSS',\n",
       " 'SNI',\n",
       " 'NE',\n",
       " 'MRK',\n",
       " 'CF',\n",
       " 'RJF',\n",
       " 'RAI',\n",
       " 'LUMN',\n",
       " 'COV',\n",
       " 'HLT',\n",
       " 'MUR',\n",
       " 'IFF',\n",
       " 'PHM',\n",
       " 'HBAN',\n",
       " 'CAM',\n",
       " 'ADT',\n",
       " 'NSC',\n",
       " 'JKHY',\n",
       " 'CTVA',\n",
       " 'LHX',\n",
       " 'HOG',\n",
       " 'HP',\n",
       " 'COO',\n",
       " 'GMCR',\n",
       " 'ACE',\n",
       " 'LH',\n",
       " 'BXP',\n",
       " 'ED',\n",
       " 'FL',\n",
       " 'BKNG',\n",
       " 'CNX',\n",
       " 'CELG',\n",
       " 'SBNY',\n",
       " 'FE',\n",
       " 'BA',\n",
       " 'TRGP',\n",
       " '\"BRK-B\"',\n",
       " 'TMUS',\n",
       " 'PENN',\n",
       " 'GEN',\n",
       " 'NVR',\n",
       " 'SLB',\n",
       " 'MNST',\n",
       " 'FOX',\n",
       " 'UNM',\n",
       " 'ADS',\n",
       " 'DNB',\n",
       " 'MOS',\n",
       " 'FDX',\n",
       " 'BMY',\n",
       " 'ORCL',\n",
       " 'TDY',\n",
       " 'AME',\n",
       " 'FCX',\n",
       " 'RCL',\n",
       " 'JCI',\n",
       " 'BRO',\n",
       " 'MON',\n",
       " 'OI',\n",
       " 'YHOO',\n",
       " 'DG',\n",
       " 'PWR',\n",
       " 'ULTA',\n",
       " 'LLY',\n",
       " 'SPGI',\n",
       " 'WRK',\n",
       " 'R',\n",
       " 'EFX',\n",
       " 'CDAY',\n",
       " 'EQIX',\n",
       " 'MOH',\n",
       " 'ODFL',\n",
       " 'BIO',\n",
       " 'FTNT',\n",
       " 'SWK',\n",
       " 'KRFT',\n",
       " 'CVX',\n",
       " 'PCG',\n",
       " 'INFO',\n",
       " 'LYV',\n",
       " 'LUV',\n",
       " 'JEF',\n",
       " 'PVH',\n",
       " 'NEM',\n",
       " 'CHD',\n",
       " 'ETSY',\n",
       " 'WHR',\n",
       " 'DISH',\n",
       " 'HST',\n",
       " 'ISRG',\n",
       " 'IEX',\n",
       " 'CBRE',\n",
       " 'MXIM',\n",
       " 'URI',\n",
       " 'BCR',\n",
       " 'CRM',\n",
       " 'NBR',\n",
       " 'ETR',\n",
       " 'ATO',\n",
       " 'CL',\n",
       " 'ATVI',\n",
       " 'IQV',\n",
       " 'SNA',\n",
       " 'WBA',\n",
       " 'WELL',\n",
       " 'COF',\n",
       " 'CMI',\n",
       " 'TSLA',\n",
       " 'M',\n",
       " 'ARG',\n",
       " 'RVTY',\n",
       " 'SIG',\n",
       " 'GIS',\n",
       " 'ABBV',\n",
       " 'MRNA',\n",
       " 'IPG',\n",
       " 'GME',\n",
       " 'DPS',\n",
       " 'WST',\n",
       " 'VNO',\n",
       " 'SE',\n",
       " 'TIF',\n",
       " 'WMT',\n",
       " 'PNR',\n",
       " 'BDX',\n",
       " 'PSX',\n",
       " 'HBI',\n",
       " 'GNRC',\n",
       " 'AMGN',\n",
       " 'CDW',\n",
       " 'SO',\n",
       " 'FITB',\n",
       " 'LYB',\n",
       " 'TRIP',\n",
       " 'AA',\n",
       " 'KEY',\n",
       " 'MCK',\n",
       " 'KIM',\n",
       " 'BAX',\n",
       " 'CNP',\n",
       " 'PANW',\n",
       " 'CMCSK',\n",
       " 'ROST',\n",
       " 'IDXX',\n",
       " 'FLR',\n",
       " 'ANDV',\n",
       " 'GAS',\n",
       " 'UA',\n",
       " 'NOV',\n",
       " 'XEC',\n",
       " 'OXY',\n",
       " 'COL',\n",
       " 'SCHW',\n",
       " 'HES',\n",
       " 'SNPS',\n",
       " 'META',\n",
       " 'FICO',\n",
       " 'EPAM',\n",
       " 'CHRW',\n",
       " 'YUM',\n",
       " '\"ON\"',\n",
       " 'QCOM',\n",
       " 'C',\n",
       " 'WIN',\n",
       " 'CB',\n",
       " 'UNP',\n",
       " 'ALB',\n",
       " 'RHI',\n",
       " 'JPM',\n",
       " 'TPR',\n",
       " 'SCG',\n",
       " 'LW',\n",
       " 'BWA',\n",
       " 'L',\n",
       " 'ARNC',\n",
       " 'AZO',\n",
       " 'AN',\n",
       " 'EXR',\n",
       " 'SIAL',\n",
       " 'AIG',\n",
       " 'SBAC',\n",
       " 'PNW',\n",
       " 'SEE',\n",
       " 'MKTX',\n",
       " 'EXPE',\n",
       " 'LMT',\n",
       " 'TFC',\n",
       " 'CCE',\n",
       " 'ENDP',\n",
       " 'MBC',\n",
       " 'CZR',\n",
       " 'DNR',\n",
       " 'HCA',\n",
       " 'AOS',\n",
       " 'GILD',\n",
       " 'QEP',\n",
       " 'CXO',\n",
       " 'AVY',\n",
       " 'STJ',\n",
       " 'ABT',\n",
       " 'MAC',\n",
       " 'NDAQ',\n",
       " 'FLT',\n",
       " 'TGNA',\n",
       " 'EIX',\n",
       " 'MO',\n",
       " 'FDS',\n",
       " 'WEC',\n",
       " 'HPQ',\n",
       " 'SYY',\n",
       " 'NBL',\n",
       " 'V',\n",
       " 'ROK',\n",
       " 'VICI',\n",
       " 'TWC',\n",
       " 'CHK',\n",
       " 'EG',\n",
       " 'F',\n",
       " 'KEYS',\n",
       " 'LLL',\n",
       " 'CEG',\n",
       " 'HII',\n",
       " 'DXC',\n",
       " 'OKE',\n",
       " 'AMAT',\n",
       " 'REG',\n",
       " 'INTC',\n",
       " 'UNH',\n",
       " 'USB',\n",
       " 'CPRT',\n",
       " 'PM',\n",
       " 'CLX',\n",
       " 'DIS',\n",
       " 'WFM',\n",
       " 'EMN',\n",
       " 'MAT',\n",
       " 'CTSH',\n",
       " 'INVH',\n",
       " 'CINF',\n",
       " 'LEN',\n",
       " 'OMC',\n",
       " 'TRV',\n",
       " 'AET',\n",
       " 'NKTR',\n",
       " 'AYI',\n",
       " 'THC',\n",
       " 'JNPR',\n",
       " 'AES',\n",
       " 'GM',\n",
       " 'FRT',\n",
       " 'HSIC',\n",
       " 'TJX',\n",
       " 'PBCT',\n",
       " 'AMT',\n",
       " 'STT',\n",
       " 'JWN',\n",
       " 'CA',\n",
       " 'CSCO',\n",
       " 'PAYX',\n",
       " 'TWTR',\n",
       " 'VFC',\n",
       " 'CSGP',\n",
       " 'DRE',\n",
       " 'GPC',\n",
       " 'MAA',\n",
       " 'GPN',\n",
       " 'OGN',\n",
       " 'CAG',\n",
       " 'BBBY',\n",
       " 'MSCI',\n",
       " 'ETN',\n",
       " 'CARR',\n",
       " 'VTR',\n",
       " 'EVHC',\n",
       " 'COP',\n",
       " 'LDOS',\n",
       " 'RTX',\n",
       " 'PEAK',\n",
       " 'FTR',\n",
       " 'AMP',\n",
       " 'CCI',\n",
       " 'GE',\n",
       " 'MA',\n",
       " 'IBM',\n",
       " 'HUM',\n",
       " 'ALXN',\n",
       " 'APTV',\n",
       " 'IT',\n",
       " 'PEG',\n",
       " 'IR',\n",
       " 'SYK',\n",
       " 'GEHC',\n",
       " 'TYC',\n",
       " 'FTI',\n",
       " 'ETFC',\n",
       " 'MMC',\n",
       " 'TROW',\n",
       " 'APC',\n",
       " 'BBY',\n",
       " 'DVN',\n",
       " 'RHT',\n",
       " 'APA',\n",
       " 'ARE',\n",
       " 'NCLH',\n",
       " 'KMX',\n",
       " 'DD',\n",
       " 'CTAS',\n",
       " 'LEG',\n",
       " 'AVB',\n",
       " 'VAR',\n",
       " 'DRI',\n",
       " 'MNK',\n",
       " 'JNJ',\n",
       " 'WTW',\n",
       " 'AXON',\n",
       " 'WMB',\n",
       " 'APH',\n",
       " 'TECH',\n",
       " 'T',\n",
       " 'EW',\n",
       " 'WDC',\n",
       " 'ZBH',\n",
       " 'NLSN',\n",
       " 'FMC',\n",
       " 'BSX',\n",
       " 'DVA',\n",
       " 'PFE',\n",
       " 'EOG',\n",
       " 'TTWO',\n",
       " 'REGN',\n",
       " 'PLL',\n",
       " 'MAS',\n",
       " 'POOL',\n",
       " 'SRE',\n",
       " 'GGP',\n",
       " 'KO',\n",
       " 'KHC',\n",
       " 'DO',\n",
       " 'GRMN',\n",
       " 'BK',\n",
       " 'CTLT',\n",
       " 'AMG',\n",
       " 'TEG',\n",
       " 'MCO',\n",
       " 'APD',\n",
       " 'TDC',\n",
       " 'SEDG',\n",
       " 'FOSL',\n",
       " 'GWW',\n",
       " 'TYL',\n",
       " 'AIV',\n",
       " 'EXPD',\n",
       " 'HIG',\n",
       " 'DOW',\n",
       " 'LVLT',\n",
       " 'KSS',\n",
       " 'TMO',\n",
       " 'EVRG',\n",
       " 'MGM',\n",
       " 'HON',\n",
       " 'LOW',\n",
       " 'PTC',\n",
       " 'CSRA',\n",
       " 'FSLR',\n",
       " 'ES',\n",
       " '\"BF-B\"',\n",
       " 'FBHS',\n",
       " 'BLK',\n",
       " 'FI',\n",
       " 'MS',\n",
       " 'UDR',\n",
       " 'PCL',\n",
       " 'GL',\n",
       " 'FLS',\n",
       " 'ALTR',\n",
       " 'NI',\n",
       " 'KLAC',\n",
       " 'PETM',\n",
       " 'PARA',\n",
       " 'KSU',\n",
       " 'XYL',\n",
       " 'CFG',\n",
       " 'DWDP',\n",
       " 'K',\n",
       " 'WAB',\n",
       " 'HAR',\n",
       " 'KR',\n",
       " 'AIZ',\n",
       " 'MRO',\n",
       " 'MDLZ',\n",
       " 'LRCX',\n",
       " 'EQR',\n",
       " 'HFC',\n",
       " 'CPB',\n",
       " 'MJN',\n",
       " 'COTY',\n",
       " 'VLO',\n",
       " 'NRG',\n",
       " 'CVC',\n",
       " 'HAS',\n",
       " 'TFX',\n",
       " 'CE',\n",
       " 'PEP',\n",
       " 'CNC',\n",
       " 'IRM',\n",
       " 'ESS',\n",
       " 'ICE',\n",
       " 'PGR',\n",
       " 'BMS',\n",
       " 'ELV',\n",
       " 'PKG',\n",
       " 'CFN',\n",
       " 'EBAY',\n",
       " 'PRU',\n",
       " 'XLNX',\n",
       " 'RSG',\n",
       " 'IPGP',\n",
       " 'SJM',\n",
       " 'TDG',\n",
       " 'AFL',\n",
       " 'UHS',\n",
       " 'AVP',\n",
       " 'FIS',\n",
       " 'QRVO',\n",
       " 'TXT',\n",
       " 'ECL',\n",
       " 'KMI',\n",
       " 'AKAM',\n",
       " 'SHW',\n",
       " 'OTIS',\n",
       " 'AAPL',\n",
       " 'GLW',\n",
       " 'HOT',\n",
       " 'CSX',\n",
       " 'TEL',\n",
       " 'HPE',\n",
       " 'VZ',\n",
       " 'SPLS',\n",
       " 'CMS',\n",
       " 'DPZ',\n",
       " 'AON',\n",
       " 'JBHT',\n",
       " 'BALL',\n",
       " 'AXP',\n",
       " 'PNC',\n",
       " 'RTN',\n",
       " 'NAVI',\n",
       " 'ROP',\n",
       " 'TXN',\n",
       " 'PCAR',\n",
       " 'AEP',\n",
       " 'WFC',\n",
       " 'CI',\n",
       " 'UAA',\n",
       " 'NFX',\n",
       " 'TSCO',\n",
       " 'CRL',\n",
       " 'MSFT',\n",
       " 'WM',\n",
       " 'BHF',\n",
       " 'EMC',\n",
       " 'NWL',\n",
       " 'SIVB',\n",
       " 'JOY',\n",
       " '\"ALL\"',\n",
       " 'SRCL',\n",
       " 'ADBE',\n",
       " 'DHI',\n",
       " 'DTE',\n",
       " 'MDT',\n",
       " 'ANET',\n",
       " 'LVS',\n",
       " 'TSN',\n",
       " 'SNDK',\n",
       " 'NXPI',\n",
       " 'INCY',\n",
       " 'ILMN',\n",
       " 'CCL',\n",
       " 'WAT',\n",
       " 'PODD',\n",
       " 'XRX',\n",
       " 'MET',\n",
       " 'CPT',\n",
       " 'NVDA',\n",
       " 'TSS',\n",
       " 'XOM',\n",
       " 'NOC',\n",
       " 'AMD',\n",
       " 'BG',\n",
       " 'WRB',\n",
       " 'HSP',\n",
       " 'MTD',\n",
       " 'CERN',\n",
       " 'GPS',\n",
       " 'VTRS',\n",
       " 'LNC',\n",
       " 'ADM',\n",
       " 'MU',\n",
       " 'CAT',\n",
       " 'NOW',\n",
       " 'WBD',\n",
       " 'WYN',\n",
       " 'DLTR',\n",
       " 'WY',\n",
       " 'ZTS',\n",
       " 'CAH',\n",
       " 'POM',\n",
       " 'ALGN',\n",
       " 'ADSK',\n",
       " 'BRCM',\n",
       " 'ABMD',\n",
       " 'PRGO',\n",
       " 'UPS',\n",
       " 'MKC',\n",
       " 'GOOG',\n",
       " 'AWK',\n",
       " 'TT',\n",
       " 'SWN',\n",
       " 'AMCR',\n",
       " 'MSI',\n",
       " 'EQT',\n",
       " 'XRAY',\n",
       " 'ADI',\n",
       " 'MPWR',\n",
       " 'GT',\n",
       " 'TE',\n",
       " 'LM',\n",
       " 'FLIR',\n",
       " 'PYPL',\n",
       " 'PLD',\n",
       " 'O',\n",
       " 'GNW',\n",
       " 'VNT',\n",
       " 'LKQ',\n",
       " 'VMC',\n",
       " 'RMD',\n",
       " 'MPC',\n",
       " 'HAL',\n",
       " 'NDSN',\n",
       " 'STI',\n",
       " 'DXCM',\n",
       " 'FANG',\n",
       " 'UAL',\n",
       " 'PBI',\n",
       " 'MHK',\n",
       " 'DLR',\n",
       " 'CTXS',\n",
       " 'CVS',\n",
       " 'COST',\n",
       " 'HCBK',\n",
       " 'AAP',\n",
       " 'NKE',\n",
       " 'STE',\n",
       " 'INTU',\n",
       " 'A',\n",
       " 'AEE',\n",
       " 'URBN',\n",
       " 'BXLT',\n",
       " 'CMCSA',\n",
       " 'HOLX',\n",
       " 'ALLE',\n",
       " 'MTCH',\n",
       " 'FDO',\n",
       " 'DUK',\n",
       " 'EA',\n",
       " 'VRSK',\n",
       " 'ATI',\n",
       " 'TGT',\n",
       " 'CMG',\n",
       " 'PSA',\n",
       " 'MMM',\n",
       " 'AVGO',\n",
       " 'GD',\n",
       " 'LLTC',\n",
       " 'ESRX',\n",
       " 'ABC',\n",
       " 'EMR',\n",
       " 'EL',\n",
       " 'FFIV',\n",
       " 'ALK',\n",
       " 'SYF',\n",
       " 'CBOE',\n",
       " 'IP',\n",
       " 'BR',\n",
       " 'TRMB',\n",
       " 'GS',\n",
       " 'CMA',\n",
       " 'CSC',\n",
       " 'ADP',\n",
       " 'FAST',\n",
       " 'XEL',\n",
       " 'ESV',\n",
       " 'DTV',\n",
       " 'NWSA',\n",
       " 'WU',\n",
       " 'RRC',\n",
       " 'DE',\n",
       " 'NEE',\n",
       " 'ITW',\n",
       " 'VIAB',\n",
       " 'TWX',\n",
       " 'ROL',\n",
       " 'HRB',\n",
       " 'LNT',\n",
       " 'WCG',\n",
       " 'FOXA',\n",
       " 'MLM',\n",
       " 'MAR',\n",
       " 'ZBRA',\n",
       " 'NWS',\n",
       " 'BAC',\n",
       " 'STLD',\n",
       " 'ACGL',\n",
       " 'CTRA',\n",
       " 'BIIB',\n",
       " 'FRC',\n",
       " 'CPGX',\n",
       " 'IVZ',\n",
       " 'RIG',\n",
       " 'HWM']"
      ]
     },
     "execution_count": 61,
     "metadata": {},
     "output_type": "execute_result"
    }
   ],
   "source": [
    "# Need to modify some tickers as it will cause issues when they are inserted into SQL code in the following cell.\n",
    "tickers = ['\"ALL\"' if i=='ALL' else i for i in tickers] # need to modify otherwise SQL reads it as 'FROM ALL'\n",
    "tickers = ['\"ON\"' if i=='ON' else i for i in tickers] # need to modify otherwise SQL reads it as 'FROM ON'\n",
    "tickers = ['\"BF-B\"' if i=='BF-B' else i for i in tickers] # need to modify due to SQL reading \"-\"\n",
    "tickers = ['\"BRK-B\"' if i=='BRK-B' else i for i in tickers] # need to modify due to SQL reading \"-\"\n",
    "tickers"
   ]
  },
  {
   "cell_type": "code",
   "execution_count": 63,
   "id": "bde36767",
   "metadata": {},
   "outputs": [],
   "source": [
    "# Creating a function to clean and combine all the tables into one table.\n",
    "def stocks_import(tickers):\n",
    "    \"\"\"\n",
    "    Combines all tables from SQL database into one Pandas dataframe\n",
    "    \"\"\"\n",
    "    # Creating empty dataframe.\n",
    "    df_ = pd.DataFrame() \n",
    "    # Loop for list of names.\n",
    "    for ticker in tickers:\n",
    "        # Creating dataframe from SQL.\n",
    "        df = pd.read_sql(f'SELECT * FROM {ticker}', engine)\n",
    "        # Cleaning 'Date' column and setting it as index.\n",
    "        df['Date'] = df['Date'].str.split(' ').str[0]\n",
    "        df = df.set_index('Date')\n",
    "        # Selecting only 'Adj Close' column and renaming the column as ticker name for identification.\n",
    "        df = df[['Adj Close']]\n",
    "        df = df.rename(columns={'Adj Close': ticker})\n",
    "        # Combining dataframes horizontally.\n",
    "        df_ = pd.concat([df_, df], axis=1)\n",
    "    return df_"
   ]
  },
  {
   "cell_type": "code",
   "execution_count": 64,
   "id": "bfc404a7",
   "metadata": {},
   "outputs": [
    {
     "name": "stdout",
     "output_type": "stream",
     "text": [
      "Wall time: 22.9 s\n"
     ]
    }
   ],
   "source": [
    "%%time\n",
    "# Running function with list of ticker names to create combined dataframe for analysis along with processing time.\n",
    "df = stocks_import(tickers)"
   ]
  },
  {
   "cell_type": "code",
   "execution_count": 65,
   "id": "ec96c770",
   "metadata": {},
   "outputs": [
    {
     "data": {
      "text/html": [
       "<div>\n",
       "<style scoped>\n",
       "    .dataframe tbody tr th:only-of-type {\n",
       "        vertical-align: middle;\n",
       "    }\n",
       "\n",
       "    .dataframe tbody tr th {\n",
       "        vertical-align: top;\n",
       "    }\n",
       "\n",
       "    .dataframe thead th {\n",
       "        text-align: right;\n",
       "    }\n",
       "</style>\n",
       "<table border=\"1\" class=\"dataframe\">\n",
       "  <thead>\n",
       "    <tr style=\"text-align: right;\">\n",
       "      <th></th>\n",
       "      <th>RF</th>\n",
       "      <th>MCHP</th>\n",
       "      <th>PH</th>\n",
       "      <th>BKR</th>\n",
       "      <th>NUE</th>\n",
       "      <th>NTRS</th>\n",
       "      <th>VRTX</th>\n",
       "      <th>PCP</th>\n",
       "      <th>SPG</th>\n",
       "      <th>RL</th>\n",
       "      <th>...</th>\n",
       "      <th>BAC</th>\n",
       "      <th>STLD</th>\n",
       "      <th>ACGL</th>\n",
       "      <th>CTRA</th>\n",
       "      <th>BIIB</th>\n",
       "      <th>FRC</th>\n",
       "      <th>CPGX</th>\n",
       "      <th>IVZ</th>\n",
       "      <th>RIG</th>\n",
       "      <th>HWM</th>\n",
       "    </tr>\n",
       "    <tr>\n",
       "      <th>Date</th>\n",
       "      <th></th>\n",
       "      <th></th>\n",
       "      <th></th>\n",
       "      <th></th>\n",
       "      <th></th>\n",
       "      <th></th>\n",
       "      <th></th>\n",
       "      <th></th>\n",
       "      <th></th>\n",
       "      <th></th>\n",
       "      <th></th>\n",
       "      <th></th>\n",
       "      <th></th>\n",
       "      <th></th>\n",
       "      <th></th>\n",
       "      <th></th>\n",
       "      <th></th>\n",
       "      <th></th>\n",
       "      <th></th>\n",
       "      <th></th>\n",
       "      <th></th>\n",
       "    </tr>\n",
       "  </thead>\n",
       "  <tbody>\n",
       "    <tr>\n",
       "      <th>2015-01-02</th>\n",
       "      <td>8.054943</td>\n",
       "      <td>19.114405</td>\n",
       "      <td>110.646973</td>\n",
       "      <td>31.563976</td>\n",
       "      <td>39.128372</td>\n",
       "      <td>54.705898</td>\n",
       "      <td>123.070000</td>\n",
       "      <td>NaN</td>\n",
       "      <td>122.824875</td>\n",
       "      <td>153.534058</td>\n",
       "      <td>...</td>\n",
       "      <td>15.146550</td>\n",
       "      <td>16.332380</td>\n",
       "      <td>19.496668</td>\n",
       "      <td>23.673445</td>\n",
       "      <td>342.010010</td>\n",
       "      <td>NaN</td>\n",
       "      <td>NaN</td>\n",
       "      <td>27.212114</td>\n",
       "      <td>17.075876</td>\n",
       "      <td>NaN</td>\n",
       "    </tr>\n",
       "    <tr>\n",
       "      <th>2015-01-05</th>\n",
       "      <td>7.779033</td>\n",
       "      <td>18.688410</td>\n",
       "      <td>105.901054</td>\n",
       "      <td>30.996422</td>\n",
       "      <td>37.635422</td>\n",
       "      <td>52.697464</td>\n",
       "      <td>121.029999</td>\n",
       "      <td>NaN</td>\n",
       "      <td>123.328575</td>\n",
       "      <td>149.156952</td>\n",
       "      <td>...</td>\n",
       "      <td>14.706536</td>\n",
       "      <td>15.347519</td>\n",
       "      <td>19.379999</td>\n",
       "      <td>22.375727</td>\n",
       "      <td>336.739990</td>\n",
       "      <td>NaN</td>\n",
       "      <td>NaN</td>\n",
       "      <td>26.419527</td>\n",
       "      <td>15.869632</td>\n",
       "      <td>NaN</td>\n",
       "    </tr>\n",
       "    <tr>\n",
       "      <th>2015-01-06</th>\n",
       "      <td>7.518458</td>\n",
       "      <td>18.326311</td>\n",
       "      <td>104.350487</td>\n",
       "      <td>30.900892</td>\n",
       "      <td>37.092525</td>\n",
       "      <td>51.215412</td>\n",
       "      <td>117.360001</td>\n",
       "      <td>NaN</td>\n",
       "      <td>126.761330</td>\n",
       "      <td>146.247192</td>\n",
       "      <td>...</td>\n",
       "      <td>14.266525</td>\n",
       "      <td>14.904326</td>\n",
       "      <td>19.423332</td>\n",
       "      <td>22.061132</td>\n",
       "      <td>334.649994</td>\n",
       "      <td>NaN</td>\n",
       "      <td>NaN</td>\n",
       "      <td>25.870283</td>\n",
       "      <td>15.511528</td>\n",
       "      <td>NaN</td>\n",
       "    </tr>\n",
       "    <tr>\n",
       "      <th>2015-01-07</th>\n",
       "      <td>7.564443</td>\n",
       "      <td>18.428551</td>\n",
       "      <td>105.164330</td>\n",
       "      <td>31.732571</td>\n",
       "      <td>37.435833</td>\n",
       "      <td>52.041481</td>\n",
       "      <td>120.660004</td>\n",
       "      <td>NaN</td>\n",
       "      <td>129.094040</td>\n",
       "      <td>149.911560</td>\n",
       "      <td>...</td>\n",
       "      <td>14.334221</td>\n",
       "      <td>15.117711</td>\n",
       "      <td>19.536667</td>\n",
       "      <td>22.249887</td>\n",
       "      <td>353.239990</td>\n",
       "      <td>NaN</td>\n",
       "      <td>NaN</td>\n",
       "      <td>26.210951</td>\n",
       "      <td>15.360747</td>\n",
       "      <td>NaN</td>\n",
       "    </tr>\n",
       "    <tr>\n",
       "      <th>2015-01-08</th>\n",
       "      <td>7.679403</td>\n",
       "      <td>19.016422</td>\n",
       "      <td>108.488205</td>\n",
       "      <td>32.047241</td>\n",
       "      <td>38.345989</td>\n",
       "      <td>52.851345</td>\n",
       "      <td>123.970001</td>\n",
       "      <td>NaN</td>\n",
       "      <td>128.908478</td>\n",
       "      <td>149.735504</td>\n",
       "      <td>...</td>\n",
       "      <td>14.630381</td>\n",
       "      <td>15.642974</td>\n",
       "      <td>19.876667</td>\n",
       "      <td>22.698187</td>\n",
       "      <td>350.250000</td>\n",
       "      <td>NaN</td>\n",
       "      <td>NaN</td>\n",
       "      <td>26.669821</td>\n",
       "      <td>15.332478</td>\n",
       "      <td>NaN</td>\n",
       "    </tr>\n",
       "    <tr>\n",
       "      <th>...</th>\n",
       "      <td>...</td>\n",
       "      <td>...</td>\n",
       "      <td>...</td>\n",
       "      <td>...</td>\n",
       "      <td>...</td>\n",
       "      <td>...</td>\n",
       "      <td>...</td>\n",
       "      <td>...</td>\n",
       "      <td>...</td>\n",
       "      <td>...</td>\n",
       "      <td>...</td>\n",
       "      <td>...</td>\n",
       "      <td>...</td>\n",
       "      <td>...</td>\n",
       "      <td>...</td>\n",
       "      <td>...</td>\n",
       "      <td>...</td>\n",
       "      <td>...</td>\n",
       "      <td>...</td>\n",
       "      <td>...</td>\n",
       "      <td>...</td>\n",
       "    </tr>\n",
       "    <tr>\n",
       "      <th>2023-08-04</th>\n",
       "      <td>20.610001</td>\n",
       "      <td>83.459999</td>\n",
       "      <td>414.149994</td>\n",
       "      <td>35.320000</td>\n",
       "      <td>167.759995</td>\n",
       "      <td>80.250000</td>\n",
       "      <td>340.480011</td>\n",
       "      <td>NaN</td>\n",
       "      <td>118.290001</td>\n",
       "      <td>131.740005</td>\n",
       "      <td>...</td>\n",
       "      <td>31.299999</td>\n",
       "      <td>103.790001</td>\n",
       "      <td>76.720001</td>\n",
       "      <td>27.570000</td>\n",
       "      <td>268.920013</td>\n",
       "      <td>NaN</td>\n",
       "      <td>NaN</td>\n",
       "      <td>16.650000</td>\n",
       "      <td>8.490000</td>\n",
       "      <td>49.049999</td>\n",
       "    </tr>\n",
       "    <tr>\n",
       "      <th>2023-08-07</th>\n",
       "      <td>20.980000</td>\n",
       "      <td>84.809998</td>\n",
       "      <td>424.950012</td>\n",
       "      <td>35.590000</td>\n",
       "      <td>169.259995</td>\n",
       "      <td>80.849998</td>\n",
       "      <td>345.320007</td>\n",
       "      <td>NaN</td>\n",
       "      <td>119.660004</td>\n",
       "      <td>131.619995</td>\n",
       "      <td>...</td>\n",
       "      <td>31.879999</td>\n",
       "      <td>104.459999</td>\n",
       "      <td>78.230003</td>\n",
       "      <td>27.799999</td>\n",
       "      <td>271.230011</td>\n",
       "      <td>NaN</td>\n",
       "      <td>NaN</td>\n",
       "      <td>16.980000</td>\n",
       "      <td>8.130000</td>\n",
       "      <td>50.450001</td>\n",
       "    </tr>\n",
       "    <tr>\n",
       "      <th>2023-08-08</th>\n",
       "      <td>20.900000</td>\n",
       "      <td>84.529999</td>\n",
       "      <td>425.119995</td>\n",
       "      <td>35.650002</td>\n",
       "      <td>169.910004</td>\n",
       "      <td>79.589996</td>\n",
       "      <td>344.470001</td>\n",
       "      <td>NaN</td>\n",
       "      <td>119.000000</td>\n",
       "      <td>130.149994</td>\n",
       "      <td>...</td>\n",
       "      <td>31.270000</td>\n",
       "      <td>103.949997</td>\n",
       "      <td>76.349998</td>\n",
       "      <td>27.600000</td>\n",
       "      <td>274.140015</td>\n",
       "      <td>NaN</td>\n",
       "      <td>NaN</td>\n",
       "      <td>16.750000</td>\n",
       "      <td>8.270000</td>\n",
       "      <td>50.500000</td>\n",
       "    </tr>\n",
       "    <tr>\n",
       "      <th>2023-08-09</th>\n",
       "      <td>20.610001</td>\n",
       "      <td>84.059998</td>\n",
       "      <td>422.260010</td>\n",
       "      <td>36.110001</td>\n",
       "      <td>169.380005</td>\n",
       "      <td>79.000000</td>\n",
       "      <td>345.109985</td>\n",
       "      <td>NaN</td>\n",
       "      <td>118.800003</td>\n",
       "      <td>128.490005</td>\n",
       "      <td>...</td>\n",
       "      <td>30.860001</td>\n",
       "      <td>104.570000</td>\n",
       "      <td>77.050003</td>\n",
       "      <td>28.290001</td>\n",
       "      <td>271.290009</td>\n",
       "      <td>NaN</td>\n",
       "      <td>NaN</td>\n",
       "      <td>16.709999</td>\n",
       "      <td>8.380000</td>\n",
       "      <td>49.790001</td>\n",
       "    </tr>\n",
       "    <tr>\n",
       "      <th>2023-08-10</th>\n",
       "      <td>20.680000</td>\n",
       "      <td>83.309998</td>\n",
       "      <td>412.899994</td>\n",
       "      <td>35.330002</td>\n",
       "      <td>166.289993</td>\n",
       "      <td>79.779999</td>\n",
       "      <td>347.380005</td>\n",
       "      <td>NaN</td>\n",
       "      <td>118.839996</td>\n",
       "      <td>122.339996</td>\n",
       "      <td>...</td>\n",
       "      <td>30.934999</td>\n",
       "      <td>102.089996</td>\n",
       "      <td>76.580002</td>\n",
       "      <td>27.830000</td>\n",
       "      <td>269.059998</td>\n",
       "      <td>NaN</td>\n",
       "      <td>NaN</td>\n",
       "      <td>16.235001</td>\n",
       "      <td>8.440000</td>\n",
       "      <td>49.810001</td>\n",
       "    </tr>\n",
       "  </tbody>\n",
       "</table>\n",
       "<p>2166 rows × 683 columns</p>\n",
       "</div>"
      ],
      "text/plain": [
       "                   RF       MCHP          PH        BKR         NUE  \\\n",
       "Date                                                                  \n",
       "2015-01-02   8.054943  19.114405  110.646973  31.563976   39.128372   \n",
       "2015-01-05   7.779033  18.688410  105.901054  30.996422   37.635422   \n",
       "2015-01-06   7.518458  18.326311  104.350487  30.900892   37.092525   \n",
       "2015-01-07   7.564443  18.428551  105.164330  31.732571   37.435833   \n",
       "2015-01-08   7.679403  19.016422  108.488205  32.047241   38.345989   \n",
       "...               ...        ...         ...        ...         ...   \n",
       "2023-08-04  20.610001  83.459999  414.149994  35.320000  167.759995   \n",
       "2023-08-07  20.980000  84.809998  424.950012  35.590000  169.259995   \n",
       "2023-08-08  20.900000  84.529999  425.119995  35.650002  169.910004   \n",
       "2023-08-09  20.610001  84.059998  422.260010  36.110001  169.380005   \n",
       "2023-08-10  20.680000  83.309998  412.899994  35.330002  166.289993   \n",
       "\n",
       "                 NTRS        VRTX  PCP         SPG          RL  ...  \\\n",
       "Date                                                            ...   \n",
       "2015-01-02  54.705898  123.070000  NaN  122.824875  153.534058  ...   \n",
       "2015-01-05  52.697464  121.029999  NaN  123.328575  149.156952  ...   \n",
       "2015-01-06  51.215412  117.360001  NaN  126.761330  146.247192  ...   \n",
       "2015-01-07  52.041481  120.660004  NaN  129.094040  149.911560  ...   \n",
       "2015-01-08  52.851345  123.970001  NaN  128.908478  149.735504  ...   \n",
       "...               ...         ...  ...         ...         ...  ...   \n",
       "2023-08-04  80.250000  340.480011  NaN  118.290001  131.740005  ...   \n",
       "2023-08-07  80.849998  345.320007  NaN  119.660004  131.619995  ...   \n",
       "2023-08-08  79.589996  344.470001  NaN  119.000000  130.149994  ...   \n",
       "2023-08-09  79.000000  345.109985  NaN  118.800003  128.490005  ...   \n",
       "2023-08-10  79.779999  347.380005  NaN  118.839996  122.339996  ...   \n",
       "\n",
       "                  BAC        STLD       ACGL       CTRA        BIIB  FRC CPGX  \\\n",
       "Date                                                                            \n",
       "2015-01-02  15.146550   16.332380  19.496668  23.673445  342.010010  NaN  NaN   \n",
       "2015-01-05  14.706536   15.347519  19.379999  22.375727  336.739990  NaN  NaN   \n",
       "2015-01-06  14.266525   14.904326  19.423332  22.061132  334.649994  NaN  NaN   \n",
       "2015-01-07  14.334221   15.117711  19.536667  22.249887  353.239990  NaN  NaN   \n",
       "2015-01-08  14.630381   15.642974  19.876667  22.698187  350.250000  NaN  NaN   \n",
       "...               ...         ...        ...        ...         ...  ...  ...   \n",
       "2023-08-04  31.299999  103.790001  76.720001  27.570000  268.920013  NaN  NaN   \n",
       "2023-08-07  31.879999  104.459999  78.230003  27.799999  271.230011  NaN  NaN   \n",
       "2023-08-08  31.270000  103.949997  76.349998  27.600000  274.140015  NaN  NaN   \n",
       "2023-08-09  30.860001  104.570000  77.050003  28.290001  271.290009  NaN  NaN   \n",
       "2023-08-10  30.934999  102.089996  76.580002  27.830000  269.059998  NaN  NaN   \n",
       "\n",
       "                  IVZ        RIG        HWM  \n",
       "Date                                         \n",
       "2015-01-02  27.212114  17.075876        NaN  \n",
       "2015-01-05  26.419527  15.869632        NaN  \n",
       "2015-01-06  25.870283  15.511528        NaN  \n",
       "2015-01-07  26.210951  15.360747        NaN  \n",
       "2015-01-08  26.669821  15.332478        NaN  \n",
       "...               ...        ...        ...  \n",
       "2023-08-04  16.650000   8.490000  49.049999  \n",
       "2023-08-07  16.980000   8.130000  50.450001  \n",
       "2023-08-08  16.750000   8.270000  50.500000  \n",
       "2023-08-09  16.709999   8.380000  49.790001  \n",
       "2023-08-10  16.235001   8.440000  49.810001  \n",
       "\n",
       "[2166 rows x 683 columns]"
      ]
     },
     "execution_count": 65,
     "metadata": {},
     "output_type": "execute_result"
    }
   ],
   "source": [
    "# Dataframe prepared and ready for analysis, with each column as a different ticker showing adjusted close price. \n",
    "# Index is set as dates.\n",
    "df"
   ]
  },
  {
   "cell_type": "markdown",
   "id": "c9822cec",
   "metadata": {},
   "source": [
    "## More Data Cleaning/Modifying\n",
    "### Modifying Dataframe For Removed/Added Stocks"
   ]
  },
  {
   "cell_type": "code",
   "execution_count": 69,
   "id": "157899ec",
   "metadata": {},
   "outputs": [],
   "source": [
    "# Setting index to datetime\n",
    "df.index = pd.to_datetime(df.index)"
   ]
  },
  {
   "cell_type": "code",
   "execution_count": 77,
   "id": "f193e31d",
   "metadata": {},
   "outputs": [],
   "source": [
    "# Remove quotations around any ticker names as I had set this when importing from SQL.\n",
    "df.columns = df.columns.str.replace('\\\"', '') "
   ]
  },
  {
   "cell_type": "code",
   "execution_count": 78,
   "id": "777201f9",
   "metadata": {},
   "outputs": [],
   "source": [
    "# Creating function to remove stock prices for dates after being removed from index.\n",
    "def filter_remove(ticker):\n",
    "    df[ticker] = df[df[ticker].index <= removed_tickers[removed_tickers['Ticker'] == ticker].index[0]][ticker]"
   ]
  },
  {
   "cell_type": "code",
   "execution_count": 79,
   "id": "026669f3",
   "metadata": {},
   "outputs": [],
   "source": [
    "# Creating function to remove stock prices for dates before being added to index.\n",
    "def filter_add(ticker):\n",
    "    df[ticker] = df[df[ticker].index > SPY2015[SPY2015['Symbol'] == ticker]['Date added'].values[0]][ticker]"
   ]
  },
  {
   "cell_type": "code",
   "execution_count": 80,
   "id": "196fd2fc",
   "metadata": {},
   "outputs": [],
   "source": [
    "# Running both functions on removed tickers list and added tickers list.\n",
    "for ticker in removed_tickers['Ticker']:\n",
    "    filter_remove(ticker)\n",
    "for ticker in SPY2015['Symbol']:\n",
    "    filter_add(ticker)"
   ]
  },
  {
   "cell_type": "code",
   "execution_count": 81,
   "id": "c821594b",
   "metadata": {},
   "outputs": [],
   "source": [
    "# Change column types to float.\n",
    "df = df.astype('float')"
   ]
  },
  {
   "cell_type": "code",
   "execution_count": 82,
   "id": "abe77c11",
   "metadata": {},
   "outputs": [],
   "source": [
    "# Drop columns that have all null values.\n",
    "df = df.dropna(axis=1, how='all')"
   ]
  },
  {
   "cell_type": "markdown",
   "id": "ad75ea82",
   "metadata": {},
   "source": [
    "## Analysis\n",
    "<hr style=\"border:1px solid gray\">\n",
    "\n",
    "##### The two criteria we will use for choosing our five stocks to hold in a portfolio will be based on the Sharpe ratio and the mean expected daily returns.\n",
    "\n",
    "We will first choose five stocks based on the highest Sharpe ratios, and then choose five stocks based on the highest mean daily expected returns. We will then compare this to the Sharpe ratio, mean daily expected returns, and cumulative returns between the two portfolios and the S&P 500 index.\n",
    "\n",
    "We first need to find out which criteria produces the best potential results. In order to do this, we will select stocks based on the period from 2015-01-01 to 2019-12-31 (5-year period). We will then see how these five stocks performed from the period of 2020-01-01 until now. We then check whether stocks chosen based on Sharpe ratio or mean expected daily returns performed better in a portfolio, and how they compared to the index in the same period. \n",
    "\n",
    "Whichever criteria performed best, we will then use that same criteria to select another five stocks for a new portfolio, but this time based on the period from 2019-01-01 until now. Of course, the actual performance of the future will not be known, but based on the criteria we tested, this portfolio will potentially outperform the index in the following years based on both return and risk. \n",
    "\n",
    "#### Note on Sharpe ratio:\n",
    "For the Sharpe ratio, a risk-free rate is included in the calculation. For simplication, we have not included the risk-free rate in our calculations here as it does not affect our results. However, if I were to include it, I would use the U.S. 10-year treasury rate."
   ]
  },
  {
   "cell_type": "code",
   "execution_count": 84,
   "id": "db5bba43",
   "metadata": {},
   "outputs": [],
   "source": [
    "# Filtering the dataset on date before 2020-01-01 to calculate criteria for initial stock selection.\n",
    "df_main = df[df.index < '2020-01-01']"
   ]
  },
  {
   "cell_type": "code",
   "execution_count": 85,
   "id": "e4c339c8",
   "metadata": {},
   "outputs": [],
   "source": [
    "# Filtering the dataset for test to see how chosen stocks actually performed for period after 2020-01-01.\n",
    "df_test = df[df.index >= '2020-01-01']"
   ]
  },
  {
   "cell_type": "code",
   "execution_count": 86,
   "id": "9ada18a1",
   "metadata": {},
   "outputs": [],
   "source": [
    "# Changing values to show percentage changes.\n",
    "df_main_returns = df_main.pct_change()"
   ]
  },
  {
   "cell_type": "markdown",
   "id": "273bc518",
   "metadata": {},
   "source": [
    "### Stock Selection Based On Sharpe Ratio"
   ]
  },
  {
   "cell_type": "code",
   "execution_count": 87,
   "id": "a796b918",
   "metadata": {},
   "outputs": [
    {
     "data": {
      "text/plain": [
       "LYV     0.384289\n",
       "LVS     0.258301\n",
       "CDW     0.248122\n",
       "STE     0.180690\n",
       "ZBRA    0.177726\n",
       "dtype: float64"
      ]
     },
     "execution_count": 87,
     "metadata": {},
     "output_type": "execute_result"
    }
   ],
   "source": [
    "# Calculated Sharpe ratios and displaying the top five stocks with highest Sharpe ratios.\n",
    "(df_main_returns.mean() / df_main_returns.std()).nlargest(5)"
   ]
  },
  {
   "cell_type": "code",
   "execution_count": 88,
   "id": "c760c71e",
   "metadata": {},
   "outputs": [],
   "source": [
    "# Stock selection based on Sharpe ratio.\n",
    "df_main_sharpe = ['LYV', 'LVS', 'CDW', 'STE', 'ZBRA']"
   ]
  },
  {
   "cell_type": "markdown",
   "id": "64c0a2c6",
   "metadata": {},
   "source": [
    "### Stock Selection Based On Mean Daily Expected Returns"
   ]
  },
  {
   "cell_type": "code",
   "execution_count": 89,
   "id": "2f98ecd7",
   "metadata": {},
   "outputs": [
    {
     "data": {
      "text/plain": [
       "LVS     0.003787\n",
       "LYV     0.003055\n",
       "CDW     0.002836\n",
       "AMD     0.002386\n",
       "NVDA    0.002344\n",
       "dtype: float64"
      ]
     },
     "execution_count": 89,
     "metadata": {},
     "output_type": "execute_result"
    }
   ],
   "source": [
    "# Calculated mean daily expected returns and displaying top five stocks with highest mean daily expected return.\n",
    "df_main_returns.mean().nlargest(5)"
   ]
  },
  {
   "cell_type": "code",
   "execution_count": 90,
   "id": "5bd17f24",
   "metadata": {},
   "outputs": [],
   "source": [
    "# Stock selection based on mean daily expected return. \n",
    "df_main_mean = ['LVS', 'LYV', 'CDW', 'AMD', 'NVDA']"
   ]
  },
  {
   "cell_type": "markdown",
   "id": "7f20b553",
   "metadata": {},
   "source": [
    "### Calculating Performance From Jan. 1, 2020 Onwards\n",
    "\n",
    "We will calculate each of our five stock selection as holdings in seperate portfolios, giving equal weighting to all five stocks. We will have one portfolio with the five stocks selected based on Sharpe ratio, and another portfolio with the five stocks selected based on mean daily expected returns. We will calculate the portfolios' mean daily expected return, daily standard deviation, Sharpe ratio, and cumulative returns, and will compare these with the S&P 500. \n",
    "\n",
    "### S&P 500 Metrics Calculations"
   ]
  },
  {
   "cell_type": "code",
   "execution_count": 92,
   "id": "f84685c4",
   "metadata": {},
   "outputs": [
    {
     "name": "stdout",
     "output_type": "stream",
     "text": [
      "[*********************100%***********************]  1 of 1 completed\n"
     ]
    }
   ],
   "source": [
    "# Import S&P 500 stock data\n",
    "SPY_main = yf.download('^GSPC', start='2015-01-01')"
   ]
  },
  {
   "cell_type": "code",
   "execution_count": 97,
   "id": "fceea5b8",
   "metadata": {},
   "outputs": [],
   "source": [
    "# Changing values to show percentage changes.\n",
    "SPY_main_returns = SPY_main[SPY_main.index >= '2020-01-01']['Adj Close'].pct_change()"
   ]
  },
  {
   "cell_type": "code",
   "execution_count": 98,
   "id": "8b653b66",
   "metadata": {},
   "outputs": [
    {
     "data": {
      "text/plain": [
       "0.000462336044480167"
      ]
     },
     "execution_count": 98,
     "metadata": {},
     "output_type": "execute_result"
    }
   ],
   "source": [
    "# S&P 500 mean daily expected returns.\n",
    "SPY_main_returns.mean()"
   ]
  },
  {
   "cell_type": "code",
   "execution_count": 99,
   "id": "78cc4b17",
   "metadata": {},
   "outputs": [
    {
     "data": {
      "text/plain": [
       "0.015051596673550478"
      ]
     },
     "execution_count": 99,
     "metadata": {},
     "output_type": "execute_result"
    }
   ],
   "source": [
    "# S&P 500 daily standard deviation.\n",
    "SPY_main_returns.std()"
   ]
  },
  {
   "cell_type": "code",
   "execution_count": 101,
   "id": "3e5f902f",
   "metadata": {},
   "outputs": [
    {
     "data": {
      "text/plain": [
       "0.030716744177221422"
      ]
     },
     "execution_count": 101,
     "metadata": {},
     "output_type": "execute_result"
    }
   ],
   "source": [
    "# S&P 500 Sharpe ratio.\n",
    "SPY_main_returns.mean() / SPY_main_returns.std()"
   ]
  },
  {
   "cell_type": "code",
   "execution_count": 102,
   "id": "03eeebee",
   "metadata": {},
   "outputs": [
    {
     "data": {
      "text/plain": [
       "0.3713675666512859"
      ]
     },
     "execution_count": 102,
     "metadata": {},
     "output_type": "execute_result"
    }
   ],
   "source": [
    "# S&P 500 cumulative return.\n",
    "((SPY_main_returns + 1).cumprod() - 1)[-2]"
   ]
  },
  {
   "cell_type": "markdown",
   "id": "7e5cdb57",
   "metadata": {},
   "source": [
    "### Sharpe Ratio Portfolio Metrics Calculations\n",
    "\n",
    "##### Note: We will be calling the portfolio with stocks selected based on Sharpe ratio as 'Sharpe Portfolio' and portfolio with stocks selected based on mean daily expected returns as 'Mean Portfolio'."
   ]
  },
  {
   "cell_type": "code",
   "execution_count": 107,
   "id": "ea4bed5d",
   "metadata": {},
   "outputs": [],
   "source": [
    "# Subsetting date after 2020-01-01 on dataset for testing selected stocks.\n",
    "df_test_sharpe = df[df.index >= '2020-01-01'][df_main_sharpe]"
   ]
  },
  {
   "cell_type": "code",
   "execution_count": 108,
   "id": "46dbc267",
   "metadata": {},
   "outputs": [
    {
     "data": {
      "text/plain": [
       "array([0.2, 0.2, 0.2, 0.2, 0.2])"
      ]
     },
     "execution_count": 108,
     "metadata": {},
     "output_type": "execute_result"
    }
   ],
   "source": [
    "# Calculating weights for each stock in portfolio. As we are doing equal weighting for five stocks, it is 20% weight on each.\n",
    "weights = np.ones(len(df_test_sharpe.columns))\\\n",
    "            /(np.ones(len(df_test_sharpe.columns))).sum()\n",
    "weights"
   ]
  },
  {
   "cell_type": "code",
   "execution_count": 109,
   "id": "40bbf9c1",
   "metadata": {},
   "outputs": [],
   "source": [
    "# Change values to percentage changes.\n",
    "df_test_sharpe = df_test_sharpe.pct_change()"
   ]
  },
  {
   "cell_type": "code",
   "execution_count": 110,
   "id": "95713228",
   "metadata": {},
   "outputs": [
    {
     "data": {
      "text/plain": [
       "0.0005455824289109516"
      ]
     },
     "execution_count": 110,
     "metadata": {},
     "output_type": "execute_result"
    }
   ],
   "source": [
    "# Sharpe portfolio mean daily expected return.\n",
    "(W * df_test_sharpe.mean()).sum() "
   ]
  },
  {
   "cell_type": "code",
   "execution_count": 111,
   "id": "6e373353",
   "metadata": {},
   "outputs": [
    {
     "data": {
      "text/plain": [
       "0.020380758059000307"
      ]
     },
     "execution_count": 111,
     "metadata": {},
     "output_type": "execute_result"
    }
   ],
   "source": [
    "# Sharpe portfolio daily standard deviation.\n",
    "(W.dot(df_test_sharpe.cov().dot(W)))**(1/2)"
   ]
  },
  {
   "cell_type": "code",
   "execution_count": 112,
   "id": "c80c9da6",
   "metadata": {},
   "outputs": [
    {
     "data": {
      "text/plain": [
       "0.02676948655842652"
      ]
     },
     "execution_count": 112,
     "metadata": {},
     "output_type": "execute_result"
    }
   ],
   "source": [
    "# Sharpe portfolio Sharpe ratio\n",
    "df_test_sharpe.mean().dot(W) \\\n",
    "        / (W.dot(df_test_sharpe.cov().dot(W)))**(1/2)"
   ]
  },
  {
   "cell_type": "code",
   "execution_count": 113,
   "id": "418aaba9",
   "metadata": {},
   "outputs": [
    {
     "data": {
      "text/plain": [
       "Date\n",
       "2023-08-10    0.357367\n",
       "dtype: float64"
      ]
     },
     "execution_count": 113,
     "metadata": {},
     "output_type": "execute_result"
    }
   ],
   "source": [
    "# Sharpe portfolio cumulative returns\n",
    "((df_test_sharpe.mean(axis=1) + 1).cumprod() - 1).tail(1)"
   ]
  },
  {
   "cell_type": "markdown",
   "id": "ca76ae7a",
   "metadata": {},
   "source": [
    "### Mean Portfolio Metrics Calculations"
   ]
  },
  {
   "cell_type": "code",
   "execution_count": 114,
   "id": "f3e4027a",
   "metadata": {},
   "outputs": [],
   "source": [
    "# Subsetting date after 2020-01-01 on dataset for testing selected stocks.\n",
    "df_test_mean = df[df.index >= '2020-01-01'][df_main_mean]"
   ]
  },
  {
   "cell_type": "code",
   "execution_count": 115,
   "id": "265fc5bb",
   "metadata": {},
   "outputs": [],
   "source": [
    "# Change values to percentage changes.\n",
    "df_test_mean = df_test_mean.pct_change()"
   ]
  },
  {
   "cell_type": "code",
   "execution_count": 116,
   "id": "8bde4b46",
   "metadata": {},
   "outputs": [
    {
     "data": {
      "text/plain": [
       "0.0011913644485392438"
      ]
     },
     "execution_count": 116,
     "metadata": {},
     "output_type": "execute_result"
    }
   ],
   "source": [
    "# Mean portfolio mean daily expected return.\n",
    "(W * df_test_mean.mean()).sum() "
   ]
  },
  {
   "cell_type": "code",
   "execution_count": 117,
   "id": "9fad9a1a",
   "metadata": {},
   "outputs": [
    {
     "data": {
      "text/plain": [
       "0.02393379464733596"
      ]
     },
     "execution_count": 117,
     "metadata": {},
     "output_type": "execute_result"
    }
   ],
   "source": [
    "# Mean portfolio daily standard deviation.\n",
    "(W.dot(df_test_mean.cov().dot(W)))**(1/2)"
   ]
  },
  {
   "cell_type": "code",
   "execution_count": 118,
   "id": "ab29b2a9",
   "metadata": {},
   "outputs": [
    {
     "data": {
      "text/plain": [
       "0.049777499393388214"
      ]
     },
     "execution_count": 118,
     "metadata": {},
     "output_type": "execute_result"
    }
   ],
   "source": [
    "# Mean portfolio Sharpe ratio.\n",
    "df_test_mean.mean().dot(W) \\\n",
    "        / (W.dot(df_test_mean.cov().dot(W)))**(1/2)"
   ]
  },
  {
   "cell_type": "code",
   "execution_count": 119,
   "id": "05d525a6",
   "metadata": {},
   "outputs": [
    {
     "data": {
      "text/plain": [
       "Date\n",
       "2023-08-10    1.26844\n",
       "dtype: float64"
      ]
     },
     "execution_count": 119,
     "metadata": {},
     "output_type": "execute_result"
    }
   ],
   "source": [
    "# Mean portfolio cumulative returns\n",
    "((df_test_mean.mean(axis=1) + 1).cumprod() - 1).tail(1)"
   ]
  },
  {
   "cell_type": "markdown",
   "id": "8b631a4d",
   "metadata": {},
   "source": [
    "### Result Comparisons"
   ]
  },
  {
   "cell_type": "code",
   "execution_count": 124,
   "id": "a712228b",
   "metadata": {},
   "outputs": [],
   "source": [
    "# Creating dataframe to display summary of results\n",
    "data = {'S&P 500': [SPY_main_returns.mean(), SPY_main_returns.std(), SPY_main_returns.mean() / SPY_main_returns.std(),\\\n",
    "                ((SPY_main_returns + 1).cumprod() - 1)[-2]],\n",
    "        'Sharpe Portfolio': [(W * df_test_sharpe.mean()).sum(),\\\n",
    "                            (W.dot(df_test_sharpe.cov().dot(W)))**(1/2),\\\n",
    "                             df_test_sharpe.mean().dot(W) / (W.dot(df_test_sharpe.cov().dot(W)))**(1/2),\\\n",
    "                             ((df_test_sharpe.mean(axis=1) + 1).cumprod() - 1).tail(1)[0]], \n",
    "        'Mean Portfolio': [(W * df_test_mean.mean()).sum(),\\\n",
    "                            (W.dot(df_test_mean.cov().dot(W)))**(1/2),\\\n",
    "                             df_test_mean.mean().dot(W) / (W.dot(df_test_mean.cov().dot(W)))**(1/2),\\\n",
    "                             ((df_test_mean.mean(axis=1) + 1).cumprod() - 1).tail(1)[0]]}\n",
    "df_compare = pd.DataFrame(data, index=['Expected Daily Return', 'Standard Deviation', 'Sharpe Ratio', 'Cumulative Return'])"
   ]
  },
  {
   "cell_type": "code",
   "execution_count": 125,
   "id": "7ce44353",
   "metadata": {},
   "outputs": [
    {
     "data": {
      "text/html": [
       "<div>\n",
       "<style scoped>\n",
       "    .dataframe tbody tr th:only-of-type {\n",
       "        vertical-align: middle;\n",
       "    }\n",
       "\n",
       "    .dataframe tbody tr th {\n",
       "        vertical-align: top;\n",
       "    }\n",
       "\n",
       "    .dataframe thead th {\n",
       "        text-align: right;\n",
       "    }\n",
       "</style>\n",
       "<table border=\"1\" class=\"dataframe\">\n",
       "  <thead>\n",
       "    <tr style=\"text-align: right;\">\n",
       "      <th></th>\n",
       "      <th>S&amp;P 500</th>\n",
       "      <th>Sharpe Portfolio</th>\n",
       "      <th>Mean Portfolio</th>\n",
       "    </tr>\n",
       "  </thead>\n",
       "  <tbody>\n",
       "    <tr>\n",
       "      <th>Expected Daily Return</th>\n",
       "      <td>0.000462</td>\n",
       "      <td>0.000546</td>\n",
       "      <td>0.001191</td>\n",
       "    </tr>\n",
       "    <tr>\n",
       "      <th>Standard Deviation</th>\n",
       "      <td>0.015052</td>\n",
       "      <td>0.020381</td>\n",
       "      <td>0.023934</td>\n",
       "    </tr>\n",
       "    <tr>\n",
       "      <th>Sharpe Ratio</th>\n",
       "      <td>0.030717</td>\n",
       "      <td>0.026769</td>\n",
       "      <td>0.049777</td>\n",
       "    </tr>\n",
       "    <tr>\n",
       "      <th>Cumulative Return</th>\n",
       "      <td>0.371368</td>\n",
       "      <td>0.357367</td>\n",
       "      <td>1.268440</td>\n",
       "    </tr>\n",
       "  </tbody>\n",
       "</table>\n",
       "</div>"
      ],
      "text/plain": [
       "                        S&P 500  Sharpe Portfolio  Mean Portfolio\n",
       "Expected Daily Return  0.000462          0.000546        0.001191\n",
       "Standard Deviation     0.015052          0.020381        0.023934\n",
       "Sharpe Ratio           0.030717          0.026769        0.049777\n",
       "Cumulative Return      0.371368          0.357367        1.268440"
      ]
     },
     "execution_count": 125,
     "metadata": {},
     "output_type": "execute_result"
    }
   ],
   "source": [
    "# Display comparison dateframe\n",
    "df_compare"
   ]
  },
  {
   "cell_type": "markdown",
   "id": "d95c9717",
   "metadata": {},
   "source": [
    "As we can see with the summary results, the 'Mean Portfolio' that held companies LVS, LYV, CDW, AMD, and NVDA greatly outperformed both the S&P 500 and Sharpe Portfolio. Although it had the highest standard deviation, it had the highest mean daily expected return and highest cumulative return. When comparing the 'Mean Portfolio' return with its risk, it had the highest Sharpe ratio as well. Therefore, selecting five stocks to hold in a portfolio based on mean daily expected return seems to be the best option.\n",
    "\n",
    "### Visualizing Cumulative Returns\n",
    "\n",
    "Just to get a visual, let's plot the cumulative returns of all three options."
   ]
  },
  {
   "cell_type": "code",
   "execution_count": 126,
   "id": "4f5b7fcd",
   "metadata": {},
   "outputs": [],
   "source": [
    "# S&P 500 cumulative return.\n",
    "c_df = ((SPY_main_returns + 1).cumprod() - 1)"
   ]
  },
  {
   "cell_type": "code",
   "execution_count": 127,
   "id": "0de6d5ff",
   "metadata": {},
   "outputs": [],
   "source": [
    "# Sharpe portfolio cumulative returns.\n",
    "c_df2 = ((df_test_sharpe.mean(axis=1) + 1).cumprod() - 1)"
   ]
  },
  {
   "cell_type": "code",
   "execution_count": 128,
   "id": "42708e3a",
   "metadata": {},
   "outputs": [],
   "source": [
    "# Mean portfolio cumulative returns.\n",
    "c_df3 = ((df_test_mean.mean(axis=1) + 1).cumprod() - 1)"
   ]
  },
  {
   "cell_type": "code",
   "execution_count": 131,
   "id": "25fafe3f",
   "metadata": {},
   "outputs": [],
   "source": [
    "# Combining all three dataframes.\n",
    "c_df4 = pd.concat([c_df, c_df2, c_df3], axis=1)"
   ]
  },
  {
   "cell_type": "code",
   "execution_count": 132,
   "id": "a344e288",
   "metadata": {},
   "outputs": [],
   "source": [
    "# Renaming columns on combined dataframe.\n",
    "c_df4.columns = ['S&P 500', 'Sharpe Portfolio', 'Mean Portfolio']"
   ]
  },
  {
   "cell_type": "code",
   "execution_count": 146,
   "id": "43a02eba",
   "metadata": {},
   "outputs": [
    {
     "data": {
      "text/plain": [
       "Text(0.5, 1.0, 'Cumulative Returns')"
      ]
     },
     "execution_count": 146,
     "metadata": {},
     "output_type": "execute_result"
    },
    {
     "data": {
      "image/png": "[encoded data removed]",
      "text/plain": [
       "<Figure size 640x480 with 1 Axes>"
      ]
     },
     "metadata": {},
     "output_type": "display_data"
    }
   ],
   "source": [
    "# Lineplot.\n",
    "c_df4.plot()\n",
    "plt.title('Cumulative Returns')"
   ]
  },
  {
   "cell_type": "markdown",
   "id": "2fda9a0f",
   "metadata": {},
   "source": [
    "### Comparing With Individual Stocks\n",
    "\n",
    "One more thing I want to compare the portfolios and index with are the mean daily expected returns, standard deviations, Sharpe ratios, and cumulative returns of the individual stocks. I want to do this because I want to see if holding the five stocks in a portfolio with equal weighting would be better than holding each stock individually."
   ]
  },
  {
   "cell_type": "code",
   "execution_count": 156,
   "id": "1e87e5a5",
   "metadata": {},
   "outputs": [],
   "source": [
    "# All the stocks selected for both portfolios. There is overlap with LVS, LYV, and CDW.\n",
    "final_tickers = ['LVS', 'LYV', 'CDW', 'AMD', 'NVDA', 'STE', 'ZBRA']"
   ]
  },
  {
   "cell_type": "code",
   "execution_count": 157,
   "id": "90aecf0a",
   "metadata": {},
   "outputs": [],
   "source": [
    "# Subsetting date for after 2020-01-01 with only selected stocks.\n",
    "df_test_stocks = df[df.index >= '2020-01-01'][['LYV', 'LVS', 'CDW', 'STE', 'ZBRA', 'AMD', 'NVDA']]"
   ]
  },
  {
   "cell_type": "code",
   "execution_count": 158,
   "id": "b8d108f1",
   "metadata": {},
   "outputs": [],
   "source": [
    "# Changing values to percentage changes.\n",
    "df_test_stocks = df_test_stocks.pct_change()"
   ]
  },
  {
   "cell_type": "code",
   "execution_count": 159,
   "id": "7fa83b53",
   "metadata": {},
   "outputs": [
    {
     "data": {
      "text/plain": [
       "LYV     0.000741\n",
       "LVS     0.000287\n",
       "CDW     0.000673\n",
       "STE     0.000677\n",
       "ZBRA    0.000350\n",
       "AMD     0.001482\n",
       "NVDA    0.002774\n",
       "dtype: float64"
      ]
     },
     "execution_count": 159,
     "metadata": {},
     "output_type": "execute_result"
    }
   ],
   "source": [
    "# Stocks mean daily expected returns.\n",
    "df_test_stocks.mean()"
   ]
  },
  {
   "cell_type": "code",
   "execution_count": 160,
   "id": "4a26582d",
   "metadata": {},
   "outputs": [
    {
     "data": {
      "text/plain": [
       "LYV     0.032601\n",
       "LVS     0.031405\n",
       "CDW     0.022303\n",
       "STE     0.019799\n",
       "ZBRA    0.026906\n",
       "AMD     0.034421\n",
       "NVDA    0.035154\n",
       "dtype: float64"
      ]
     },
     "execution_count": 160,
     "metadata": {},
     "output_type": "execute_result"
    }
   ],
   "source": [
    "# Stocks daily standard deviation.\n",
    "df_test_stocks.std()"
   ]
  },
  {
   "cell_type": "code",
   "execution_count": 161,
   "id": "73d36322",
   "metadata": {},
   "outputs": [
    {
     "data": {
      "text/plain": [
       "LYV     0.022729\n",
       "LVS     0.009125\n",
       "CDW     0.030182\n",
       "STE     0.034196\n",
       "ZBRA    0.013016\n",
       "AMD     0.043048\n",
       "NVDA    0.078920\n",
       "dtype: float64"
      ]
     },
     "execution_count": 161,
     "metadata": {},
     "output_type": "execute_result"
    }
   ],
   "source": [
    "# Stocks Sharpe ratio.\n",
    "df_test_stocks.mean() / df_test_stocks.std()"
   ]
  },
  {
   "cell_type": "code",
   "execution_count": 162,
   "id": "33de4ffa",
   "metadata": {},
   "outputs": [],
   "source": [
    "# Stocks cumulative return.\n",
    "df_stocks = (df_test_stocks + 1).cumprod() - 1"
   ]
  },
  {
   "cell_type": "code",
   "execution_count": 163,
   "id": "3f050670",
   "metadata": {},
   "outputs": [
    {
     "data": {
      "text/html": [
       "<div>\n",
       "<style scoped>\n",
       "    .dataframe tbody tr th:only-of-type {\n",
       "        vertical-align: middle;\n",
       "    }\n",
       "\n",
       "    .dataframe tbody tr th {\n",
       "        vertical-align: top;\n",
       "    }\n",
       "\n",
       "    .dataframe thead th {\n",
       "        text-align: right;\n",
       "    }\n",
       "</style>\n",
       "<table border=\"1\" class=\"dataframe\">\n",
       "  <thead>\n",
       "    <tr style=\"text-align: right;\">\n",
       "      <th></th>\n",
       "      <th>LYV</th>\n",
       "      <th>LVS</th>\n",
       "      <th>CDW</th>\n",
       "      <th>STE</th>\n",
       "      <th>ZBRA</th>\n",
       "      <th>AMD</th>\n",
       "      <th>NVDA</th>\n",
       "    </tr>\n",
       "    <tr>\n",
       "      <th>Date</th>\n",
       "      <th></th>\n",
       "      <th></th>\n",
       "      <th></th>\n",
       "      <th></th>\n",
       "      <th></th>\n",
       "      <th></th>\n",
       "      <th></th>\n",
       "    </tr>\n",
       "  </thead>\n",
       "  <tbody>\n",
       "    <tr>\n",
       "      <th>2023-08-10</th>\n",
       "      <td>0.210043</td>\n",
       "      <td>-0.170517</td>\n",
       "      <td>0.466897</td>\n",
       "      <td>0.545583</td>\n",
       "      <td>-0.014355</td>\n",
       "      <td>1.24501</td>\n",
       "      <td>6.093725</td>\n",
       "    </tr>\n",
       "  </tbody>\n",
       "</table>\n",
       "</div>"
      ],
      "text/plain": [
       "                 LYV       LVS       CDW       STE      ZBRA      AMD  \\\n",
       "Date                                                                    \n",
       "2023-08-10  0.210043 -0.170517  0.466897  0.545583 -0.014355  1.24501   \n",
       "\n",
       "                NVDA  \n",
       "Date                  \n",
       "2023-08-10  6.093725  "
      ]
     },
     "execution_count": 163,
     "metadata": {},
     "output_type": "execute_result"
    }
   ],
   "source": [
    "# Showing last row with latest cumulative return.\n",
    "df_stocks.tail(1)"
   ]
  },
  {
   "cell_type": "code",
   "execution_count": 165,
   "id": "73761542",
   "metadata": {},
   "outputs": [],
   "source": [
    "# Creating a function to create a dataframe with all the calculated metrics for selected stocks.\n",
    "def stock_connect(tickers):\n",
    "    \"\"\"\n",
    "    Combines mean expected daily return, standard deviation, Sharpe ratio, and cumulative return\n",
    "    into one dataframe for a list of tickers.\n",
    "    \"\"\"\n",
    "    df_ = pd.DataFrame()\n",
    "    for ticker in tickers:\n",
    "        data = {ticker: [df_test_stocks[ticker].mean(), df_test_stocks[ticker].std(), \\\n",
    "                    (df_test_stocks[ticker].mean() / df_test_stocks[ticker].std()), \\\n",
    "                    ((df_test_stocks + 1).cumprod() - 1)[ticker].tail(1)[0]]}\n",
    "        df_ = pd.concat([df_, pd.DataFrame(data, index=['Expected Daily Return', 'Standard Deviation',\\\n",
    "                                                        'Sharpe Ratio', 'Cumulative Return'])], axis=1)\n",
    "    return df_"
   ]
  },
  {
   "cell_type": "code",
   "execution_count": 166,
   "id": "c88e0062",
   "metadata": {},
   "outputs": [],
   "source": [
    "# Running function and storing the resulting dataframe.\n",
    "df_stocks_final = stock_connect(final_tickers)"
   ]
  },
  {
   "cell_type": "code",
   "execution_count": 167,
   "id": "30ae77ca",
   "metadata": {},
   "outputs": [
    {
     "data": {
      "text/html": [
       "<div>\n",
       "<style scoped>\n",
       "    .dataframe tbody tr th:only-of-type {\n",
       "        vertical-align: middle;\n",
       "    }\n",
       "\n",
       "    .dataframe tbody tr th {\n",
       "        vertical-align: top;\n",
       "    }\n",
       "\n",
       "    .dataframe thead th {\n",
       "        text-align: right;\n",
       "    }\n",
       "</style>\n",
       "<table border=\"1\" class=\"dataframe\">\n",
       "  <thead>\n",
       "    <tr style=\"text-align: right;\">\n",
       "      <th></th>\n",
       "      <th>SPY</th>\n",
       "      <th>Sharpe Portfolio</th>\n",
       "      <th>Mean Portfolio</th>\n",
       "      <th>LVS</th>\n",
       "      <th>LYV</th>\n",
       "      <th>CDW</th>\n",
       "      <th>AMD</th>\n",
       "      <th>NVDA</th>\n",
       "      <th>STE</th>\n",
       "      <th>ZBRA</th>\n",
       "    </tr>\n",
       "  </thead>\n",
       "  <tbody>\n",
       "    <tr>\n",
       "      <th>Expected Daily Return</th>\n",
       "      <td>0.000462</td>\n",
       "      <td>0.000546</td>\n",
       "      <td>0.001191</td>\n",
       "      <td>0.000287</td>\n",
       "      <td>0.000741</td>\n",
       "      <td>0.000673</td>\n",
       "      <td>0.001482</td>\n",
       "      <td>0.002774</td>\n",
       "      <td>0.000677</td>\n",
       "      <td>0.000350</td>\n",
       "    </tr>\n",
       "    <tr>\n",
       "      <th>Standard Deviation</th>\n",
       "      <td>0.015052</td>\n",
       "      <td>0.020381</td>\n",
       "      <td>0.023934</td>\n",
       "      <td>0.031405</td>\n",
       "      <td>0.032601</td>\n",
       "      <td>0.022303</td>\n",
       "      <td>0.034421</td>\n",
       "      <td>0.035154</td>\n",
       "      <td>0.019799</td>\n",
       "      <td>0.026906</td>\n",
       "    </tr>\n",
       "    <tr>\n",
       "      <th>Sharpe Ratio</th>\n",
       "      <td>0.030717</td>\n",
       "      <td>0.026769</td>\n",
       "      <td>0.049777</td>\n",
       "      <td>0.009125</td>\n",
       "      <td>0.022729</td>\n",
       "      <td>0.030182</td>\n",
       "      <td>0.043048</td>\n",
       "      <td>0.078920</td>\n",
       "      <td>0.034196</td>\n",
       "      <td>0.013016</td>\n",
       "    </tr>\n",
       "    <tr>\n",
       "      <th>Cumulative Return</th>\n",
       "      <td>0.371368</td>\n",
       "      <td>0.357367</td>\n",
       "      <td>1.268440</td>\n",
       "      <td>-0.170517</td>\n",
       "      <td>0.210043</td>\n",
       "      <td>0.466897</td>\n",
       "      <td>1.245010</td>\n",
       "      <td>6.093725</td>\n",
       "      <td>0.545583</td>\n",
       "      <td>-0.014355</td>\n",
       "    </tr>\n",
       "  </tbody>\n",
       "</table>\n",
       "</div>"
      ],
      "text/plain": [
       "                            SPY  Sharpe Portfolio  Mean Portfolio       LVS  \\\n",
       "Expected Daily Return  0.000462          0.000546        0.001191  0.000287   \n",
       "Standard Deviation     0.015052          0.020381        0.023934  0.031405   \n",
       "Sharpe Ratio           0.030717          0.026769        0.049777  0.009125   \n",
       "Cumulative Return      0.371368          0.357367        1.268440 -0.170517   \n",
       "\n",
       "                            LYV       CDW       AMD      NVDA       STE  \\\n",
       "Expected Daily Return  0.000741  0.000673  0.001482  0.002774  0.000677   \n",
       "Standard Deviation     0.032601  0.022303  0.034421  0.035154  0.019799   \n",
       "Sharpe Ratio           0.022729  0.030182  0.043048  0.078920  0.034196   \n",
       "Cumulative Return      0.210043  0.466897  1.245010  6.093725  0.545583   \n",
       "\n",
       "                           ZBRA  \n",
       "Expected Daily Return  0.000350  \n",
       "Standard Deviation     0.026906  \n",
       "Sharpe Ratio           0.013016  \n",
       "Cumulative Return     -0.014355  "
      ]
     },
     "execution_count": 167,
     "metadata": {},
     "output_type": "execute_result"
    }
   ],
   "source": [
    "# Combining stocks dataframe with portfolios/index to get one dataframe for easy comparison.\n",
    "pd.concat([prac_df, df_stocks_final], axis=1)"
   ]
  },
  {
   "cell_type": "markdown",
   "id": "5479b643",
   "metadata": {},
   "source": [
    "From the summary dataframe, we can see that our 'Mean Portfolio' had higher cumulative returns than all selected stocks except for NVDA. NVDA had an exceptional run during this time period, with a cumulative return of over 600%. However, it would have been incredibily lucky to just have chosen NVDA out of all the other stocks. Also, even though the 'Mean Portfolio' actually had a lower Sharpe ratio than NVDA, it had less risk as we can see from the lower standard deviation. Other than NVDA, the 'Mean Portfolio' had the highest Sharpe ratio compared to the other options. The 'Mean Portfolio', which selected five stocks based on the highest mean daily expected returns, was still a great choice, especially compared to simply choosing the index."
   ]
  },
  {
   "cell_type": "markdown",
   "id": "f921c007",
   "metadata": {},
   "source": [
    "### Criteria to use: choose five stocks based on mean daily expected returns.\n",
    "<hr style=\"border:1px solid gray\">\n",
    "\n",
    "### Selecting Five Stocks For Current Portfolio\n",
    "\n",
    "Now, we will select five stocks to hold in a new portfolio based on the period from 2019-01-01 until now using the criteria of selecting the stocks with the highest mean daily expected returns, as this showed it had the best results. "
   ]
  },
  {
   "cell_type": "code",
   "execution_count": 153,
   "id": "0d400d8b",
   "metadata": {},
   "outputs": [],
   "source": [
    "# Subset dataframe for 2019-01-01 and later\n",
    "df_select = df[df.index >= '2019-01-01']"
   ]
  },
  {
   "cell_type": "code",
   "execution_count": 154,
   "id": "13f58159",
   "metadata": {},
   "outputs": [],
   "source": [
    "# Change values to percentage changes.\n",
    "df_select = df_select.pct_change()"
   ]
  },
  {
   "cell_type": "code",
   "execution_count": 155,
   "id": "6167f67e",
   "metadata": {},
   "outputs": [
    {
     "data": {
      "text/plain": [
       "ON      0.002792\n",
       "NVDA    0.002735\n",
       "FICO    0.002240\n",
       "CEG     0.002139\n",
       "AMD     0.002111\n",
       "dtype: float64"
      ]
     },
     "execution_count": 155,
     "metadata": {},
     "output_type": "execute_result"
    }
   ],
   "source": [
    "# Calculate mean daily expected returns and display the top five stocks with highest values.\n",
    "df_select.mean().nlargest(5)"
   ]
  },
  {
   "cell_type": "markdown",
   "id": "0e43bddf",
   "metadata": {},
   "source": [
    "## Final Results \n",
    "##### The five selected stocks to hold currently based on the analysis are:\n",
    "\n",
    "##### 1) ON - ON Semiconductor Corporation\n",
    "##### 2) NVDA - NVIDIA Corporation\n",
    "##### 3) FICO - Fair Isaac Corporation\n",
    "##### 4) CEG - Constellation Energy Corporation\n",
    "##### 5) AMD - Advanced Micro Devices, Inc."
   ]
  }
 ],
 "metadata": {
  "kernelspec": {
   "display_name": "Python 3 (ipykernel)",
   "language": "python",
   "name": "python3"
  },
  "language_info": {
   "codemirror_mode": {
    "name": "ipython",
    "version": 3
   },
   "file_extension": ".py",
   "mimetype": "text/x-python",
   "name": "python",
   "nbconvert_exporter": "python",
   "pygments_lexer": "ipython3",
   "version": "3.9.13"
  }
 },
 "nbformat": 4,
 "nbformat_minor": 5
}
